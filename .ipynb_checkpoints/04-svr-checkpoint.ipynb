{
 "cells": [
  {
   "cell_type": "code",
   "execution_count": 2,
   "metadata": {},
   "outputs": [],
   "source": [
    "# Importing Dataset\n",
    "dir = '../Machine Learning A-Z (Codes and Datasets)/Part 2 - Regression/Section 7 - Support Vector Regression (SVR)/R/Position_Salaries.csv'\n",
    "dataset = read.csv(dir)"
   ]
  },
  {
   "cell_type": "code",
   "execution_count": 3,
   "metadata": {},
   "outputs": [
    {
     "data": {
      "text/html": [
       "<table>\n",
       "<thead><tr><th scope=col>Position</th><th scope=col>Level</th><th scope=col>Salary</th></tr></thead>\n",
       "<tbody>\n",
       "\t<tr><td>Business Analyst </td><td> 1               </td><td>  45000          </td></tr>\n",
       "\t<tr><td>Junior Consultant</td><td> 2               </td><td>  50000          </td></tr>\n",
       "\t<tr><td>Senior Consultant</td><td> 3               </td><td>  60000          </td></tr>\n",
       "\t<tr><td>Manager          </td><td> 4               </td><td>  80000          </td></tr>\n",
       "\t<tr><td>Country Manager  </td><td> 5               </td><td> 110000          </td></tr>\n",
       "\t<tr><td>Region Manager   </td><td> 6               </td><td> 150000          </td></tr>\n",
       "\t<tr><td>Partner          </td><td> 7               </td><td> 200000          </td></tr>\n",
       "\t<tr><td>Senior Partner   </td><td> 8               </td><td> 300000          </td></tr>\n",
       "\t<tr><td>C-level          </td><td> 9               </td><td> 500000          </td></tr>\n",
       "\t<tr><td>CEO              </td><td>10               </td><td>1000000          </td></tr>\n",
       "</tbody>\n",
       "</table>\n"
      ],
      "text/latex": [
       "\\begin{tabular}{r|lll}\n",
       " Position & Level & Salary\\\\\n",
       "\\hline\n",
       "\t Business Analyst  &  1                &   45000          \\\\\n",
       "\t Junior Consultant &  2                &   50000          \\\\\n",
       "\t Senior Consultant &  3                &   60000          \\\\\n",
       "\t Manager           &  4                &   80000          \\\\\n",
       "\t Country Manager   &  5                &  110000          \\\\\n",
       "\t Region Manager    &  6                &  150000          \\\\\n",
       "\t Partner           &  7                &  200000          \\\\\n",
       "\t Senior Partner    &  8                &  300000          \\\\\n",
       "\t C-level           &  9                &  500000          \\\\\n",
       "\t CEO               & 10                & 1000000          \\\\\n",
       "\\end{tabular}\n"
      ],
      "text/markdown": [
       "\n",
       "| Position | Level | Salary |\n",
       "|---|---|---|\n",
       "| Business Analyst  |  1                |   45000           |\n",
       "| Junior Consultant |  2                |   50000           |\n",
       "| Senior Consultant |  3                |   60000           |\n",
       "| Manager           |  4                |   80000           |\n",
       "| Country Manager   |  5                |  110000           |\n",
       "| Region Manager    |  6                |  150000           |\n",
       "| Partner           |  7                |  200000           |\n",
       "| Senior Partner    |  8                |  300000           |\n",
       "| C-level           |  9                |  500000           |\n",
       "| CEO               | 10                | 1000000           |\n",
       "\n"
      ],
      "text/plain": [
       "   Position          Level Salary \n",
       "1  Business Analyst   1      45000\n",
       "2  Junior Consultant  2      50000\n",
       "3  Senior Consultant  3      60000\n",
       "4  Manager            4      80000\n",
       "5  Country Manager    5     110000\n",
       "6  Region Manager     6     150000\n",
       "7  Partner            7     200000\n",
       "8  Senior Partner     8     300000\n",
       "9  C-level            9     500000\n",
       "10 CEO               10    1000000"
      ]
     },
     "metadata": {},
     "output_type": "display_data"
    }
   ],
   "source": [
    "dataset"
   ]
  },
  {
   "cell_type": "code",
   "execution_count": 4,
   "metadata": {},
   "outputs": [],
   "source": [
    "dataset = dataset[2:3]"
   ]
  },
  {
   "cell_type": "code",
   "execution_count": 5,
   "metadata": {},
   "outputs": [
    {
     "data": {
      "text/html": [
       "<table>\n",
       "<thead><tr><th scope=col>Level</th><th scope=col>Salary</th></tr></thead>\n",
       "<tbody>\n",
       "\t<tr><td> 1     </td><td>  45000</td></tr>\n",
       "\t<tr><td> 2     </td><td>  50000</td></tr>\n",
       "\t<tr><td> 3     </td><td>  60000</td></tr>\n",
       "\t<tr><td> 4     </td><td>  80000</td></tr>\n",
       "\t<tr><td> 5     </td><td> 110000</td></tr>\n",
       "\t<tr><td> 6     </td><td> 150000</td></tr>\n",
       "\t<tr><td> 7     </td><td> 200000</td></tr>\n",
       "\t<tr><td> 8     </td><td> 300000</td></tr>\n",
       "\t<tr><td> 9     </td><td> 500000</td></tr>\n",
       "\t<tr><td>10     </td><td>1000000</td></tr>\n",
       "</tbody>\n",
       "</table>\n"
      ],
      "text/latex": [
       "\\begin{tabular}{r|ll}\n",
       " Level & Salary\\\\\n",
       "\\hline\n",
       "\t  1      &   45000\\\\\n",
       "\t  2      &   50000\\\\\n",
       "\t  3      &   60000\\\\\n",
       "\t  4      &   80000\\\\\n",
       "\t  5      &  110000\\\\\n",
       "\t  6      &  150000\\\\\n",
       "\t  7      &  200000\\\\\n",
       "\t  8      &  300000\\\\\n",
       "\t  9      &  500000\\\\\n",
       "\t 10      & 1000000\\\\\n",
       "\\end{tabular}\n"
      ],
      "text/markdown": [
       "\n",
       "| Level | Salary |\n",
       "|---|---|\n",
       "|  1      |   45000 |\n",
       "|  2      |   50000 |\n",
       "|  3      |   60000 |\n",
       "|  4      |   80000 |\n",
       "|  5      |  110000 |\n",
       "|  6      |  150000 |\n",
       "|  7      |  200000 |\n",
       "|  8      |  300000 |\n",
       "|  9      |  500000 |\n",
       "| 10      | 1000000 |\n",
       "\n"
      ],
      "text/plain": [
       "   Level Salary \n",
       "1   1      45000\n",
       "2   2      50000\n",
       "3   3      60000\n",
       "4   4      80000\n",
       "5   5     110000\n",
       "6   6     150000\n",
       "7   7     200000\n",
       "8   8     300000\n",
       "9   9     500000\n",
       "10 10    1000000"
      ]
     },
     "metadata": {},
     "output_type": "display_data"
    }
   ],
   "source": [
    "dataset"
   ]
  },
  {
   "cell_type": "code",
   "execution_count": 6,
   "metadata": {},
   "outputs": [],
   "source": [
    "#SPLITTING THE DATA\n",
    "#install.packages(\"caTools\")"
   ]
  },
  {
   "cell_type": "code",
   "execution_count": 7,
   "metadata": {},
   "outputs": [],
   "source": [
    "install.packages(\"c\")\n",
    "#set.seed(123)"
   ]
  },
  {
   "cell_type": "code",
   "execution_count": 12,
   "metadata": {},
   "outputs": [],
   "source": [
    "\n",
    "#split = sample.split(dataset$Purchased, SplitRatio=0.8 )\n",
    "#training_set = subset(dataset, split == TRUE)\n",
    "#test_set = subset(dataset, split==FALSE)"
   ]
  },
  {
   "cell_type": "code",
   "execution_count": 15,
   "metadata": {},
   "outputs": [],
   "source": [
    "lin_reg = lm(formula = Salary ~ . , data=dataset)"
   ]
  },
  {
   "cell_type": "code",
   "execution_count": 16,
   "metadata": {},
   "outputs": [],
   "source": [
    "dataset$Level2 = dataset$Level^2"
   ]
  },
  {
   "cell_type": "code",
   "execution_count": 17,
   "metadata": {},
   "outputs": [
    {
     "data": {
      "text/html": [
       "<table>\n",
       "<thead><tr><th scope=col>Level</th><th scope=col>Salary</th><th scope=col>Level2</th></tr></thead>\n",
       "<tbody>\n",
       "\t<tr><td> 1     </td><td>  45000</td><td>  1    </td></tr>\n",
       "\t<tr><td> 2     </td><td>  50000</td><td>  4    </td></tr>\n",
       "\t<tr><td> 3     </td><td>  60000</td><td>  9    </td></tr>\n",
       "\t<tr><td> 4     </td><td>  80000</td><td> 16    </td></tr>\n",
       "\t<tr><td> 5     </td><td> 110000</td><td> 25    </td></tr>\n",
       "\t<tr><td> 6     </td><td> 150000</td><td> 36    </td></tr>\n",
       "\t<tr><td> 7     </td><td> 200000</td><td> 49    </td></tr>\n",
       "\t<tr><td> 8     </td><td> 300000</td><td> 64    </td></tr>\n",
       "\t<tr><td> 9     </td><td> 500000</td><td> 81    </td></tr>\n",
       "\t<tr><td>10     </td><td>1000000</td><td>100    </td></tr>\n",
       "</tbody>\n",
       "</table>\n"
      ],
      "text/latex": [
       "\\begin{tabular}{r|lll}\n",
       " Level & Salary & Level2\\\\\n",
       "\\hline\n",
       "\t  1      &   45000 &   1    \\\\\n",
       "\t  2      &   50000 &   4    \\\\\n",
       "\t  3      &   60000 &   9    \\\\\n",
       "\t  4      &   80000 &  16    \\\\\n",
       "\t  5      &  110000 &  25    \\\\\n",
       "\t  6      &  150000 &  36    \\\\\n",
       "\t  7      &  200000 &  49    \\\\\n",
       "\t  8      &  300000 &  64    \\\\\n",
       "\t  9      &  500000 &  81    \\\\\n",
       "\t 10      & 1000000 & 100    \\\\\n",
       "\\end{tabular}\n"
      ],
      "text/markdown": [
       "\n",
       "| Level | Salary | Level2 |\n",
       "|---|---|---|\n",
       "|  1      |   45000 |   1     |\n",
       "|  2      |   50000 |   4     |\n",
       "|  3      |   60000 |   9     |\n",
       "|  4      |   80000 |  16     |\n",
       "|  5      |  110000 |  25     |\n",
       "|  6      |  150000 |  36     |\n",
       "|  7      |  200000 |  49     |\n",
       "|  8      |  300000 |  64     |\n",
       "|  9      |  500000 |  81     |\n",
       "| 10      | 1000000 | 100     |\n",
       "\n"
      ],
      "text/plain": [
       "   Level Salary  Level2\n",
       "1   1      45000   1   \n",
       "2   2      50000   4   \n",
       "3   3      60000   9   \n",
       "4   4      80000  16   \n",
       "5   5     110000  25   \n",
       "6   6     150000  36   \n",
       "7   7     200000  49   \n",
       "8   8     300000  64   \n",
       "9   9     500000  81   \n",
       "10 10    1000000 100   "
      ]
     },
     "metadata": {},
     "output_type": "display_data"
    }
   ],
   "source": [
    "dataset"
   ]
  },
  {
   "cell_type": "code",
   "execution_count": 18,
   "metadata": {},
   "outputs": [],
   "source": [
    "poly_reg = lm(formula = Salary ~ ., data=dataset)"
   ]
  },
  {
   "cell_type": "code",
   "execution_count": 20,
   "metadata": {},
   "outputs": [
    {
     "data": {
      "text/plain": [
       "\n",
       "Call:\n",
       "lm(formula = Salary ~ ., data = dataset)\n",
       "\n",
       "Residuals:\n",
       "    Min      1Q  Median      3Q     Max \n",
       "-112833  -68852   10682   55186  153364 \n",
       "\n",
       "Coefficients:\n",
       "            Estimate Std. Error t value Pr(>|t|)   \n",
       "(Intercept)   232167     115571   2.009  0.08451 . \n",
       "Level        -132871      48268  -2.753  0.02839 * \n",
       "Level2         19432       4276   4.544  0.00265 **\n",
       "---\n",
       "Signif. codes:  0 ‘***’ 0.001 ‘**’ 0.01 ‘*’ 0.05 ‘.’ 0.1 ‘ ’ 1\n",
       "\n",
       "Residual standard error: 98260 on 7 degrees of freedom\n",
       "Multiple R-squared:  0.9162,\tAdjusted R-squared:  0.8923 \n",
       "F-statistic: 38.27 on 2 and 7 DF,  p-value: 0.0001703\n"
      ]
     },
     "metadata": {},
     "output_type": "display_data"
    }
   ],
   "source": [
    "summary(poly_reg)"
   ]
  },
  {
   "cell_type": "code",
   "execution_count": 22,
   "metadata": {},
   "outputs": [],
   "source": [
    "library('ggplot2')"
   ]
  },
  {
   "cell_type": "code",
   "execution_count": 32,
   "metadata": {},
   "outputs": [
    {
     "data": {
      "image/png": "[encoded data removed]",
      "text/plain": [
       "plot without title"
      ]
     },
     "metadata": {},
     "output_type": "display_data"
    }
   ],
   "source": [
    "ggplot() +\n",
    "    geom_point(aes(x=dataset$Level, y=dataset$Salary),color='red') +\n",
    "    geom_line(aes(x=dataset$Level, y=predict(lin_reg, newdata=dataset)), color='orange') +\n",
    "    ggtitle('Truth or Bluff ( Linear Regression)') +\n",
    "    ylab('Salary') +\n",
    "    xlab('Level')"
   ]
  },
  {
   "cell_type": "code",
   "execution_count": 33,
   "metadata": {},
   "outputs": [
    {
     "data": {
      "image/png": "[encoded data removed]",
      "text/plain": [
       "plot without title"
      ]
     },
     "metadata": {},
     "output_type": "display_data"
    }
   ],
   "source": [
    "ggplot() +\n",
    "    geom_point(aes(x=dataset$Level, y=dataset$Salary),color='red') +\n",
    "    geom_line(aes(x=dataset$Level, y=predict(poly_reg, newdata=dataset)), color='orange') +\n",
    "    ggtitle('Truth or Bluff ( Linear Regression)') +\n",
    "    ylab('Salary') +\n",
    "    xlab('Level')"
   ]
  },
  {
   "cell_type": "code",
   "execution_count": 36,
   "metadata": {},
   "outputs": [],
   "source": [
    "y_pred =  predict(lin_reg, data.frame(Level = 6.5))"
   ]
  },
  {
   "cell_type": "code",
   "execution_count": 37,
   "metadata": {},
   "outputs": [
    {
     "data": {
      "text/html": [
       "<strong>1:</strong> 330378.787878788"
      ],
      "text/latex": [
       "\\textbf{1:} 330378.787878788"
      ],
      "text/markdown": [
       "**1:** 330378.787878788"
      ],
      "text/plain": [
       "       1 \n",
       "330378.8 "
      ]
     },
     "metadata": {},
     "output_type": "display_data"
    }
   ],
   "source": [
    "y_pred"
   ]
  },
  {
   "cell_type": "code",
   "execution_count": 41,
   "metadata": {},
   "outputs": [],
   "source": [
    "y_pred =  predict(poly_reg, data.frame(Level = 6.5,\n",
    "                                      Level2=6.5^2))"
   ]
  },
  {
   "cell_type": "code",
   "execution_count": 42,
   "metadata": {},
   "outputs": [
    {
     "data": {
      "text/html": [
       "<strong>1:</strong> 189498.106060606"
      ],
      "text/latex": [
       "\\textbf{1:} 189498.106060606"
      ],
      "text/markdown": [
       "**1:** 189498.106060606"
      ],
      "text/plain": [
       "       1 \n",
       "189498.1 "
      ]
     },
     "metadata": {},
     "output_type": "display_data"
    }
   ],
   "source": [
    "y_pred"
   ]
  },
  {
   "cell_type": "code",
   "execution_count": null,
   "metadata": {},
   "outputs": [],
   "source": []
  }
 ],
 "metadata": {
  "kernelspec": {
   "display_name": "R",
   "language": "R",
   "name": "ir"
  },
  "language_info": {
   "codemirror_mode": "r",
   "file_extension": ".r",
   "mimetype": "text/x-r-source",
   "name": "R",
   "pygments_lexer": "r",
   "version": "3.6.1"
  }
 },
 "nbformat": 4,
 "nbformat_minor": 4
}
