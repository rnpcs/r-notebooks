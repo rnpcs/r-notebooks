{
 "cells": [
  {
   "cell_type": "code",
   "execution_count": 3,
   "metadata": {},
   "outputs": [],
   "source": [
    "# Importing Dataset\n",
    "dir =  '../Machine Learning A-Z (Codes and Datasets)/Part 2 - Regression/Section 4 - Simple Linear Regression/R/Salary_Data.csv'\n",
    "dataset = read.csv(dir)"
   ]
  },
  {
   "cell_type": "code",
   "execution_count": 4,
   "metadata": {},
   "outputs": [
    {
     "data": {
      "text/html": [
       "<table>\n",
       "<thead><tr><th scope=col>YearsExperience</th><th scope=col>Salary</th></tr></thead>\n",
       "<tbody>\n",
       "\t<tr><td> 1.1  </td><td> 39343</td></tr>\n",
       "\t<tr><td> 1.3  </td><td> 46205</td></tr>\n",
       "\t<tr><td> 1.5  </td><td> 37731</td></tr>\n",
       "\t<tr><td> 2.0  </td><td> 43525</td></tr>\n",
       "\t<tr><td> 2.2  </td><td> 39891</td></tr>\n",
       "\t<tr><td> 2.9  </td><td> 56642</td></tr>\n",
       "\t<tr><td> 3.0  </td><td> 60150</td></tr>\n",
       "\t<tr><td> 3.2  </td><td> 54445</td></tr>\n",
       "\t<tr><td> 3.2  </td><td> 64445</td></tr>\n",
       "\t<tr><td> 3.7  </td><td> 57189</td></tr>\n",
       "\t<tr><td> 3.9  </td><td> 63218</td></tr>\n",
       "\t<tr><td> 4.0  </td><td> 55794</td></tr>\n",
       "\t<tr><td> 4.0  </td><td> 56957</td></tr>\n",
       "\t<tr><td> 4.1  </td><td> 57081</td></tr>\n",
       "\t<tr><td> 4.5  </td><td> 61111</td></tr>\n",
       "\t<tr><td> 4.9  </td><td> 67938</td></tr>\n",
       "\t<tr><td> 5.1  </td><td> 66029</td></tr>\n",
       "\t<tr><td> 5.3  </td><td> 83088</td></tr>\n",
       "\t<tr><td> 5.9  </td><td> 81363</td></tr>\n",
       "\t<tr><td> 6.0  </td><td> 93940</td></tr>\n",
       "\t<tr><td> 6.8  </td><td> 91738</td></tr>\n",
       "\t<tr><td> 7.1  </td><td> 98273</td></tr>\n",
       "\t<tr><td> 7.9  </td><td>101302</td></tr>\n",
       "\t<tr><td> 8.2  </td><td>113812</td></tr>\n",
       "\t<tr><td> 8.7  </td><td>109431</td></tr>\n",
       "\t<tr><td> 9.0  </td><td>105582</td></tr>\n",
       "\t<tr><td> 9.5  </td><td>116969</td></tr>\n",
       "\t<tr><td> 9.6  </td><td>112635</td></tr>\n",
       "\t<tr><td>10.3  </td><td>122391</td></tr>\n",
       "\t<tr><td>10.5  </td><td>121872</td></tr>\n",
       "</tbody>\n",
       "</table>\n"
      ],
      "text/latex": [
       "\\begin{tabular}{r|ll}\n",
       " YearsExperience & Salary\\\\\n",
       "\\hline\n",
       "\t  1.1   &  39343\\\\\n",
       "\t  1.3   &  46205\\\\\n",
       "\t  1.5   &  37731\\\\\n",
       "\t  2.0   &  43525\\\\\n",
       "\t  2.2   &  39891\\\\\n",
       "\t  2.9   &  56642\\\\\n",
       "\t  3.0   &  60150\\\\\n",
       "\t  3.2   &  54445\\\\\n",
       "\t  3.2   &  64445\\\\\n",
       "\t  3.7   &  57189\\\\\n",
       "\t  3.9   &  63218\\\\\n",
       "\t  4.0   &  55794\\\\\n",
       "\t  4.0   &  56957\\\\\n",
       "\t  4.1   &  57081\\\\\n",
       "\t  4.5   &  61111\\\\\n",
       "\t  4.9   &  67938\\\\\n",
       "\t  5.1   &  66029\\\\\n",
       "\t  5.3   &  83088\\\\\n",
       "\t  5.9   &  81363\\\\\n",
       "\t  6.0   &  93940\\\\\n",
       "\t  6.8   &  91738\\\\\n",
       "\t  7.1   &  98273\\\\\n",
       "\t  7.9   & 101302\\\\\n",
       "\t  8.2   & 113812\\\\\n",
       "\t  8.7   & 109431\\\\\n",
       "\t  9.0   & 105582\\\\\n",
       "\t  9.5   & 116969\\\\\n",
       "\t  9.6   & 112635\\\\\n",
       "\t 10.3   & 122391\\\\\n",
       "\t 10.5   & 121872\\\\\n",
       "\\end{tabular}\n"
      ],
      "text/markdown": [
       "\n",
       "| YearsExperience | Salary |\n",
       "|---|---|\n",
       "|  1.1   |  39343 |\n",
       "|  1.3   |  46205 |\n",
       "|  1.5   |  37731 |\n",
       "|  2.0   |  43525 |\n",
       "|  2.2   |  39891 |\n",
       "|  2.9   |  56642 |\n",
       "|  3.0   |  60150 |\n",
       "|  3.2   |  54445 |\n",
       "|  3.2   |  64445 |\n",
       "|  3.7   |  57189 |\n",
       "|  3.9   |  63218 |\n",
       "|  4.0   |  55794 |\n",
       "|  4.0   |  56957 |\n",
       "|  4.1   |  57081 |\n",
       "|  4.5   |  61111 |\n",
       "|  4.9   |  67938 |\n",
       "|  5.1   |  66029 |\n",
       "|  5.3   |  83088 |\n",
       "|  5.9   |  81363 |\n",
       "|  6.0   |  93940 |\n",
       "|  6.8   |  91738 |\n",
       "|  7.1   |  98273 |\n",
       "|  7.9   | 101302 |\n",
       "|  8.2   | 113812 |\n",
       "|  8.7   | 109431 |\n",
       "|  9.0   | 105582 |\n",
       "|  9.5   | 116969 |\n",
       "|  9.6   | 112635 |\n",
       "| 10.3   | 122391 |\n",
       "| 10.5   | 121872 |\n",
       "\n"
      ],
      "text/plain": [
       "   YearsExperience Salary\n",
       "1   1.1             39343\n",
       "2   1.3             46205\n",
       "3   1.5             37731\n",
       "4   2.0             43525\n",
       "5   2.2             39891\n",
       "6   2.9             56642\n",
       "7   3.0             60150\n",
       "8   3.2             54445\n",
       "9   3.2             64445\n",
       "10  3.7             57189\n",
       "11  3.9             63218\n",
       "12  4.0             55794\n",
       "13  4.0             56957\n",
       "14  4.1             57081\n",
       "15  4.5             61111\n",
       "16  4.9             67938\n",
       "17  5.1             66029\n",
       "18  5.3             83088\n",
       "19  5.9             81363\n",
       "20  6.0             93940\n",
       "21  6.8             91738\n",
       "22  7.1             98273\n",
       "23  7.9            101302\n",
       "24  8.2            113812\n",
       "25  8.7            109431\n",
       "26  9.0            105582\n",
       "27  9.5            116969\n",
       "28  9.6            112635\n",
       "29 10.3            122391\n",
       "30 10.5            121872"
      ]
     },
     "metadata": {},
     "output_type": "display_data"
    }
   ],
   "source": [
    "dataset"
   ]
  },
  {
   "cell_type": "code",
   "execution_count": 32,
   "metadata": {},
   "outputs": [
    {
     "data": {
      "text/html": [
       "<table>\n",
       "<thead><tr><th scope=col>Country</th><th scope=col>Age</th><th scope=col>Salary</th><th scope=col>Purchased</th></tr></thead>\n",
       "<tbody>\n",
       "\t<tr><td>France  </td><td>44.00000</td><td>72000.00</td><td>No      </td></tr>\n",
       "\t<tr><td>Spain   </td><td>27.00000</td><td>48000.00</td><td>Yes     </td></tr>\n",
       "\t<tr><td>Germany </td><td>30.00000</td><td>54000.00</td><td>No      </td></tr>\n",
       "\t<tr><td>Spain   </td><td>38.00000</td><td>61000.00</td><td>No      </td></tr>\n",
       "\t<tr><td>Germany </td><td>40.00000</td><td>63777.78</td><td>Yes     </td></tr>\n",
       "\t<tr><td>France  </td><td>35.00000</td><td>58000.00</td><td>Yes     </td></tr>\n",
       "\t<tr><td>Spain   </td><td>38.77778</td><td>52000.00</td><td>No      </td></tr>\n",
       "\t<tr><td>France  </td><td>48.00000</td><td>79000.00</td><td>Yes     </td></tr>\n",
       "\t<tr><td>Germany </td><td>50.00000</td><td>83000.00</td><td>No      </td></tr>\n",
       "\t<tr><td>France  </td><td>37.00000</td><td>67000.00</td><td>Yes     </td></tr>\n",
       "</tbody>\n",
       "</table>\n"
      ],
      "text/latex": [
       "\\begin{tabular}{r|llll}\n",
       " Country & Age & Salary & Purchased\\\\\n",
       "\\hline\n",
       "\t France   & 44.00000 & 72000.00 & No      \\\\\n",
       "\t Spain    & 27.00000 & 48000.00 & Yes     \\\\\n",
       "\t Germany  & 30.00000 & 54000.00 & No      \\\\\n",
       "\t Spain    & 38.00000 & 61000.00 & No      \\\\\n",
       "\t Germany  & 40.00000 & 63777.78 & Yes     \\\\\n",
       "\t France   & 35.00000 & 58000.00 & Yes     \\\\\n",
       "\t Spain    & 38.77778 & 52000.00 & No      \\\\\n",
       "\t France   & 48.00000 & 79000.00 & Yes     \\\\\n",
       "\t Germany  & 50.00000 & 83000.00 & No      \\\\\n",
       "\t France   & 37.00000 & 67000.00 & Yes     \\\\\n",
       "\\end{tabular}\n"
      ],
      "text/markdown": [
       "\n",
       "| Country | Age | Salary | Purchased |\n",
       "|---|---|---|---|\n",
       "| France   | 44.00000 | 72000.00 | No       |\n",
       "| Spain    | 27.00000 | 48000.00 | Yes      |\n",
       "| Germany  | 30.00000 | 54000.00 | No       |\n",
       "| Spain    | 38.00000 | 61000.00 | No       |\n",
       "| Germany  | 40.00000 | 63777.78 | Yes      |\n",
       "| France   | 35.00000 | 58000.00 | Yes      |\n",
       "| Spain    | 38.77778 | 52000.00 | No       |\n",
       "| France   | 48.00000 | 79000.00 | Yes      |\n",
       "| Germany  | 50.00000 | 83000.00 | No       |\n",
       "| France   | 37.00000 | 67000.00 | Yes      |\n",
       "\n"
      ],
      "text/plain": [
       "   Country Age      Salary   Purchased\n",
       "1  France  44.00000 72000.00 No       \n",
       "2  Spain   27.00000 48000.00 Yes      \n",
       "3  Germany 30.00000 54000.00 No       \n",
       "4  Spain   38.00000 61000.00 No       \n",
       "5  Germany 40.00000 63777.78 Yes      \n",
       "6  France  35.00000 58000.00 Yes      \n",
       "7  Spain   38.77778 52000.00 No       \n",
       "8  France  48.00000 79000.00 Yes      \n",
       "9  Germany 50.00000 83000.00 No       \n",
       "10 France  37.00000 67000.00 Yes      "
      ]
     },
     "metadata": {},
     "output_type": "display_data"
    }
   ],
   "source": [
    "dataset"
   ]
  },
  {
   "cell_type": "code",
   "execution_count": 33,
   "metadata": {},
   "outputs": [
    {
     "data": {
      "text/html": [
       "<ol class=list-inline>\n",
       "\t<li>France</li>\n",
       "\t<li>Spain</li>\n",
       "\t<li>Germany</li>\n",
       "\t<li>Spain</li>\n",
       "\t<li>Germany</li>\n",
       "\t<li>France</li>\n",
       "\t<li>Spain</li>\n",
       "\t<li>France</li>\n",
       "\t<li>Germany</li>\n",
       "\t<li>France</li>\n",
       "</ol>\n",
       "\n",
       "<details>\n",
       "\t<summary style=display:list-item;cursor:pointer>\n",
       "\t\t<strong>Levels</strong>:\n",
       "\t</summary>\n",
       "\t<ol class=list-inline>\n",
       "\t\t<li>'France'</li>\n",
       "\t\t<li>'Germany'</li>\n",
       "\t\t<li>'Spain'</li>\n",
       "\t</ol>\n",
       "</details>"
      ],
      "text/latex": [
       "\\begin{enumerate*}\n",
       "\\item France\n",
       "\\item Spain\n",
       "\\item Germany\n",
       "\\item Spain\n",
       "\\item Germany\n",
       "\\item France\n",
       "\\item Spain\n",
       "\\item France\n",
       "\\item Germany\n",
       "\\item France\n",
       "\\end{enumerate*}\n",
       "\n",
       "\\emph{Levels}: \\begin{enumerate*}\n",
       "\\item 'France'\n",
       "\\item 'Germany'\n",
       "\\item 'Spain'\n",
       "\\end{enumerate*}\n"
      ],
      "text/markdown": [
       "1. France\n",
       "2. Spain\n",
       "3. Germany\n",
       "4. Spain\n",
       "5. Germany\n",
       "6. France\n",
       "7. Spain\n",
       "8. France\n",
       "9. Germany\n",
       "10. France\n",
       "\n",
       "\n",
       "\n",
       "**Levels**: 1. 'France'\n",
       "2. 'Germany'\n",
       "3. 'Spain'\n",
       "\n",
       "\n"
      ],
      "text/plain": [
       " [1] France  Spain   Germany Spain   Germany France  Spain   France  Germany\n",
       "[10] France \n",
       "Levels: France Germany Spain"
      ]
     },
     "metadata": {},
     "output_type": "display_data"
    }
   ],
   "source": [
    "dataset$Country"
   ]
  },
  {
   "cell_type": "code",
   "execution_count": 34,
   "metadata": {},
   "outputs": [],
   "source": [
    "dataset$Country = factor(dataset$Country,\n",
    "                        levels = c('France', 'Spain', 'Germany'),\n",
    "                        labels = c( 1, 2, 3))"
   ]
  },
  {
   "cell_type": "code",
   "execution_count": 35,
   "metadata": {},
   "outputs": [],
   "source": [
    "dataset$Purchased = factor(dataset$Purchased,\n",
    "                        levels = c('Yes', 'No'),\n",
    "                        labels = c( 1, 2))"
   ]
  },
  {
   "cell_type": "code",
   "execution_count": 37,
   "metadata": {},
   "outputs": [
    {
     "data": {
      "text/html": [
       "<table>\n",
       "<thead><tr><th scope=col>Country</th><th scope=col>Age</th><th scope=col>Salary</th><th scope=col>Purchased</th></tr></thead>\n",
       "<tbody>\n",
       "\t<tr><td>1       </td><td>44.00000</td><td>72000.00</td><td>2       </td></tr>\n",
       "\t<tr><td>2       </td><td>27.00000</td><td>48000.00</td><td>1       </td></tr>\n",
       "\t<tr><td>3       </td><td>30.00000</td><td>54000.00</td><td>2       </td></tr>\n",
       "\t<tr><td>2       </td><td>38.00000</td><td>61000.00</td><td>2       </td></tr>\n",
       "\t<tr><td>3       </td><td>40.00000</td><td>63777.78</td><td>1       </td></tr>\n",
       "\t<tr><td>1       </td><td>35.00000</td><td>58000.00</td><td>1       </td></tr>\n",
       "\t<tr><td>2       </td><td>38.77778</td><td>52000.00</td><td>2       </td></tr>\n",
       "\t<tr><td>1       </td><td>48.00000</td><td>79000.00</td><td>1       </td></tr>\n",
       "\t<tr><td>3       </td><td>50.00000</td><td>83000.00</td><td>2       </td></tr>\n",
       "\t<tr><td>1       </td><td>37.00000</td><td>67000.00</td><td>1       </td></tr>\n",
       "</tbody>\n",
       "</table>\n"
      ],
      "text/latex": [
       "\\begin{tabular}{r|llll}\n",
       " Country & Age & Salary & Purchased\\\\\n",
       "\\hline\n",
       "\t 1        & 44.00000 & 72000.00 & 2       \\\\\n",
       "\t 2        & 27.00000 & 48000.00 & 1       \\\\\n",
       "\t 3        & 30.00000 & 54000.00 & 2       \\\\\n",
       "\t 2        & 38.00000 & 61000.00 & 2       \\\\\n",
       "\t 3        & 40.00000 & 63777.78 & 1       \\\\\n",
       "\t 1        & 35.00000 & 58000.00 & 1       \\\\\n",
       "\t 2        & 38.77778 & 52000.00 & 2       \\\\\n",
       "\t 1        & 48.00000 & 79000.00 & 1       \\\\\n",
       "\t 3        & 50.00000 & 83000.00 & 2       \\\\\n",
       "\t 1        & 37.00000 & 67000.00 & 1       \\\\\n",
       "\\end{tabular}\n"
      ],
      "text/markdown": [
       "\n",
       "| Country | Age | Salary | Purchased |\n",
       "|---|---|---|---|\n",
       "| 1        | 44.00000 | 72000.00 | 2        |\n",
       "| 2        | 27.00000 | 48000.00 | 1        |\n",
       "| 3        | 30.00000 | 54000.00 | 2        |\n",
       "| 2        | 38.00000 | 61000.00 | 2        |\n",
       "| 3        | 40.00000 | 63777.78 | 1        |\n",
       "| 1        | 35.00000 | 58000.00 | 1        |\n",
       "| 2        | 38.77778 | 52000.00 | 2        |\n",
       "| 1        | 48.00000 | 79000.00 | 1        |\n",
       "| 3        | 50.00000 | 83000.00 | 2        |\n",
       "| 1        | 37.00000 | 67000.00 | 1        |\n",
       "\n"
      ],
      "text/plain": [
       "   Country Age      Salary   Purchased\n",
       "1  1       44.00000 72000.00 2        \n",
       "2  2       27.00000 48000.00 1        \n",
       "3  3       30.00000 54000.00 2        \n",
       "4  2       38.00000 61000.00 2        \n",
       "5  3       40.00000 63777.78 1        \n",
       "6  1       35.00000 58000.00 1        \n",
       "7  2       38.77778 52000.00 2        \n",
       "8  1       48.00000 79000.00 1        \n",
       "9  3       50.00000 83000.00 2        \n",
       "10 1       37.00000 67000.00 1        "
      ]
     },
     "metadata": {},
     "output_type": "display_data"
    }
   ],
   "source": [
    "dataset"
   ]
  },
  {
   "cell_type": "code",
   "execution_count": 38,
   "metadata": {},
   "outputs": [
    {
     "name": "stderr",
     "output_type": "stream",
     "text": [
      "also installing the dependency ‘bitops’\n",
      "\n",
      "Updating HTML index of packages in '.Library'\n",
      "Making 'packages.html' ... done\n"
     ]
    }
   ],
   "source": [
    "#SPLITTING THE DATA\n",
    "install.packages(\"caTools\")"
   ]
  },
  {
   "cell_type": "code",
   "execution_count": 40,
   "metadata": {},
   "outputs": [],
   "source": [
    "library('caTools')\n",
    "set.seed(123)"
   ]
  },
  {
   "cell_type": "code",
   "execution_count": 48,
   "metadata": {},
   "outputs": [],
   "source": [
    "split = sample.split(dataset$Purchased, SplitRatio=0.8 )\n",
    "training_set = subset(dataset, split == TRUE)\n",
    "test_set = subset(dataset, split==FALSE)"
   ]
  },
  {
   "cell_type": "code",
   "execution_count": 49,
   "metadata": {},
   "outputs": [
    {
     "data": {
      "text/html": [
       "<table>\n",
       "<thead><tr><th></th><th scope=col>Country</th><th scope=col>Age</th><th scope=col>Salary</th><th scope=col>Purchased</th></tr></thead>\n",
       "<tbody>\n",
       "\t<tr><th scope=row>1</th><td>1       </td><td>44.00000</td><td>72000.00</td><td>2       </td></tr>\n",
       "\t<tr><th scope=row>2</th><td>2       </td><td>27.00000</td><td>48000.00</td><td>1       </td></tr>\n",
       "\t<tr><th scope=row>4</th><td>2       </td><td>38.00000</td><td>61000.00</td><td>2       </td></tr>\n",
       "\t<tr><th scope=row>5</th><td>3       </td><td>40.00000</td><td>63777.78</td><td>1       </td></tr>\n",
       "\t<tr><th scope=row>6</th><td>1       </td><td>35.00000</td><td>58000.00</td><td>1       </td></tr>\n",
       "\t<tr><th scope=row>7</th><td>2       </td><td>38.77778</td><td>52000.00</td><td>2       </td></tr>\n",
       "\t<tr><th scope=row>8</th><td>1       </td><td>48.00000</td><td>79000.00</td><td>1       </td></tr>\n",
       "\t<tr><th scope=row>9</th><td>3       </td><td>50.00000</td><td>83000.00</td><td>2       </td></tr>\n",
       "</tbody>\n",
       "</table>\n"
      ],
      "text/latex": [
       "\\begin{tabular}{r|llll}\n",
       "  & Country & Age & Salary & Purchased\\\\\n",
       "\\hline\n",
       "\t1 & 1        & 44.00000 & 72000.00 & 2       \\\\\n",
       "\t2 & 2        & 27.00000 & 48000.00 & 1       \\\\\n",
       "\t4 & 2        & 38.00000 & 61000.00 & 2       \\\\\n",
       "\t5 & 3        & 40.00000 & 63777.78 & 1       \\\\\n",
       "\t6 & 1        & 35.00000 & 58000.00 & 1       \\\\\n",
       "\t7 & 2        & 38.77778 & 52000.00 & 2       \\\\\n",
       "\t8 & 1        & 48.00000 & 79000.00 & 1       \\\\\n",
       "\t9 & 3        & 50.00000 & 83000.00 & 2       \\\\\n",
       "\\end{tabular}\n"
      ],
      "text/markdown": [
       "\n",
       "| <!--/--> | Country | Age | Salary | Purchased |\n",
       "|---|---|---|---|---|\n",
       "| 1 | 1        | 44.00000 | 72000.00 | 2        |\n",
       "| 2 | 2        | 27.00000 | 48000.00 | 1        |\n",
       "| 4 | 2        | 38.00000 | 61000.00 | 2        |\n",
       "| 5 | 3        | 40.00000 | 63777.78 | 1        |\n",
       "| 6 | 1        | 35.00000 | 58000.00 | 1        |\n",
       "| 7 | 2        | 38.77778 | 52000.00 | 2        |\n",
       "| 8 | 1        | 48.00000 | 79000.00 | 1        |\n",
       "| 9 | 3        | 50.00000 | 83000.00 | 2        |\n",
       "\n"
      ],
      "text/plain": [
       "  Country Age      Salary   Purchased\n",
       "1 1       44.00000 72000.00 2        \n",
       "2 2       27.00000 48000.00 1        \n",
       "4 2       38.00000 61000.00 2        \n",
       "5 3       40.00000 63777.78 1        \n",
       "6 1       35.00000 58000.00 1        \n",
       "7 2       38.77778 52000.00 2        \n",
       "8 1       48.00000 79000.00 1        \n",
       "9 3       50.00000 83000.00 2        "
      ]
     },
     "metadata": {},
     "output_type": "display_data"
    }
   ],
   "source": [
    "training_set"
   ]
  },
  {
   "cell_type": "code",
   "execution_count": 50,
   "metadata": {},
   "outputs": [
    {
     "data": {
      "text/html": [
       "<table>\n",
       "<thead><tr><th></th><th scope=col>Country</th><th scope=col>Age</th><th scope=col>Salary</th><th scope=col>Purchased</th></tr></thead>\n",
       "<tbody>\n",
       "\t<tr><th scope=row>3</th><td>3    </td><td>30   </td><td>54000</td><td>2    </td></tr>\n",
       "\t<tr><th scope=row>10</th><td>1    </td><td>37   </td><td>67000</td><td>1    </td></tr>\n",
       "</tbody>\n",
       "</table>\n"
      ],
      "text/latex": [
       "\\begin{tabular}{r|llll}\n",
       "  & Country & Age & Salary & Purchased\\\\\n",
       "\\hline\n",
       "\t3 & 3     & 30    & 54000 & 2    \\\\\n",
       "\t10 & 1     & 37    & 67000 & 1    \\\\\n",
       "\\end{tabular}\n"
      ],
      "text/markdown": [
       "\n",
       "| <!--/--> | Country | Age | Salary | Purchased |\n",
       "|---|---|---|---|---|\n",
       "| 3 | 3     | 30    | 54000 | 2     |\n",
       "| 10 | 1     | 37    | 67000 | 1     |\n",
       "\n"
      ],
      "text/plain": [
       "   Country Age Salary Purchased\n",
       "3  3       30  54000  2        \n",
       "10 1       37  67000  1        "
      ]
     },
     "metadata": {},
     "output_type": "display_data"
    }
   ],
   "source": [
    "test_set"
   ]
  },
  {
   "cell_type": "code",
   "execution_count": 57,
   "metadata": {},
   "outputs": [],
   "source": [
    "#Feature Scaling\n",
    "training_set[,2:3] = scale(training_set[,2:3])\n",
    "test_set[,2:3] = scale(test_set[,2:3])"
   ]
  },
  {
   "cell_type": "code",
   "execution_count": 58,
   "metadata": {},
   "outputs": [
    {
     "data": {
      "text/html": [
       "<table>\n",
       "<thead><tr><th></th><th scope=col>Country</th><th scope=col>Age</th><th scope=col>Salary</th><th scope=col>Purchased</th></tr></thead>\n",
       "<tbody>\n",
       "\t<tr><th scope=row>1</th><td>1          </td><td> 0.53010727</td><td> 0.59264339</td><td>2          </td></tr>\n",
       "\t<tr><th scope=row>2</th><td>2          </td><td>-1.77897208</td><td>-1.32872204</td><td>1          </td></tr>\n",
       "\t<tr><th scope=row>4</th><td>2          </td><td>-0.28486191</td><td>-0.28798243</td><td>2          </td></tr>\n",
       "\t<tr><th scope=row>5</th><td>3          </td><td>-0.01320552</td><td>-0.06560218</td><td>1          </td></tr>\n",
       "\t<tr><th scope=row>6</th><td>1          </td><td>-0.69234650</td><td>-0.52815311</td><td>1          </td></tr>\n",
       "\t<tr><th scope=row>7</th><td>2          </td><td>-0.17921776</td><td>-1.00849447</td><td>2          </td></tr>\n",
       "\t<tr><th scope=row>8</th><td>1          </td><td> 1.07342005</td><td> 1.15304164</td><td>1          </td></tr>\n",
       "\t<tr><th scope=row>9</th><td>3          </td><td> 1.34507645</td><td> 1.47326921</td><td>2          </td></tr>\n",
       "</tbody>\n",
       "</table>\n"
      ],
      "text/latex": [
       "\\begin{tabular}{r|llll}\n",
       "  & Country & Age & Salary & Purchased\\\\\n",
       "\\hline\n",
       "\t1 & 1           &  0.53010727 &  0.59264339 & 2          \\\\\n",
       "\t2 & 2           & -1.77897208 & -1.32872204 & 1          \\\\\n",
       "\t4 & 2           & -0.28486191 & -0.28798243 & 2          \\\\\n",
       "\t5 & 3           & -0.01320552 & -0.06560218 & 1          \\\\\n",
       "\t6 & 1           & -0.69234650 & -0.52815311 & 1          \\\\\n",
       "\t7 & 2           & -0.17921776 & -1.00849447 & 2          \\\\\n",
       "\t8 & 1           &  1.07342005 &  1.15304164 & 1          \\\\\n",
       "\t9 & 3           &  1.34507645 &  1.47326921 & 2          \\\\\n",
       "\\end{tabular}\n"
      ],
      "text/markdown": [
       "\n",
       "| <!--/--> | Country | Age | Salary | Purchased |\n",
       "|---|---|---|---|---|\n",
       "| 1 | 1           |  0.53010727 |  0.59264339 | 2           |\n",
       "| 2 | 2           | -1.77897208 | -1.32872204 | 1           |\n",
       "| 4 | 2           | -0.28486191 | -0.28798243 | 2           |\n",
       "| 5 | 3           | -0.01320552 | -0.06560218 | 1           |\n",
       "| 6 | 1           | -0.69234650 | -0.52815311 | 1           |\n",
       "| 7 | 2           | -0.17921776 | -1.00849447 | 2           |\n",
       "| 8 | 1           |  1.07342005 |  1.15304164 | 1           |\n",
       "| 9 | 3           |  1.34507645 |  1.47326921 | 2           |\n",
       "\n"
      ],
      "text/plain": [
       "  Country Age         Salary      Purchased\n",
       "1 1        0.53010727  0.59264339 2        \n",
       "2 2       -1.77897208 -1.32872204 1        \n",
       "4 2       -0.28486191 -0.28798243 2        \n",
       "5 3       -0.01320552 -0.06560218 1        \n",
       "6 1       -0.69234650 -0.52815311 1        \n",
       "7 2       -0.17921776 -1.00849447 2        \n",
       "8 1        1.07342005  1.15304164 1        \n",
       "9 3        1.34507645  1.47326921 2        "
      ]
     },
     "metadata": {},
     "output_type": "display_data"
    }
   ],
   "source": [
    "training_set"
   ]
  },
  {
   "cell_type": "code",
   "execution_count": null,
   "metadata": {},
   "outputs": [],
   "source": []
  }
 ],
 "metadata": {
  "kernelspec": {
   "display_name": "R",
   "language": "R",
   "name": "ir"
  },
  "language_info": {
   "codemirror_mode": "r",
   "file_extension": ".r",
   "mimetype": "text/x-r-source",
   "name": "R",
   "pygments_lexer": "r",
   "version": "3.6.1"
  }
 },
 "nbformat": 4,
 "nbformat_minor": 4
}
