{
 "cells": [
  {
   "cell_type": "code",
   "execution_count": 37,
   "metadata": {},
   "outputs": [],
   "source": [
    "# Importing Dataset\n",
    "dir =  '../Machine Learning A-Z (Codes and Datasets)/Part 3 - Classification/Section 14 - Logistic Regression/R/Social_Network_Ads.csv'\n",
    "dataset = read.csv(dir)"
   ]
  },
  {
   "cell_type": "code",
   "execution_count": 38,
   "metadata": {
    "scrolled": true
   },
   "outputs": [],
   "source": [
    "dataset = dataset[2:5]"
   ]
  },
  {
   "cell_type": "code",
   "execution_count": 39,
   "metadata": {},
   "outputs": [],
   "source": [
    "dataset$Purchased = factor(dataset$Purchased, levels = c(0, 1))\n",
    "dataset$Gender = factor(dataset$Gender,\n",
    "                        levels = c('Male', 'Female'),\n",
    "                        labels = c( 1, 2))"
   ]
  },
  {
   "cell_type": "code",
   "execution_count": 40,
   "metadata": {},
   "outputs": [],
   "source": [
    "library('caTools')\n",
    "set.seed(123)"
   ]
  },
  {
   "cell_type": "code",
   "execution_count": 41,
   "metadata": {},
   "outputs": [],
   "source": [
    "split = sample.split(dataset$Purchased, SplitRatio=0.75 )\n",
    "training_set = subset(dataset, split == TRUE)\n",
    "test_set = subset(dataset, split==FALSE)"
   ]
  },
  {
   "cell_type": "code",
   "execution_count": 44,
   "metadata": {
    "scrolled": true
   },
   "outputs": [],
   "source": [
    "#Feature Scaling\n",
    "training_set[2:3] = scale(training_set[2:3])\n",
    "test_set[2:3] = scale(test_set[2:3])"
   ]
  },
  {
   "cell_type": "code",
   "execution_count": 45,
   "metadata": {
    "scrolled": true
   },
   "outputs": [
    {
     "data": {
      "text/html": [
       "400"
      ],
      "text/latex": [
       "400"
      ],
      "text/markdown": [
       "400"
      ],
      "text/plain": [
       "[1] 400"
      ]
     },
     "metadata": {},
     "output_type": "display_data"
    },
    {
     "data": {
      "text/html": [
       "300"
      ],
      "text/latex": [
       "300"
      ],
      "text/markdown": [
       "300"
      ],
      "text/plain": [
       "[1] 300"
      ]
     },
     "metadata": {},
     "output_type": "display_data"
    },
    {
     "data": {
      "text/html": [
       "100"
      ],
      "text/latex": [
       "100"
      ],
      "text/markdown": [
       "100"
      ],
      "text/plain": [
       "[1] 100"
      ]
     },
     "metadata": {},
     "output_type": "display_data"
    }
   ],
   "source": [
    "nrow(dataset)\n",
    "nrow(training_set)\n",
    "nrow(test_set)"
   ]
  },
  {
   "cell_type": "code",
   "execution_count": 48,
   "metadata": {
    "scrolled": true
   },
   "outputs": [
    {
     "data": {
      "text/html": [
       "<table>\n",
       "<thead><tr><th></th><th scope=col>Gender</th><th scope=col>Age</th><th scope=col>EstimatedSalary</th><th scope=col>Purchased</th></tr></thead>\n",
       "<tbody>\n",
       "\t<tr><th scope=row>2</th><td>1          </td><td>-0.30419063</td><td>-1.5135434 </td><td>0          </td></tr>\n",
       "\t<tr><th scope=row>4</th><td>2          </td><td>-1.05994374</td><td>-0.3245603 </td><td>0          </td></tr>\n",
       "\t<tr><th scope=row>5</th><td>1          </td><td>-1.81569686</td><td> 0.2859986 </td><td>0          </td></tr>\n",
       "\t<tr><th scope=row>9</th><td>1          </td><td>-1.24888202</td><td>-1.0957926 </td><td>0          </td></tr>\n",
       "\t<tr><th scope=row>12</th><td>2          </td><td>-1.15441288</td><td>-0.4852337 </td><td>0          </td></tr>\n",
       "\t<tr><th scope=row>18</th><td>1          </td><td> 0.64050076</td><td>-1.3207353 </td><td>1          </td></tr>\n",
       "\t<tr><th scope=row>19</th><td>1          </td><td> 0.73496990</td><td>-1.2564660 </td><td>1          </td></tr>\n",
       "\t<tr><th scope=row>20</th><td>2          </td><td> 0.92390818</td><td>-1.2243313 </td><td>1          </td></tr>\n",
       "\t<tr><th scope=row>22</th><td>2          </td><td> 0.82943904</td><td>-0.5816377 </td><td>1          </td></tr>\n",
       "\t<tr><th scope=row>29</th><td>1          </td><td>-0.87100546</td><td>-0.7744458 </td><td>0          </td></tr>\n",
       "\t<tr><th scope=row>32</th><td>2          </td><td>-1.05994374</td><td> 2.2462141 </td><td>1          </td></tr>\n",
       "\t<tr><th scope=row>34</th><td>2          </td><td>-0.96547460</td><td>-0.7423111 </td><td>0          </td></tr>\n",
       "\t<tr><th scope=row>35</th><td>1          </td><td>-1.05994374</td><td> 0.7358842 </td><td>0          </td></tr>\n",
       "\t<tr><th scope=row>38</th><td>1          </td><td>-0.77653633</td><td>-0.5816377 </td><td>0          </td></tr>\n",
       "\t<tr><th scope=row>45</th><td>2          </td><td>-0.96547460</td><td> 0.5430761 </td><td>0          </td></tr>\n",
       "\t<tr><th scope=row>46</th><td>1          </td><td>-1.43782030</td><td>-1.5135434 </td><td>0          </td></tr>\n",
       "\t<tr><th scope=row>48</th><td>2          </td><td>-1.05994374</td><td>-0.4209643 </td><td>0          </td></tr>\n",
       "\t<tr><th scope=row>52</th><td>2          </td><td>-1.91016600</td><td>-0.7423111 </td><td>0          </td></tr>\n",
       "\t<tr><th scope=row>66</th><td>1          </td><td>-1.34335116</td><td>-0.2924256 </td><td>0          </td></tr>\n",
       "\t<tr><th scope=row>69</th><td>2          </td><td>-1.53228944</td><td>-0.1317522 </td><td>0          </td></tr>\n",
       "\t<tr><th scope=row>74</th><td>2          </td><td>-0.49312891</td><td> 1.4749818 </td><td>0          </td></tr>\n",
       "\t<tr><th scope=row>75</th><td>1          </td><td>-0.58759805</td><td>-1.5778127 </td><td>0          </td></tr>\n",
       "\t<tr><th scope=row>82</th><td>1          </td><td> 0.07368593</td><td>-0.8065804 </td><td>0          </td></tr>\n",
       "\t<tr><th scope=row>84</th><td>1          </td><td>-0.30419063</td><td> 0.6716148 </td><td>0          </td></tr>\n",
       "\t<tr><th scope=row>85</th><td>2          </td><td>-0.77653633</td><td>-0.1638869 </td><td>0          </td></tr>\n",
       "\t<tr><th scope=row>86</th><td>2          </td><td>-0.68206719</td><td> 1.6356552 </td><td>1          </td></tr>\n",
       "\t<tr><th scope=row>87</th><td>1          </td><td>-1.34335116</td><td>-0.3888296 </td><td>0          </td></tr>\n",
       "\t<tr><th scope=row>89</th><td>1          </td><td>-1.15441288</td><td> 0.4466720 </td><td>0          </td></tr>\n",
       "\t<tr><th scope=row>103</th><td>2          </td><td>-0.58759805</td><td> 0.6073454 </td><td>0          </td></tr>\n",
       "\t<tr><th scope=row>104</th><td>2          </td><td>-0.49312891</td><td> 2.6318302 </td><td>1          </td></tr>\n",
       "\t<tr><th scope=row>...</th><td>...</td><td>...</td><td>...</td><td>...</td></tr>\n",
       "\t<tr><th scope=row>281</th><td>2          </td><td> 1.96306872</td><td> 0.67161480</td><td>1          </td></tr>\n",
       "\t<tr><th scope=row>286</th><td>2          </td><td>-0.11525235</td><td> 0.83228819</td><td>1          </td></tr>\n",
       "\t<tr><th scope=row>292</th><td>1          </td><td> 1.01837732</td><td> 0.70374947</td><td>1          </td></tr>\n",
       "\t<tr><th scope=row>299</th><td>1          </td><td> 0.64050076</td><td> 0.38240268</td><td>0          </td></tr>\n",
       "\t<tr><th scope=row>302</th><td>1          </td><td> 0.92390818</td><td> 0.22172929</td><td>1          </td></tr>\n",
       "\t<tr><th scope=row>305</th><td>2          </td><td> 0.16815507</td><td>-0.22815622</td><td>0          </td></tr>\n",
       "\t<tr><th scope=row>307</th><td>2          </td><td> 1.20731560</td><td> 2.14981004</td><td>0          </td></tr>\n",
       "\t<tr><th scope=row>310</th><td>2          </td><td>-0.02078321</td><td>-0.54950301</td><td>0          </td></tr>\n",
       "\t<tr><th scope=row>316</th><td>2          </td><td> 0.07368593</td><td> 0.25386397</td><td>1          </td></tr>\n",
       "\t<tr><th scope=row>324</th><td>2          </td><td> 0.92390818</td><td>-1.19219660</td><td>1          </td></tr>\n",
       "\t<tr><th scope=row>326</th><td>2          </td><td> 0.26262421</td><td>-0.22815622</td><td>0          </td></tr>\n",
       "\t<tr><th scope=row>332</th><td>2          </td><td> 0.92390818</td><td> 1.66778985</td><td>1          </td></tr>\n",
       "\t<tr><th scope=row>339</th><td>2          </td><td>-0.02078321</td><td>-0.38882962</td><td>0          </td></tr>\n",
       "\t<tr><th scope=row>341</th><td>2          </td><td> 1.39625388</td><td> 1.18576966</td><td>1          </td></tr>\n",
       "\t<tr><th scope=row>343</th><td>2          </td><td>-0.02078321</td><td>-0.06748283</td><td>0          </td></tr>\n",
       "\t<tr><th scope=row>347</th><td>1          </td><td> 1.39625388</td><td> 0.15745993</td><td>1          </td></tr>\n",
       "\t<tr><th scope=row>353</th><td>2          </td><td> 0.35709335</td><td> 0.73588415</td><td>1          </td></tr>\n",
       "\t<tr><th scope=row>363</th><td>2          </td><td> 0.82943904</td><td>-0.54950301</td><td>1          </td></tr>\n",
       "\t<tr><th scope=row>364</th><td>2          </td><td> 0.35709335</td><td> 0.38240268</td><td>0          </td></tr>\n",
       "\t<tr><th scope=row>367</th><td>2          </td><td> 1.86859958</td><td>-0.64590705</td><td>1          </td></tr>\n",
       "\t<tr><th scope=row>368</th><td>1          </td><td> 0.73496990</td><td> 0.67161480</td><td>1          </td></tr>\n",
       "\t<tr><th scope=row>369</th><td>1          </td><td>-0.02078321</td><td> 0.12532525</td><td>0          </td></tr>\n",
       "\t<tr><th scope=row>372</th><td>1          </td><td> 2.05753786</td><td> 0.51094140</td><td>1          </td></tr>\n",
       "\t<tr><th scope=row>373</th><td>2          </td><td> 0.07368593</td><td> 0.18959461</td><td>0          </td></tr>\n",
       "\t<tr><th scope=row>380</th><td>2          </td><td> 1.86859958</td><td>-1.41713935</td><td>1          </td></tr>\n",
       "\t<tr><th scope=row>383</th><td>2          </td><td> 0.54603163</td><td> 2.31048343</td><td>1          </td></tr>\n",
       "\t<tr><th scope=row>389</th><td>1          </td><td> 0.82943904</td><td>-1.06365788</td><td>1          </td></tr>\n",
       "\t<tr><th scope=row>392</th><td>1          </td><td> 0.82943904</td><td>-1.41713935</td><td>1          </td></tr>\n",
       "\t<tr><th scope=row>395</th><td>2          </td><td> 0.07368593</td><td>-0.26029090</td><td>0          </td></tr>\n",
       "\t<tr><th scope=row>400</th><td>2          </td><td> 1.01837732</td><td>-0.99938852</td><td>1          </td></tr>\n",
       "</tbody>\n",
       "</table>\n"
      ],
      "text/latex": [
       "\\begin{tabular}{r|llll}\n",
       "  & Gender & Age & EstimatedSalary & Purchased\\\\\n",
       "\\hline\n",
       "\t2 & 1           & -0.30419063 & -1.5135434  & 0          \\\\\n",
       "\t4 & 2           & -1.05994374 & -0.3245603  & 0          \\\\\n",
       "\t5 & 1           & -1.81569686 &  0.2859986  & 0          \\\\\n",
       "\t9 & 1           & -1.24888202 & -1.0957926  & 0          \\\\\n",
       "\t12 & 2           & -1.15441288 & -0.4852337  & 0          \\\\\n",
       "\t18 & 1           &  0.64050076 & -1.3207353  & 1          \\\\\n",
       "\t19 & 1           &  0.73496990 & -1.2564660  & 1          \\\\\n",
       "\t20 & 2           &  0.92390818 & -1.2243313  & 1          \\\\\n",
       "\t22 & 2           &  0.82943904 & -0.5816377  & 1          \\\\\n",
       "\t29 & 1           & -0.87100546 & -0.7744458  & 0          \\\\\n",
       "\t32 & 2           & -1.05994374 &  2.2462141  & 1          \\\\\n",
       "\t34 & 2           & -0.96547460 & -0.7423111  & 0          \\\\\n",
       "\t35 & 1           & -1.05994374 &  0.7358842  & 0          \\\\\n",
       "\t38 & 1           & -0.77653633 & -0.5816377  & 0          \\\\\n",
       "\t45 & 2           & -0.96547460 &  0.5430761  & 0          \\\\\n",
       "\t46 & 1           & -1.43782030 & -1.5135434  & 0          \\\\\n",
       "\t48 & 2           & -1.05994374 & -0.4209643  & 0          \\\\\n",
       "\t52 & 2           & -1.91016600 & -0.7423111  & 0          \\\\\n",
       "\t66 & 1           & -1.34335116 & -0.2924256  & 0          \\\\\n",
       "\t69 & 2           & -1.53228944 & -0.1317522  & 0          \\\\\n",
       "\t74 & 2           & -0.49312891 &  1.4749818  & 0          \\\\\n",
       "\t75 & 1           & -0.58759805 & -1.5778127  & 0          \\\\\n",
       "\t82 & 1           &  0.07368593 & -0.8065804  & 0          \\\\\n",
       "\t84 & 1           & -0.30419063 &  0.6716148  & 0          \\\\\n",
       "\t85 & 2           & -0.77653633 & -0.1638869  & 0          \\\\\n",
       "\t86 & 2           & -0.68206719 &  1.6356552  & 1          \\\\\n",
       "\t87 & 1           & -1.34335116 & -0.3888296  & 0          \\\\\n",
       "\t89 & 1           & -1.15441288 &  0.4466720  & 0          \\\\\n",
       "\t103 & 2           & -0.58759805 &  0.6073454  & 0          \\\\\n",
       "\t104 & 2           & -0.49312891 &  2.6318302  & 1          \\\\\n",
       "\t... & ... & ... & ... & ...\\\\\n",
       "\t281 & 2           &  1.96306872 &  0.67161480 & 1          \\\\\n",
       "\t286 & 2           & -0.11525235 &  0.83228819 & 1          \\\\\n",
       "\t292 & 1           &  1.01837732 &  0.70374947 & 1          \\\\\n",
       "\t299 & 1           &  0.64050076 &  0.38240268 & 0          \\\\\n",
       "\t302 & 1           &  0.92390818 &  0.22172929 & 1          \\\\\n",
       "\t305 & 2           &  0.16815507 & -0.22815622 & 0          \\\\\n",
       "\t307 & 2           &  1.20731560 &  2.14981004 & 0          \\\\\n",
       "\t310 & 2           & -0.02078321 & -0.54950301 & 0          \\\\\n",
       "\t316 & 2           &  0.07368593 &  0.25386397 & 1          \\\\\n",
       "\t324 & 2           &  0.92390818 & -1.19219660 & 1          \\\\\n",
       "\t326 & 2           &  0.26262421 & -0.22815622 & 0          \\\\\n",
       "\t332 & 2           &  0.92390818 &  1.66778985 & 1          \\\\\n",
       "\t339 & 2           & -0.02078321 & -0.38882962 & 0          \\\\\n",
       "\t341 & 2           &  1.39625388 &  1.18576966 & 1          \\\\\n",
       "\t343 & 2           & -0.02078321 & -0.06748283 & 0          \\\\\n",
       "\t347 & 1           &  1.39625388 &  0.15745993 & 1          \\\\\n",
       "\t353 & 2           &  0.35709335 &  0.73588415 & 1          \\\\\n",
       "\t363 & 2           &  0.82943904 & -0.54950301 & 1          \\\\\n",
       "\t364 & 2           &  0.35709335 &  0.38240268 & 0          \\\\\n",
       "\t367 & 2           &  1.86859958 & -0.64590705 & 1          \\\\\n",
       "\t368 & 1           &  0.73496990 &  0.67161480 & 1          \\\\\n",
       "\t369 & 1           & -0.02078321 &  0.12532525 & 0          \\\\\n",
       "\t372 & 1           &  2.05753786 &  0.51094140 & 1          \\\\\n",
       "\t373 & 2           &  0.07368593 &  0.18959461 & 0          \\\\\n",
       "\t380 & 2           &  1.86859958 & -1.41713935 & 1          \\\\\n",
       "\t383 & 2           &  0.54603163 &  2.31048343 & 1          \\\\\n",
       "\t389 & 1           &  0.82943904 & -1.06365788 & 1          \\\\\n",
       "\t392 & 1           &  0.82943904 & -1.41713935 & 1          \\\\\n",
       "\t395 & 2           &  0.07368593 & -0.26029090 & 0          \\\\\n",
       "\t400 & 2           &  1.01837732 & -0.99938852 & 1          \\\\\n",
       "\\end{tabular}\n"
      ],
      "text/markdown": [
       "\n",
       "| <!--/--> | Gender | Age | EstimatedSalary | Purchased |\n",
       "|---|---|---|---|---|\n",
       "| 2 | 1           | -0.30419063 | -1.5135434  | 0           |\n",
       "| 4 | 2           | -1.05994374 | -0.3245603  | 0           |\n",
       "| 5 | 1           | -1.81569686 |  0.2859986  | 0           |\n",
       "| 9 | 1           | -1.24888202 | -1.0957926  | 0           |\n",
       "| 12 | 2           | -1.15441288 | -0.4852337  | 0           |\n",
       "| 18 | 1           |  0.64050076 | -1.3207353  | 1           |\n",
       "| 19 | 1           |  0.73496990 | -1.2564660  | 1           |\n",
       "| 20 | 2           |  0.92390818 | -1.2243313  | 1           |\n",
       "| 22 | 2           |  0.82943904 | -0.5816377  | 1           |\n",
       "| 29 | 1           | -0.87100546 | -0.7744458  | 0           |\n",
       "| 32 | 2           | -1.05994374 |  2.2462141  | 1           |\n",
       "| 34 | 2           | -0.96547460 | -0.7423111  | 0           |\n",
       "| 35 | 1           | -1.05994374 |  0.7358842  | 0           |\n",
       "| 38 | 1           | -0.77653633 | -0.5816377  | 0           |\n",
       "| 45 | 2           | -0.96547460 |  0.5430761  | 0           |\n",
       "| 46 | 1           | -1.43782030 | -1.5135434  | 0           |\n",
       "| 48 | 2           | -1.05994374 | -0.4209643  | 0           |\n",
       "| 52 | 2           | -1.91016600 | -0.7423111  | 0           |\n",
       "| 66 | 1           | -1.34335116 | -0.2924256  | 0           |\n",
       "| 69 | 2           | -1.53228944 | -0.1317522  | 0           |\n",
       "| 74 | 2           | -0.49312891 |  1.4749818  | 0           |\n",
       "| 75 | 1           | -0.58759805 | -1.5778127  | 0           |\n",
       "| 82 | 1           |  0.07368593 | -0.8065804  | 0           |\n",
       "| 84 | 1           | -0.30419063 |  0.6716148  | 0           |\n",
       "| 85 | 2           | -0.77653633 | -0.1638869  | 0           |\n",
       "| 86 | 2           | -0.68206719 |  1.6356552  | 1           |\n",
       "| 87 | 1           | -1.34335116 | -0.3888296  | 0           |\n",
       "| 89 | 1           | -1.15441288 |  0.4466720  | 0           |\n",
       "| 103 | 2           | -0.58759805 |  0.6073454  | 0           |\n",
       "| 104 | 2           | -0.49312891 |  2.6318302  | 1           |\n",
       "| ... | ... | ... | ... | ... |\n",
       "| 281 | 2           |  1.96306872 |  0.67161480 | 1           |\n",
       "| 286 | 2           | -0.11525235 |  0.83228819 | 1           |\n",
       "| 292 | 1           |  1.01837732 |  0.70374947 | 1           |\n",
       "| 299 | 1           |  0.64050076 |  0.38240268 | 0           |\n",
       "| 302 | 1           |  0.92390818 |  0.22172929 | 1           |\n",
       "| 305 | 2           |  0.16815507 | -0.22815622 | 0           |\n",
       "| 307 | 2           |  1.20731560 |  2.14981004 | 0           |\n",
       "| 310 | 2           | -0.02078321 | -0.54950301 | 0           |\n",
       "| 316 | 2           |  0.07368593 |  0.25386397 | 1           |\n",
       "| 324 | 2           |  0.92390818 | -1.19219660 | 1           |\n",
       "| 326 | 2           |  0.26262421 | -0.22815622 | 0           |\n",
       "| 332 | 2           |  0.92390818 |  1.66778985 | 1           |\n",
       "| 339 | 2           | -0.02078321 | -0.38882962 | 0           |\n",
       "| 341 | 2           |  1.39625388 |  1.18576966 | 1           |\n",
       "| 343 | 2           | -0.02078321 | -0.06748283 | 0           |\n",
       "| 347 | 1           |  1.39625388 |  0.15745993 | 1           |\n",
       "| 353 | 2           |  0.35709335 |  0.73588415 | 1           |\n",
       "| 363 | 2           |  0.82943904 | -0.54950301 | 1           |\n",
       "| 364 | 2           |  0.35709335 |  0.38240268 | 0           |\n",
       "| 367 | 2           |  1.86859958 | -0.64590705 | 1           |\n",
       "| 368 | 1           |  0.73496990 |  0.67161480 | 1           |\n",
       "| 369 | 1           | -0.02078321 |  0.12532525 | 0           |\n",
       "| 372 | 1           |  2.05753786 |  0.51094140 | 1           |\n",
       "| 373 | 2           |  0.07368593 |  0.18959461 | 0           |\n",
       "| 380 | 2           |  1.86859958 | -1.41713935 | 1           |\n",
       "| 383 | 2           |  0.54603163 |  2.31048343 | 1           |\n",
       "| 389 | 1           |  0.82943904 | -1.06365788 | 1           |\n",
       "| 392 | 1           |  0.82943904 | -1.41713935 | 1           |\n",
       "| 395 | 2           |  0.07368593 | -0.26029090 | 0           |\n",
       "| 400 | 2           |  1.01837732 | -0.99938852 | 1           |\n",
       "\n"
      ],
      "text/plain": [
       "    Gender Age         EstimatedSalary Purchased\n",
       "2   1      -0.30419063 -1.5135434      0        \n",
       "4   2      -1.05994374 -0.3245603      0        \n",
       "5   1      -1.81569686  0.2859986      0        \n",
       "9   1      -1.24888202 -1.0957926      0        \n",
       "12  2      -1.15441288 -0.4852337      0        \n",
       "18  1       0.64050076 -1.3207353      1        \n",
       "19  1       0.73496990 -1.2564660      1        \n",
       "20  2       0.92390818 -1.2243313      1        \n",
       "22  2       0.82943904 -0.5816377      1        \n",
       "29  1      -0.87100546 -0.7744458      0        \n",
       "32  2      -1.05994374  2.2462141      1        \n",
       "34  2      -0.96547460 -0.7423111      0        \n",
       "35  1      -1.05994374  0.7358842      0        \n",
       "38  1      -0.77653633 -0.5816377      0        \n",
       "45  2      -0.96547460  0.5430761      0        \n",
       "46  1      -1.43782030 -1.5135434      0        \n",
       "48  2      -1.05994374 -0.4209643      0        \n",
       "52  2      -1.91016600 -0.7423111      0        \n",
       "66  1      -1.34335116 -0.2924256      0        \n",
       "69  2      -1.53228944 -0.1317522      0        \n",
       "74  2      -0.49312891  1.4749818      0        \n",
       "75  1      -0.58759805 -1.5778127      0        \n",
       "82  1       0.07368593 -0.8065804      0        \n",
       "84  1      -0.30419063  0.6716148      0        \n",
       "85  2      -0.77653633 -0.1638869      0        \n",
       "86  2      -0.68206719  1.6356552      1        \n",
       "87  1      -1.34335116 -0.3888296      0        \n",
       "89  1      -1.15441288  0.4466720      0        \n",
       "103 2      -0.58759805  0.6073454      0        \n",
       "104 2      -0.49312891  2.6318302      1        \n",
       "... ...    ...         ...             ...      \n",
       "281 2       1.96306872  0.67161480     1        \n",
       "286 2      -0.11525235  0.83228819     1        \n",
       "292 1       1.01837732  0.70374947     1        \n",
       "299 1       0.64050076  0.38240268     0        \n",
       "302 1       0.92390818  0.22172929     1        \n",
       "305 2       0.16815507 -0.22815622     0        \n",
       "307 2       1.20731560  2.14981004     0        \n",
       "310 2      -0.02078321 -0.54950301     0        \n",
       "316 2       0.07368593  0.25386397     1        \n",
       "324 2       0.92390818 -1.19219660     1        \n",
       "326 2       0.26262421 -0.22815622     0        \n",
       "332 2       0.92390818  1.66778985     1        \n",
       "339 2      -0.02078321 -0.38882962     0        \n",
       "341 2       1.39625388  1.18576966     1        \n",
       "343 2      -0.02078321 -0.06748283     0        \n",
       "347 1       1.39625388  0.15745993     1        \n",
       "353 2       0.35709335  0.73588415     1        \n",
       "363 2       0.82943904 -0.54950301     1        \n",
       "364 2       0.35709335  0.38240268     0        \n",
       "367 2       1.86859958 -0.64590705     1        \n",
       "368 1       0.73496990  0.67161480     1        \n",
       "369 1      -0.02078321  0.12532525     0        \n",
       "372 1       2.05753786  0.51094140     1        \n",
       "373 2       0.07368593  0.18959461     0        \n",
       "380 2       1.86859958 -1.41713935     1        \n",
       "383 2       0.54603163  2.31048343     1        \n",
       "389 1       0.82943904 -1.06365788     1        \n",
       "392 1       0.82943904 -1.41713935     1        \n",
       "395 2       0.07368593 -0.26029090     0        \n",
       "400 2       1.01837732 -0.99938852     1        "
      ]
     },
     "metadata": {},
     "output_type": "display_data"
    }
   ],
   "source": [
    "test_set"
   ]
  },
  {
   "cell_type": "code",
   "execution_count": 46,
   "metadata": {},
   "outputs": [],
   "source": [
    "classifier = glm(formula = Purchased ~ Age + EstimatedSalary ,\n",
    "                 family = binomial,\n",
    "                 data = training_set)"
   ]
  },
  {
   "cell_type": "code",
   "execution_count": null,
   "metadata": {},
   "outputs": [],
   "source": []
  },
  {
   "cell_type": "code",
   "execution_count": 49,
   "metadata": {},
   "outputs": [],
   "source": [
    "prob_pred = predict(classifier, type = 'response', newdata=test_set[-4])"
   ]
  },
  {
   "cell_type": "code",
   "execution_count": 50,
   "metadata": {},
   "outputs": [],
   "source": [
    "y_pred = ifelse(prob_pred > 0.5, 1, 0)"
   ]
  },
  {
   "cell_type": "code",
   "execution_count": 51,
   "metadata": {
    "scrolled": true
   },
   "outputs": [
    {
     "data": {
      "text/plain": [
       "\n",
       " 0  1 \n",
       "64 36 "
      ]
     },
     "metadata": {},
     "output_type": "display_data"
    }
   ],
   "source": [
    "table(test_set$Purchased)"
   ]
  },
  {
   "cell_type": "code",
   "execution_count": 52,
   "metadata": {},
   "outputs": [
    {
     "data": {
      "text/plain": [
       "y_pred\n",
       " 0  1 \n",
       "67 33 "
      ]
     },
     "metadata": {},
     "output_type": "display_data"
    }
   ],
   "source": [
    "table(y_pred)"
   ]
  },
  {
   "cell_type": "code",
   "execution_count": 53,
   "metadata": {
    "scrolled": true
   },
   "outputs": [
    {
     "data": {
      "text/html": [
       "0.83"
      ],
      "text/latex": [
       "0.83"
      ],
      "text/markdown": [
       "0.83"
      ],
      "text/plain": [
       "[1] 0.83"
      ]
     },
     "metadata": {},
     "output_type": "display_data"
    }
   ],
   "source": [
    "mean(y_pred == test_set$Purchased)"
   ]
  },
  {
   "cell_type": "code",
   "execution_count": 54,
   "metadata": {},
   "outputs": [
    {
     "data": {
      "text/plain": [
       "\n",
       "Call:\n",
       "glm(formula = Purchased ~ Age + EstimatedSalary, family = binomial, \n",
       "    data = training_set)\n",
       "\n",
       "Deviance Residuals: \n",
       "    Min       1Q   Median       3Q      Max  \n",
       "-3.0753  -0.5235  -0.1161   0.3224   2.3977  \n",
       "\n",
       "Coefficients:\n",
       "                Estimate Std. Error z value Pr(>|z|)    \n",
       "(Intercept)      -1.1923     0.2018  -5.908 3.47e-09 ***\n",
       "Age               2.6324     0.3461   7.606 2.83e-14 ***\n",
       "EstimatedSalary   1.3947     0.2326   5.996 2.03e-09 ***\n",
       "---\n",
       "Signif. codes:  0 ‘***’ 0.001 ‘**’ 0.01 ‘*’ 0.05 ‘.’ 0.1 ‘ ’ 1\n",
       "\n",
       "(Dispersion parameter for binomial family taken to be 1)\n",
       "\n",
       "    Null deviance: 390.89  on 299  degrees of freedom\n",
       "Residual deviance: 199.78  on 297  degrees of freedom\n",
       "AIC: 205.78\n",
       "\n",
       "Number of Fisher Scoring iterations: 6\n"
      ]
     },
     "metadata": {},
     "output_type": "display_data"
    }
   ],
   "source": [
    "summary(classifier)"
   ]
  },
  {
   "cell_type": "code",
   "execution_count": 59,
   "metadata": {},
   "outputs": [],
   "source": [
    "cm = table(test_set[, 4], y_pred)"
   ]
  },
  {
   "cell_type": "code",
   "execution_count": 60,
   "metadata": {},
   "outputs": [
    {
     "data": {
      "text/plain": [
       "   y_pred\n",
       "     0  1\n",
       "  0 57  7\n",
       "  1 10 26"
      ]
     },
     "metadata": {},
     "output_type": "display_data"
    }
   ],
   "source": [
    "cm\n"
   ]
  },
  {
   "cell_type": "code",
   "execution_count": 24,
   "metadata": {},
   "outputs": [
    {
     "data": {
      "text/html": [
       "0.83"
      ],
      "text/latex": [
       "0.83"
      ],
      "text/markdown": [
       "0.83"
      ],
      "text/plain": [
       "[1] 0.83"
      ]
     },
     "metadata": {},
     "output_type": "display_data"
    }
   ],
   "source": [
    "mean(y_pred == test_set$Purchased)"
   ]
  },
  {
   "cell_type": "code",
   "execution_count": 69,
   "metadata": {},
   "outputs": [],
   "source": [
    "library('ggplot2')"
   ]
  },
  {
   "cell_type": "code",
   "execution_count": 73,
   "metadata": {},
   "outputs": [
    {
     "data": {
      "image/png": "[encoded data removed]",
      "text/plain": [
       "plot without title"
      ]
     },
     "metadata": {},
     "output_type": "display_data"
    }
   ],
   "source": [
    "ggplot() +\n",
    "    geom_point(aes(x=dataset$Age, y=dataset$EstimatedSalary),color='red') +\n",
    "    ge\n",
    "    #geom_line(aes(x=dataset$Age, y=y_pred), color='orange') +\n",
    "    #ggtitle('Truth or Bluff (Random Forest)') +\n",
    "    xlab('Age')"
   ]
  },
  {
   "cell_type": "code",
   "execution_count": null,
   "metadata": {},
   "outputs": [],
   "source": []
  }
 ],
 "metadata": {
  "kernelspec": {
   "display_name": "R",
   "language": "R",
   "name": "ir"
  },
  "language_info": {
   "codemirror_mode": "r",
   "file_extension": ".r",
   "mimetype": "text/x-r-source",
   "name": "R",
   "pygments_lexer": "r",
   "version": "3.6.1"
  }
 },
 "nbformat": 4,
 "nbformat_minor": 4
}
