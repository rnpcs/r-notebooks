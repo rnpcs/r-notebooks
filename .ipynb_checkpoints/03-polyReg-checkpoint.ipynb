{
 "cells": [
  {
   "cell_type": "code",
   "execution_count": 2,
   "metadata": {},
   "outputs": [],
   "source": [
    "# Importing Dataset\n",
    "dir = '../Machine Learning A-Z (Codes and Datasets)/Part 2 - Regression/Section 6 - Polynomial Regression/R/Position_Salaries.csv'\n",
    "dataset = read.csv(dir)"
   ]
  },
  {
   "cell_type": "code",
   "execution_count": 3,
   "metadata": {},
   "outputs": [
    {
     "data": {
      "text/html": [
       "<table>\n",
       "<thead><tr><th scope=col>Position</th><th scope=col>Level</th><th scope=col>Salary</th></tr></thead>\n",
       "<tbody>\n",
       "\t<tr><td>Business Analyst </td><td> 1               </td><td>  45000          </td></tr>\n",
       "\t<tr><td>Junior Consultant</td><td> 2               </td><td>  50000          </td></tr>\n",
       "\t<tr><td>Senior Consultant</td><td> 3               </td><td>  60000          </td></tr>\n",
       "\t<tr><td>Manager          </td><td> 4               </td><td>  80000          </td></tr>\n",
       "\t<tr><td>Country Manager  </td><td> 5               </td><td> 110000          </td></tr>\n",
       "\t<tr><td>Region Manager   </td><td> 6               </td><td> 150000          </td></tr>\n",
       "\t<tr><td>Partner          </td><td> 7               </td><td> 200000          </td></tr>\n",
       "\t<tr><td>Senior Partner   </td><td> 8               </td><td> 300000          </td></tr>\n",
       "\t<tr><td>C-level          </td><td> 9               </td><td> 500000          </td></tr>\n",
       "\t<tr><td>CEO              </td><td>10               </td><td>1000000          </td></tr>\n",
       "</tbody>\n",
       "</table>\n"
      ],
      "text/latex": [
       "\\begin{tabular}{r|lll}\n",
       " Position & Level & Salary\\\\\n",
       "\\hline\n",
       "\t Business Analyst  &  1                &   45000          \\\\\n",
       "\t Junior Consultant &  2                &   50000          \\\\\n",
       "\t Senior Consultant &  3                &   60000          \\\\\n",
       "\t Manager           &  4                &   80000          \\\\\n",
       "\t Country Manager   &  5                &  110000          \\\\\n",
       "\t Region Manager    &  6                &  150000          \\\\\n",
       "\t Partner           &  7                &  200000          \\\\\n",
       "\t Senior Partner    &  8                &  300000          \\\\\n",
       "\t C-level           &  9                &  500000          \\\\\n",
       "\t CEO               & 10                & 1000000          \\\\\n",
       "\\end{tabular}\n"
      ],
      "text/markdown": [
       "\n",
       "| Position | Level | Salary |\n",
       "|---|---|---|\n",
       "| Business Analyst  |  1                |   45000           |\n",
       "| Junior Consultant |  2                |   50000           |\n",
       "| Senior Consultant |  3                |   60000           |\n",
       "| Manager           |  4                |   80000           |\n",
       "| Country Manager   |  5                |  110000           |\n",
       "| Region Manager    |  6                |  150000           |\n",
       "| Partner           |  7                |  200000           |\n",
       "| Senior Partner    |  8                |  300000           |\n",
       "| C-level           |  9                |  500000           |\n",
       "| CEO               | 10                | 1000000           |\n",
       "\n"
      ],
      "text/plain": [
       "   Position          Level Salary \n",
       "1  Business Analyst   1      45000\n",
       "2  Junior Consultant  2      50000\n",
       "3  Senior Consultant  3      60000\n",
       "4  Manager            4      80000\n",
       "5  Country Manager    5     110000\n",
       "6  Region Manager     6     150000\n",
       "7  Partner            7     200000\n",
       "8  Senior Partner     8     300000\n",
       "9  C-level            9     500000\n",
       "10 CEO               10    1000000"
      ]
     },
     "metadata": {},
     "output_type": "display_data"
    }
   ],
   "source": [
    "dataset"
   ]
  },
  {
   "cell_type": "code",
   "execution_count": 9,
   "metadata": {},
   "outputs": [
    {
     "data": {
      "text/html": [
       "<ol class=list-inline>\n",
       "\t<li>France</li>\n",
       "\t<li>Spain</li>\n",
       "\t<li>Germany</li>\n",
       "\t<li>Spain</li>\n",
       "\t<li>Germany</li>\n",
       "\t<li>France</li>\n",
       "\t<li>Spain</li>\n",
       "\t<li>France</li>\n",
       "\t<li>Germany</li>\n",
       "\t<li>France</li>\n",
       "</ol>\n",
       "\n",
       "<details>\n",
       "\t<summary style=display:list-item;cursor:pointer>\n",
       "\t\t<strong>Levels</strong>:\n",
       "\t</summary>\n",
       "\t<ol class=list-inline>\n",
       "\t\t<li>'France'</li>\n",
       "\t\t<li>'Germany'</li>\n",
       "\t\t<li>'Spain'</li>\n",
       "\t</ol>\n",
       "</details>"
      ],
      "text/latex": [
       "\\begin{enumerate*}\n",
       "\\item France\n",
       "\\item Spain\n",
       "\\item Germany\n",
       "\\item Spain\n",
       "\\item Germany\n",
       "\\item France\n",
       "\\item Spain\n",
       "\\item France\n",
       "\\item Germany\n",
       "\\item France\n",
       "\\end{enumerate*}\n",
       "\n",
       "\\emph{Levels}: \\begin{enumerate*}\n",
       "\\item 'France'\n",
       "\\item 'Germany'\n",
       "\\item 'Spain'\n",
       "\\end{enumerate*}\n"
      ],
      "text/markdown": [
       "1. France\n",
       "2. Spain\n",
       "3. Germany\n",
       "4. Spain\n",
       "5. Germany\n",
       "6. France\n",
       "7. Spain\n",
       "8. France\n",
       "9. Germany\n",
       "10. France\n",
       "\n",
       "\n",
       "\n",
       "**Levels**: 1. 'France'\n",
       "2. 'Germany'\n",
       "3. 'Spain'\n",
       "\n",
       "\n"
      ],
      "text/plain": [
       " [1] France  Spain   Germany Spain   Germany France  Spain   France  Germany\n",
       "[10] France \n",
       "Levels: France Germany Spain"
      ]
     },
     "metadata": {},
     "output_type": "display_data"
    }
   ],
   "source": [
    "dataset$Country"
   ]
  },
  {
   "cell_type": "code",
   "execution_count": 34,
   "metadata": {},
   "outputs": [],
   "source": [
    "dataset$Country = factor(dataset$Country,\n",
    "                        levels = c('France', 'Spain', 'Germany'),\n",
    "                        labels = c( 1, 2, 3))"
   ]
  },
  {
   "cell_type": "code",
   "execution_count": 35,
   "metadata": {},
   "outputs": [],
   "source": [
    "dataset$Purchased = factor(dataset$Purchased,\n",
    "                        levels = c('Yes', 'No'),\n",
    "                        labels = c( 1, 2))"
   ]
  },
  {
   "cell_type": "code",
   "execution_count": 37,
   "metadata": {},
   "outputs": [
    {
     "data": {
      "text/html": [
       "<table>\n",
       "<thead><tr><th scope=col>Country</th><th scope=col>Age</th><th scope=col>Salary</th><th scope=col>Purchased</th></tr></thead>\n",
       "<tbody>\n",
       "\t<tr><td>1       </td><td>44.00000</td><td>72000.00</td><td>2       </td></tr>\n",
       "\t<tr><td>2       </td><td>27.00000</td><td>48000.00</td><td>1       </td></tr>\n",
       "\t<tr><td>3       </td><td>30.00000</td><td>54000.00</td><td>2       </td></tr>\n",
       "\t<tr><td>2       </td><td>38.00000</td><td>61000.00</td><td>2       </td></tr>\n",
       "\t<tr><td>3       </td><td>40.00000</td><td>63777.78</td><td>1       </td></tr>\n",
       "\t<tr><td>1       </td><td>35.00000</td><td>58000.00</td><td>1       </td></tr>\n",
       "\t<tr><td>2       </td><td>38.77778</td><td>52000.00</td><td>2       </td></tr>\n",
       "\t<tr><td>1       </td><td>48.00000</td><td>79000.00</td><td>1       </td></tr>\n",
       "\t<tr><td>3       </td><td>50.00000</td><td>83000.00</td><td>2       </td></tr>\n",
       "\t<tr><td>1       </td><td>37.00000</td><td>67000.00</td><td>1       </td></tr>\n",
       "</tbody>\n",
       "</table>\n"
      ],
      "text/latex": [
       "\\begin{tabular}{r|llll}\n",
       " Country & Age & Salary & Purchased\\\\\n",
       "\\hline\n",
       "\t 1        & 44.00000 & 72000.00 & 2       \\\\\n",
       "\t 2        & 27.00000 & 48000.00 & 1       \\\\\n",
       "\t 3        & 30.00000 & 54000.00 & 2       \\\\\n",
       "\t 2        & 38.00000 & 61000.00 & 2       \\\\\n",
       "\t 3        & 40.00000 & 63777.78 & 1       \\\\\n",
       "\t 1        & 35.00000 & 58000.00 & 1       \\\\\n",
       "\t 2        & 38.77778 & 52000.00 & 2       \\\\\n",
       "\t 1        & 48.00000 & 79000.00 & 1       \\\\\n",
       "\t 3        & 50.00000 & 83000.00 & 2       \\\\\n",
       "\t 1        & 37.00000 & 67000.00 & 1       \\\\\n",
       "\\end{tabular}\n"
      ],
      "text/markdown": [
       "\n",
       "| Country | Age | Salary | Purchased |\n",
       "|---|---|---|---|\n",
       "| 1        | 44.00000 | 72000.00 | 2        |\n",
       "| 2        | 27.00000 | 48000.00 | 1        |\n",
       "| 3        | 30.00000 | 54000.00 | 2        |\n",
       "| 2        | 38.00000 | 61000.00 | 2        |\n",
       "| 3        | 40.00000 | 63777.78 | 1        |\n",
       "| 1        | 35.00000 | 58000.00 | 1        |\n",
       "| 2        | 38.77778 | 52000.00 | 2        |\n",
       "| 1        | 48.00000 | 79000.00 | 1        |\n",
       "| 3        | 50.00000 | 83000.00 | 2        |\n",
       "| 1        | 37.00000 | 67000.00 | 1        |\n",
       "\n"
      ],
      "text/plain": [
       "   Country Age      Salary   Purchased\n",
       "1  1       44.00000 72000.00 2        \n",
       "2  2       27.00000 48000.00 1        \n",
       "3  3       30.00000 54000.00 2        \n",
       "4  2       38.00000 61000.00 2        \n",
       "5  3       40.00000 63777.78 1        \n",
       "6  1       35.00000 58000.00 1        \n",
       "7  2       38.77778 52000.00 2        \n",
       "8  1       48.00000 79000.00 1        \n",
       "9  3       50.00000 83000.00 2        \n",
       "10 1       37.00000 67000.00 1        "
      ]
     },
     "metadata": {},
     "output_type": "display_data"
    }
   ],
   "source": [
    "dataset"
   ]
  },
  {
   "cell_type": "code",
   "execution_count": 38,
   "metadata": {},
   "outputs": [
    {
     "name": "stderr",
     "output_type": "stream",
     "text": [
      "also installing the dependency ‘bitops’\n",
      "\n",
      "Updating HTML index of packages in '.Library'\n",
      "Making 'packages.html' ... done\n"
     ]
    }
   ],
   "source": [
    "#SPLITTING THE DATA\n",
    "install.packages(\"caTools\")"
   ]
  },
  {
   "cell_type": "code",
   "execution_count": 40,
   "metadata": {},
   "outputs": [],
   "source": [
    "library('caTools')\n",
    "set.seed(123)"
   ]
  },
  {
   "cell_type": "code",
   "execution_count": 48,
   "metadata": {},
   "outputs": [],
   "source": [
    "split = sample.split(dataset$Purchased, SplitRatio=0.8 )\n",
    "training_set = subset(dataset, split == TRUE)\n",
    "test_set = subset(dataset, split==FALSE)"
   ]
  },
  {
   "cell_type": "code",
   "execution_count": 49,
   "metadata": {},
   "outputs": [
    {
     "data": {
      "text/html": [
       "<table>\n",
       "<thead><tr><th></th><th scope=col>Country</th><th scope=col>Age</th><th scope=col>Salary</th><th scope=col>Purchased</th></tr></thead>\n",
       "<tbody>\n",
       "\t<tr><th scope=row>1</th><td>1       </td><td>44.00000</td><td>72000.00</td><td>2       </td></tr>\n",
       "\t<tr><th scope=row>2</th><td>2       </td><td>27.00000</td><td>48000.00</td><td>1       </td></tr>\n",
       "\t<tr><th scope=row>4</th><td>2       </td><td>38.00000</td><td>61000.00</td><td>2       </td></tr>\n",
       "\t<tr><th scope=row>5</th><td>3       </td><td>40.00000</td><td>63777.78</td><td>1       </td></tr>\n",
       "\t<tr><th scope=row>6</th><td>1       </td><td>35.00000</td><td>58000.00</td><td>1       </td></tr>\n",
       "\t<tr><th scope=row>7</th><td>2       </td><td>38.77778</td><td>52000.00</td><td>2       </td></tr>\n",
       "\t<tr><th scope=row>8</th><td>1       </td><td>48.00000</td><td>79000.00</td><td>1       </td></tr>\n",
       "\t<tr><th scope=row>9</th><td>3       </td><td>50.00000</td><td>83000.00</td><td>2       </td></tr>\n",
       "</tbody>\n",
       "</table>\n"
      ],
      "text/latex": [
       "\\begin{tabular}{r|llll}\n",
       "  & Country & Age & Salary & Purchased\\\\\n",
       "\\hline\n",
       "\t1 & 1        & 44.00000 & 72000.00 & 2       \\\\\n",
       "\t2 & 2        & 27.00000 & 48000.00 & 1       \\\\\n",
       "\t4 & 2        & 38.00000 & 61000.00 & 2       \\\\\n",
       "\t5 & 3        & 40.00000 & 63777.78 & 1       \\\\\n",
       "\t6 & 1        & 35.00000 & 58000.00 & 1       \\\\\n",
       "\t7 & 2        & 38.77778 & 52000.00 & 2       \\\\\n",
       "\t8 & 1        & 48.00000 & 79000.00 & 1       \\\\\n",
       "\t9 & 3        & 50.00000 & 83000.00 & 2       \\\\\n",
       "\\end{tabular}\n"
      ],
      "text/markdown": [
       "\n",
       "| <!--/--> | Country | Age | Salary | Purchased |\n",
       "|---|---|---|---|---|\n",
       "| 1 | 1        | 44.00000 | 72000.00 | 2        |\n",
       "| 2 | 2        | 27.00000 | 48000.00 | 1        |\n",
       "| 4 | 2        | 38.00000 | 61000.00 | 2        |\n",
       "| 5 | 3        | 40.00000 | 63777.78 | 1        |\n",
       "| 6 | 1        | 35.00000 | 58000.00 | 1        |\n",
       "| 7 | 2        | 38.77778 | 52000.00 | 2        |\n",
       "| 8 | 1        | 48.00000 | 79000.00 | 1        |\n",
       "| 9 | 3        | 50.00000 | 83000.00 | 2        |\n",
       "\n"
      ],
      "text/plain": [
       "  Country Age      Salary   Purchased\n",
       "1 1       44.00000 72000.00 2        \n",
       "2 2       27.00000 48000.00 1        \n",
       "4 2       38.00000 61000.00 2        \n",
       "5 3       40.00000 63777.78 1        \n",
       "6 1       35.00000 58000.00 1        \n",
       "7 2       38.77778 52000.00 2        \n",
       "8 1       48.00000 79000.00 1        \n",
       "9 3       50.00000 83000.00 2        "
      ]
     },
     "metadata": {},
     "output_type": "display_data"
    }
   ],
   "source": [
    "training_set"
   ]
  },
  {
   "cell_type": "code",
   "execution_count": 50,
   "metadata": {},
   "outputs": [
    {
     "data": {
      "text/html": [
       "<table>\n",
       "<thead><tr><th></th><th scope=col>Country</th><th scope=col>Age</th><th scope=col>Salary</th><th scope=col>Purchased</th></tr></thead>\n",
       "<tbody>\n",
       "\t<tr><th scope=row>3</th><td>3    </td><td>30   </td><td>54000</td><td>2    </td></tr>\n",
       "\t<tr><th scope=row>10</th><td>1    </td><td>37   </td><td>67000</td><td>1    </td></tr>\n",
       "</tbody>\n",
       "</table>\n"
      ],
      "text/latex": [
       "\\begin{tabular}{r|llll}\n",
       "  & Country & Age & Salary & Purchased\\\\\n",
       "\\hline\n",
       "\t3 & 3     & 30    & 54000 & 2    \\\\\n",
       "\t10 & 1     & 37    & 67000 & 1    \\\\\n",
       "\\end{tabular}\n"
      ],
      "text/markdown": [
       "\n",
       "| <!--/--> | Country | Age | Salary | Purchased |\n",
       "|---|---|---|---|---|\n",
       "| 3 | 3     | 30    | 54000 | 2     |\n",
       "| 10 | 1     | 37    | 67000 | 1     |\n",
       "\n"
      ],
      "text/plain": [
       "   Country Age Salary Purchased\n",
       "3  3       30  54000  2        \n",
       "10 1       37  67000  1        "
      ]
     },
     "metadata": {},
     "output_type": "display_data"
    }
   ],
   "source": [
    "test_set"
   ]
  },
  {
   "cell_type": "code",
   "execution_count": 57,
   "metadata": {},
   "outputs": [],
   "source": [
    "#Feature Scaling\n",
    "training_set[,2:3] = scale(training_set[,2:3])\n",
    "test_set[,2:3] = scale(test_set[,2:3])"
   ]
  },
  {
   "cell_type": "code",
   "execution_count": 58,
   "metadata": {},
   "outputs": [
    {
     "data": {
      "text/html": [
       "<table>\n",
       "<thead><tr><th></th><th scope=col>Country</th><th scope=col>Age</th><th scope=col>Salary</th><th scope=col>Purchased</th></tr></thead>\n",
       "<tbody>\n",
       "\t<tr><th scope=row>1</th><td>1          </td><td> 0.53010727</td><td> 0.59264339</td><td>2          </td></tr>\n",
       "\t<tr><th scope=row>2</th><td>2          </td><td>-1.77897208</td><td>-1.32872204</td><td>1          </td></tr>\n",
       "\t<tr><th scope=row>4</th><td>2          </td><td>-0.28486191</td><td>-0.28798243</td><td>2          </td></tr>\n",
       "\t<tr><th scope=row>5</th><td>3          </td><td>-0.01320552</td><td>-0.06560218</td><td>1          </td></tr>\n",
       "\t<tr><th scope=row>6</th><td>1          </td><td>-0.69234650</td><td>-0.52815311</td><td>1          </td></tr>\n",
       "\t<tr><th scope=row>7</th><td>2          </td><td>-0.17921776</td><td>-1.00849447</td><td>2          </td></tr>\n",
       "\t<tr><th scope=row>8</th><td>1          </td><td> 1.07342005</td><td> 1.15304164</td><td>1          </td></tr>\n",
       "\t<tr><th scope=row>9</th><td>3          </td><td> 1.34507645</td><td> 1.47326921</td><td>2          </td></tr>\n",
       "</tbody>\n",
       "</table>\n"
      ],
      "text/latex": [
       "\\begin{tabular}{r|llll}\n",
       "  & Country & Age & Salary & Purchased\\\\\n",
       "\\hline\n",
       "\t1 & 1           &  0.53010727 &  0.59264339 & 2          \\\\\n",
       "\t2 & 2           & -1.77897208 & -1.32872204 & 1          \\\\\n",
       "\t4 & 2           & -0.28486191 & -0.28798243 & 2          \\\\\n",
       "\t5 & 3           & -0.01320552 & -0.06560218 & 1          \\\\\n",
       "\t6 & 1           & -0.69234650 & -0.52815311 & 1          \\\\\n",
       "\t7 & 2           & -0.17921776 & -1.00849447 & 2          \\\\\n",
       "\t8 & 1           &  1.07342005 &  1.15304164 & 1          \\\\\n",
       "\t9 & 3           &  1.34507645 &  1.47326921 & 2          \\\\\n",
       "\\end{tabular}\n"
      ],
      "text/markdown": [
       "\n",
       "| <!--/--> | Country | Age | Salary | Purchased |\n",
       "|---|---|---|---|---|\n",
       "| 1 | 1           |  0.53010727 |  0.59264339 | 2           |\n",
       "| 2 | 2           | -1.77897208 | -1.32872204 | 1           |\n",
       "| 4 | 2           | -0.28486191 | -0.28798243 | 2           |\n",
       "| 5 | 3           | -0.01320552 | -0.06560218 | 1           |\n",
       "| 6 | 1           | -0.69234650 | -0.52815311 | 1           |\n",
       "| 7 | 2           | -0.17921776 | -1.00849447 | 2           |\n",
       "| 8 | 1           |  1.07342005 |  1.15304164 | 1           |\n",
       "| 9 | 3           |  1.34507645 |  1.47326921 | 2           |\n",
       "\n"
      ],
      "text/plain": [
       "  Country Age         Salary      Purchased\n",
       "1 1        0.53010727  0.59264339 2        \n",
       "2 2       -1.77897208 -1.32872204 1        \n",
       "4 2       -0.28486191 -0.28798243 2        \n",
       "5 3       -0.01320552 -0.06560218 1        \n",
       "6 1       -0.69234650 -0.52815311 1        \n",
       "7 2       -0.17921776 -1.00849447 2        \n",
       "8 1        1.07342005  1.15304164 1        \n",
       "9 3        1.34507645  1.47326921 2        "
      ]
     },
     "metadata": {},
     "output_type": "display_data"
    }
   ],
   "source": [
    "training_set"
   ]
  },
  {
   "cell_type": "code",
   "execution_count": null,
   "metadata": {},
   "outputs": [],
   "source": []
  }
 ],
 "metadata": {
  "kernelspec": {
   "display_name": "R",
   "language": "R",
   "name": "ir"
  },
  "language_info": {
   "codemirror_mode": "r",
   "file_extension": ".r",
   "mimetype": "text/x-r-source",
   "name": "R",
   "pygments_lexer": "r",
   "version": "3.6.1"
  }
 },
 "nbformat": 4,
 "nbformat_minor": 4
}
