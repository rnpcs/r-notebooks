{
 "cells": [
  {
   "cell_type": "code",
   "execution_count": 1,
   "metadata": {},
   "outputs": [],
   "source": [
    "# Importing Dataset\n",
    "dir =  '../Machine Learning A-Z (Codes and Datasets)/Part 3 - Classification/Section 14 - Logistic Regression/R/Social_Network_Ads.csv'\n",
    "dataset = read.csv(dir)"
   ]
  },
  {
   "cell_type": "code",
   "execution_count": 2,
   "metadata": {
    "scrolled": true
   },
   "outputs": [],
   "source": [
    "dataset = dataset[3:5]"
   ]
  },
  {
   "cell_type": "code",
   "execution_count": 3,
   "metadata": {},
   "outputs": [],
   "source": [
    "dataset$Purchased = factor(dataset$Purchased, levels = c(0, 1))\n",
    "#dataset$Gender = factor(dataset$Gender,\n",
    "#                        levels = c('Male', 'Female'),\n",
    "#                        labels = c( 1, 2))"
   ]
  },
  {
   "cell_type": "code",
   "execution_count": 4,
   "metadata": {},
   "outputs": [],
   "source": [
    "library('caTools')\n",
    "set.seed(123)"
   ]
  },
  {
   "cell_type": "code",
   "execution_count": 5,
   "metadata": {},
   "outputs": [],
   "source": [
    "split = sample.split(dataset$Purchased, SplitRatio=0.75 )\n",
    "training_set = subset(dataset, split == TRUE)\n",
    "test_set = subset(dataset, split==FALSE)"
   ]
  },
  {
   "cell_type": "code",
   "execution_count": 6,
   "metadata": {
    "scrolled": true
   },
   "outputs": [],
   "source": [
    "#Feature Scaling\n",
    "training_set[-3] = scale(training_set[-3])\n",
    "test_set[-3] = scale(test_set[-3])"
   ]
  },
  {
   "cell_type": "code",
   "execution_count": 7,
   "metadata": {
    "scrolled": true
   },
   "outputs": [
    {
     "data": {
      "text/html": [
       "400"
      ],
      "text/latex": [
       "400"
      ],
      "text/markdown": [
       "400"
      ],
      "text/plain": [
       "[1] 400"
      ]
     },
     "metadata": {},
     "output_type": "display_data"
    },
    {
     "data": {
      "text/html": [
       "300"
      ],
      "text/latex": [
       "300"
      ],
      "text/markdown": [
       "300"
      ],
      "text/plain": [
       "[1] 300"
      ]
     },
     "metadata": {},
     "output_type": "display_data"
    },
    {
     "data": {
      "text/html": [
       "100"
      ],
      "text/latex": [
       "100"
      ],
      "text/markdown": [
       "100"
      ],
      "text/plain": [
       "[1] 100"
      ]
     },
     "metadata": {},
     "output_type": "display_data"
    }
   ],
   "source": [
    "nrow(dataset)\n",
    "nrow(training_set)\n",
    "nrow(test_set)"
   ]
  },
  {
   "cell_type": "code",
   "execution_count": 8,
   "metadata": {},
   "outputs": [],
   "source": [
    "library(e1071)"
   ]
  },
  {
   "cell_type": "code",
   "execution_count": 9,
   "metadata": {
    "collapsed": true
   },
   "outputs": [
    {
     "data": {
      "text/html": [
       "<table>\n",
       "<thead><tr><th></th><th scope=col>Age</th><th scope=col>EstimatedSalary</th><th scope=col>Purchased</th></tr></thead>\n",
       "<tbody>\n",
       "\t<tr><th scope=row>1</th><td>-1.7655475 </td><td>-1.47334137</td><td>0          </td></tr>\n",
       "\t<tr><th scope=row>3</th><td>-1.0962966 </td><td>-0.78837605</td><td>0          </td></tr>\n",
       "\t<tr><th scope=row>6</th><td>-1.0006894 </td><td>-0.36027273</td><td>0          </td></tr>\n",
       "\t<tr><th scope=row>7</th><td>-1.0006894 </td><td> 0.38177303</td><td>0          </td></tr>\n",
       "\t<tr><th scope=row>8</th><td>-0.5226531 </td><td> 2.26542765</td><td>1          </td></tr>\n",
       "\t<tr><th scope=row>10</th><td>-0.2358313 </td><td>-0.16049118</td><td>0          </td></tr>\n",
       "\t<tr><th scope=row>11</th><td>-1.0962966 </td><td> 0.26761214</td><td>0          </td></tr>\n",
       "\t<tr><th scope=row>13</th><td>-1.6699402 </td><td> 0.43885347</td><td>0          </td></tr>\n",
       "\t<tr><th scope=row>14</th><td>-0.5226531 </td><td>-1.50188159</td><td>0          </td></tr>\n",
       "\t<tr><th scope=row>15</th><td>-1.8611548 </td><td> 0.32469259</td><td>0          </td></tr>\n",
       "\t<tr><th scope=row>16</th><td>-0.8094748 </td><td> 0.26761214</td><td>0          </td></tr>\n",
       "\t<tr><th scope=row>17</th><td> 0.9114559 </td><td>-1.30210004</td><td>1          </td></tr>\n",
       "\t<tr><th scope=row>21</th><td> 0.7202414 </td><td>-1.38772071</td><td>1          </td></tr>\n",
       "\t<tr><th scope=row>23</th><td> 1.0070632 </td><td>-0.84545650</td><td>1          </td></tr>\n",
       "\t<tr><th scope=row>24</th><td> 0.7202414 </td><td>-1.38772071</td><td>1          </td></tr>\n",
       "\t<tr><th scope=row>25</th><td> 0.8158487 </td><td>-1.35918049</td><td>1          </td></tr>\n",
       "\t<tr><th scope=row>26</th><td> 0.9114559 </td><td>-1.44480115</td><td>1          </td></tr>\n",
       "\t<tr><th scope=row>27</th><td> 1.1026705 </td><td>-1.21647938</td><td>1          </td></tr>\n",
       "\t<tr><th scope=row>28</th><td> 0.9114559 </td><td>-1.15939893</td><td>1          </td></tr>\n",
       "\t<tr><th scope=row>30</th><td>-0.6182603 </td><td>-1.50188159</td><td>0          </td></tr>\n",
       "\t<tr><th scope=row>31</th><td>-0.6182603 </td><td> 0.09637081</td><td>0          </td></tr>\n",
       "\t<tr><th scope=row>33</th><td>-1.5743330 </td><td>-1.55896204</td><td>0          </td></tr>\n",
       "\t<tr><th scope=row>36</th><td>-0.2358313 </td><td>-1.24501960</td><td>0          </td></tr>\n",
       "\t<tr><th scope=row>37</th><td>-0.4270458 </td><td>-1.21647938</td><td>0          </td></tr>\n",
       "\t<tr><th scope=row>39</th><td>-1.0962966 </td><td> 0.03929037</td><td>0          </td></tr>\n",
       "\t<tr><th scope=row>40</th><td>-1.0006894 </td><td>-1.13085871</td><td>0          </td></tr>\n",
       "\t<tr><th scope=row>41</th><td>-1.0006894 </td><td>-1.53042182</td><td>0          </td></tr>\n",
       "\t<tr><th scope=row>42</th><td>-0.4270458 </td><td>-0.56005428</td><td>0          </td></tr>\n",
       "\t<tr><th scope=row>43</th><td>-0.2358313 </td><td> 1.06673835</td><td>0          </td></tr>\n",
       "\t<tr><th scope=row>44</th><td>-0.7138676 </td><td>-1.58750226</td><td>0          </td></tr>\n",
       "\t<tr><th scope=row>...</th><td>...</td><td>...</td><td>...</td></tr>\n",
       "\t<tr><th scope=row>358</th><td> 0.33781234</td><td> 0.03929037</td><td>0          </td></tr>\n",
       "\t<tr><th scope=row>359</th><td> 0.24220507</td><td> 0.01075015</td><td>1          </td></tr>\n",
       "\t<tr><th scope=row>360</th><td> 0.43341960</td><td>-0.47443362</td><td>0          </td></tr>\n",
       "\t<tr><th scope=row>361</th><td> 0.52902687</td><td> 1.66608300</td><td>1          </td></tr>\n",
       "\t<tr><th scope=row>362</th><td> 1.48509952</td><td>-1.04523805</td><td>1          </td></tr>\n",
       "\t<tr><th scope=row>365</th><td> 0.43341960</td><td> 0.95257746</td><td>1          </td></tr>\n",
       "\t<tr><th scope=row>366</th><td> 2.05874311</td><td>-1.18793916</td><td>1          </td></tr>\n",
       "\t<tr><th scope=row>370</th><td> 1.58070679</td><td>-1.27355982</td><td>1          </td></tr>\n",
       "\t<tr><th scope=row>371</th><td> 2.15435038</td><td>-0.70275539</td><td>1          </td></tr>\n",
       "\t<tr><th scope=row>374</th><td> 2.05874311</td><td> 1.69462322</td><td>1          </td></tr>\n",
       "\t<tr><th scope=row>375</th><td>-0.04461672</td><td> 0.26761214</td><td>0          </td></tr>\n",
       "\t<tr><th scope=row>376</th><td> 0.81584866</td><td>-1.10231849</td><td>1          </td></tr>\n",
       "\t<tr><th scope=row>377</th><td> 0.81584866</td><td> 0.09637081</td><td>0          </td></tr>\n",
       "\t<tr><th scope=row>378</th><td> 0.43341960</td><td>-0.50297384</td><td>0          </td></tr>\n",
       "\t<tr><th scope=row>379</th><td> 0.33781234</td><td> 0.46739370</td><td>1          </td></tr>\n",
       "\t<tr><th scope=row>381</th><td> 0.43341960</td><td>-0.18903140</td><td>0          </td></tr>\n",
       "\t<tr><th scope=row>382</th><td> 1.00706320</td><td>-1.07377827</td><td>1          </td></tr>\n",
       "\t<tr><th scope=row>384</th><td> 1.10267046</td><td>-1.21647938</td><td>1          </td></tr>\n",
       "\t<tr><th scope=row>385</th><td> 1.86752858</td><td>-1.07377827</td><td>1          </td></tr>\n",
       "\t<tr><th scope=row>386</th><td> 1.77192132</td><td>-0.30319229</td><td>1          </td></tr>\n",
       "\t<tr><th scope=row>387</th><td> 1.10267046</td><td>-0.90253694</td><td>1          </td></tr>\n",
       "\t<tr><th scope=row>388</th><td> 0.14659781</td><td> 0.01075015</td><td>0          </td></tr>\n",
       "\t<tr><th scope=row>390</th><td> 1.00706320</td><td>-1.01669783</td><td>1          </td></tr>\n",
       "\t<tr><th scope=row>391</th><td> 1.00706320</td><td>-1.07377827</td><td>1          </td></tr>\n",
       "\t<tr><th scope=row>393</th><td> 0.72024140</td><td>-0.73129561</td><td>1          </td></tr>\n",
       "\t<tr><th scope=row>394</th><td> 2.15435038</td><td>-0.81691628</td><td>1          </td></tr>\n",
       "\t<tr><th scope=row>396</th><td> 0.81584866</td><td>-0.84545650</td><td>1          </td></tr>\n",
       "\t<tr><th scope=row>397</th><td> 1.29388499</td><td>-1.35918049</td><td>1          </td></tr>\n",
       "\t<tr><th scope=row>398</th><td> 1.19827773</td><td>-1.44480115</td><td>1          </td></tr>\n",
       "\t<tr><th scope=row>399</th><td>-0.14022399</td><td>-1.07377827</td><td>0          </td></tr>\n",
       "</tbody>\n",
       "</table>\n"
      ],
      "text/latex": [
       "\\begin{tabular}{r|lll}\n",
       "  & Age & EstimatedSalary & Purchased\\\\\n",
       "\\hline\n",
       "\t1 & -1.7655475  & -1.47334137 & 0          \\\\\n",
       "\t3 & -1.0962966  & -0.78837605 & 0          \\\\\n",
       "\t6 & -1.0006894  & -0.36027273 & 0          \\\\\n",
       "\t7 & -1.0006894  &  0.38177303 & 0          \\\\\n",
       "\t8 & -0.5226531  &  2.26542765 & 1          \\\\\n",
       "\t10 & -0.2358313  & -0.16049118 & 0          \\\\\n",
       "\t11 & -1.0962966  &  0.26761214 & 0          \\\\\n",
       "\t13 & -1.6699402  &  0.43885347 & 0          \\\\\n",
       "\t14 & -0.5226531  & -1.50188159 & 0          \\\\\n",
       "\t15 & -1.8611548  &  0.32469259 & 0          \\\\\n",
       "\t16 & -0.8094748  &  0.26761214 & 0          \\\\\n",
       "\t17 &  0.9114559  & -1.30210004 & 1          \\\\\n",
       "\t21 &  0.7202414  & -1.38772071 & 1          \\\\\n",
       "\t23 &  1.0070632  & -0.84545650 & 1          \\\\\n",
       "\t24 &  0.7202414  & -1.38772071 & 1          \\\\\n",
       "\t25 &  0.8158487  & -1.35918049 & 1          \\\\\n",
       "\t26 &  0.9114559  & -1.44480115 & 1          \\\\\n",
       "\t27 &  1.1026705  & -1.21647938 & 1          \\\\\n",
       "\t28 &  0.9114559  & -1.15939893 & 1          \\\\\n",
       "\t30 & -0.6182603  & -1.50188159 & 0          \\\\\n",
       "\t31 & -0.6182603  &  0.09637081 & 0          \\\\\n",
       "\t33 & -1.5743330  & -1.55896204 & 0          \\\\\n",
       "\t36 & -0.2358313  & -1.24501960 & 0          \\\\\n",
       "\t37 & -0.4270458  & -1.21647938 & 0          \\\\\n",
       "\t39 & -1.0962966  &  0.03929037 & 0          \\\\\n",
       "\t40 & -1.0006894  & -1.13085871 & 0          \\\\\n",
       "\t41 & -1.0006894  & -1.53042182 & 0          \\\\\n",
       "\t42 & -0.4270458  & -0.56005428 & 0          \\\\\n",
       "\t43 & -0.2358313  &  1.06673835 & 0          \\\\\n",
       "\t44 & -0.7138676  & -1.58750226 & 0          \\\\\n",
       "\t... & ... & ... & ...\\\\\n",
       "\t358 &  0.33781234 &  0.03929037 & 0          \\\\\n",
       "\t359 &  0.24220507 &  0.01075015 & 1          \\\\\n",
       "\t360 &  0.43341960 & -0.47443362 & 0          \\\\\n",
       "\t361 &  0.52902687 &  1.66608300 & 1          \\\\\n",
       "\t362 &  1.48509952 & -1.04523805 & 1          \\\\\n",
       "\t365 &  0.43341960 &  0.95257746 & 1          \\\\\n",
       "\t366 &  2.05874311 & -1.18793916 & 1          \\\\\n",
       "\t370 &  1.58070679 & -1.27355982 & 1          \\\\\n",
       "\t371 &  2.15435038 & -0.70275539 & 1          \\\\\n",
       "\t374 &  2.05874311 &  1.69462322 & 1          \\\\\n",
       "\t375 & -0.04461672 &  0.26761214 & 0          \\\\\n",
       "\t376 &  0.81584866 & -1.10231849 & 1          \\\\\n",
       "\t377 &  0.81584866 &  0.09637081 & 0          \\\\\n",
       "\t378 &  0.43341960 & -0.50297384 & 0          \\\\\n",
       "\t379 &  0.33781234 &  0.46739370 & 1          \\\\\n",
       "\t381 &  0.43341960 & -0.18903140 & 0          \\\\\n",
       "\t382 &  1.00706320 & -1.07377827 & 1          \\\\\n",
       "\t384 &  1.10267046 & -1.21647938 & 1          \\\\\n",
       "\t385 &  1.86752858 & -1.07377827 & 1          \\\\\n",
       "\t386 &  1.77192132 & -0.30319229 & 1          \\\\\n",
       "\t387 &  1.10267046 & -0.90253694 & 1          \\\\\n",
       "\t388 &  0.14659781 &  0.01075015 & 0          \\\\\n",
       "\t390 &  1.00706320 & -1.01669783 & 1          \\\\\n",
       "\t391 &  1.00706320 & -1.07377827 & 1          \\\\\n",
       "\t393 &  0.72024140 & -0.73129561 & 1          \\\\\n",
       "\t394 &  2.15435038 & -0.81691628 & 1          \\\\\n",
       "\t396 &  0.81584866 & -0.84545650 & 1          \\\\\n",
       "\t397 &  1.29388499 & -1.35918049 & 1          \\\\\n",
       "\t398 &  1.19827773 & -1.44480115 & 1          \\\\\n",
       "\t399 & -0.14022399 & -1.07377827 & 0          \\\\\n",
       "\\end{tabular}\n"
      ],
      "text/markdown": [
       "\n",
       "| <!--/--> | Age | EstimatedSalary | Purchased |\n",
       "|---|---|---|---|\n",
       "| 1 | -1.7655475  | -1.47334137 | 0           |\n",
       "| 3 | -1.0962966  | -0.78837605 | 0           |\n",
       "| 6 | -1.0006894  | -0.36027273 | 0           |\n",
       "| 7 | -1.0006894  |  0.38177303 | 0           |\n",
       "| 8 | -0.5226531  |  2.26542765 | 1           |\n",
       "| 10 | -0.2358313  | -0.16049118 | 0           |\n",
       "| 11 | -1.0962966  |  0.26761214 | 0           |\n",
       "| 13 | -1.6699402  |  0.43885347 | 0           |\n",
       "| 14 | -0.5226531  | -1.50188159 | 0           |\n",
       "| 15 | -1.8611548  |  0.32469259 | 0           |\n",
       "| 16 | -0.8094748  |  0.26761214 | 0           |\n",
       "| 17 |  0.9114559  | -1.30210004 | 1           |\n",
       "| 21 |  0.7202414  | -1.38772071 | 1           |\n",
       "| 23 |  1.0070632  | -0.84545650 | 1           |\n",
       "| 24 |  0.7202414  | -1.38772071 | 1           |\n",
       "| 25 |  0.8158487  | -1.35918049 | 1           |\n",
       "| 26 |  0.9114559  | -1.44480115 | 1           |\n",
       "| 27 |  1.1026705  | -1.21647938 | 1           |\n",
       "| 28 |  0.9114559  | -1.15939893 | 1           |\n",
       "| 30 | -0.6182603  | -1.50188159 | 0           |\n",
       "| 31 | -0.6182603  |  0.09637081 | 0           |\n",
       "| 33 | -1.5743330  | -1.55896204 | 0           |\n",
       "| 36 | -0.2358313  | -1.24501960 | 0           |\n",
       "| 37 | -0.4270458  | -1.21647938 | 0           |\n",
       "| 39 | -1.0962966  |  0.03929037 | 0           |\n",
       "| 40 | -1.0006894  | -1.13085871 | 0           |\n",
       "| 41 | -1.0006894  | -1.53042182 | 0           |\n",
       "| 42 | -0.4270458  | -0.56005428 | 0           |\n",
       "| 43 | -0.2358313  |  1.06673835 | 0           |\n",
       "| 44 | -0.7138676  | -1.58750226 | 0           |\n",
       "| ... | ... | ... | ... |\n",
       "| 358 |  0.33781234 |  0.03929037 | 0           |\n",
       "| 359 |  0.24220507 |  0.01075015 | 1           |\n",
       "| 360 |  0.43341960 | -0.47443362 | 0           |\n",
       "| 361 |  0.52902687 |  1.66608300 | 1           |\n",
       "| 362 |  1.48509952 | -1.04523805 | 1           |\n",
       "| 365 |  0.43341960 |  0.95257746 | 1           |\n",
       "| 366 |  2.05874311 | -1.18793916 | 1           |\n",
       "| 370 |  1.58070679 | -1.27355982 | 1           |\n",
       "| 371 |  2.15435038 | -0.70275539 | 1           |\n",
       "| 374 |  2.05874311 |  1.69462322 | 1           |\n",
       "| 375 | -0.04461672 |  0.26761214 | 0           |\n",
       "| 376 |  0.81584866 | -1.10231849 | 1           |\n",
       "| 377 |  0.81584866 |  0.09637081 | 0           |\n",
       "| 378 |  0.43341960 | -0.50297384 | 0           |\n",
       "| 379 |  0.33781234 |  0.46739370 | 1           |\n",
       "| 381 |  0.43341960 | -0.18903140 | 0           |\n",
       "| 382 |  1.00706320 | -1.07377827 | 1           |\n",
       "| 384 |  1.10267046 | -1.21647938 | 1           |\n",
       "| 385 |  1.86752858 | -1.07377827 | 1           |\n",
       "| 386 |  1.77192132 | -0.30319229 | 1           |\n",
       "| 387 |  1.10267046 | -0.90253694 | 1           |\n",
       "| 388 |  0.14659781 |  0.01075015 | 0           |\n",
       "| 390 |  1.00706320 | -1.01669783 | 1           |\n",
       "| 391 |  1.00706320 | -1.07377827 | 1           |\n",
       "| 393 |  0.72024140 | -0.73129561 | 1           |\n",
       "| 394 |  2.15435038 | -0.81691628 | 1           |\n",
       "| 396 |  0.81584866 | -0.84545650 | 1           |\n",
       "| 397 |  1.29388499 | -1.35918049 | 1           |\n",
       "| 398 |  1.19827773 | -1.44480115 | 1           |\n",
       "| 399 | -0.14022399 | -1.07377827 | 0           |\n",
       "\n"
      ],
      "text/plain": [
       "    Age         EstimatedSalary Purchased\n",
       "1   -1.7655475  -1.47334137     0        \n",
       "3   -1.0962966  -0.78837605     0        \n",
       "6   -1.0006894  -0.36027273     0        \n",
       "7   -1.0006894   0.38177303     0        \n",
       "8   -0.5226531   2.26542765     1        \n",
       "10  -0.2358313  -0.16049118     0        \n",
       "11  -1.0962966   0.26761214     0        \n",
       "13  -1.6699402   0.43885347     0        \n",
       "14  -0.5226531  -1.50188159     0        \n",
       "15  -1.8611548   0.32469259     0        \n",
       "16  -0.8094748   0.26761214     0        \n",
       "17   0.9114559  -1.30210004     1        \n",
       "21   0.7202414  -1.38772071     1        \n",
       "23   1.0070632  -0.84545650     1        \n",
       "24   0.7202414  -1.38772071     1        \n",
       "25   0.8158487  -1.35918049     1        \n",
       "26   0.9114559  -1.44480115     1        \n",
       "27   1.1026705  -1.21647938     1        \n",
       "28   0.9114559  -1.15939893     1        \n",
       "30  -0.6182603  -1.50188159     0        \n",
       "31  -0.6182603   0.09637081     0        \n",
       "33  -1.5743330  -1.55896204     0        \n",
       "36  -0.2358313  -1.24501960     0        \n",
       "37  -0.4270458  -1.21647938     0        \n",
       "39  -1.0962966   0.03929037     0        \n",
       "40  -1.0006894  -1.13085871     0        \n",
       "41  -1.0006894  -1.53042182     0        \n",
       "42  -0.4270458  -0.56005428     0        \n",
       "43  -0.2358313   1.06673835     0        \n",
       "44  -0.7138676  -1.58750226     0        \n",
       "... ...         ...             ...      \n",
       "358  0.33781234  0.03929037     0        \n",
       "359  0.24220507  0.01075015     1        \n",
       "360  0.43341960 -0.47443362     0        \n",
       "361  0.52902687  1.66608300     1        \n",
       "362  1.48509952 -1.04523805     1        \n",
       "365  0.43341960  0.95257746     1        \n",
       "366  2.05874311 -1.18793916     1        \n",
       "370  1.58070679 -1.27355982     1        \n",
       "371  2.15435038 -0.70275539     1        \n",
       "374  2.05874311  1.69462322     1        \n",
       "375 -0.04461672  0.26761214     0        \n",
       "376  0.81584866 -1.10231849     1        \n",
       "377  0.81584866  0.09637081     0        \n",
       "378  0.43341960 -0.50297384     0        \n",
       "379  0.33781234  0.46739370     1        \n",
       "381  0.43341960 -0.18903140     0        \n",
       "382  1.00706320 -1.07377827     1        \n",
       "384  1.10267046 -1.21647938     1        \n",
       "385  1.86752858 -1.07377827     1        \n",
       "386  1.77192132 -0.30319229     1        \n",
       "387  1.10267046 -0.90253694     1        \n",
       "388  0.14659781  0.01075015     0        \n",
       "390  1.00706320 -1.01669783     1        \n",
       "391  1.00706320 -1.07377827     1        \n",
       "393  0.72024140 -0.73129561     1        \n",
       "394  2.15435038 -0.81691628     1        \n",
       "396  0.81584866 -0.84545650     1        \n",
       "397  1.29388499 -1.35918049     1        \n",
       "398  1.19827773 -1.44480115     1        \n",
       "399 -0.14022399 -1.07377827     0        "
      ]
     },
     "metadata": {},
     "output_type": "display_data"
    }
   ],
   "source": [
    "training_set"
   ]
  },
  {
   "cell_type": "code",
   "execution_count": 13,
   "metadata": {
    "scrolled": true
   },
   "outputs": [],
   "source": [
    "classifier = svm(formula = Purchased ~ .,\n",
    "                 data = training_set,\n",
    "                 type = 'C-classification',\n",
    "                 kernel = 'linear')"
   ]
  },
  {
   "cell_type": "code",
   "execution_count": 14,
   "metadata": {},
   "outputs": [],
   "source": [
    "y_pred = predict(classifier, newdata=test_set[,-3])"
   ]
  },
  {
   "cell_type": "code",
   "execution_count": 16,
   "metadata": {
    "scrolled": false
   },
   "outputs": [
    {
     "data": {
      "text/plain": [
       "\n",
       " 0  1 \n",
       "64 36 "
      ]
     },
     "metadata": {},
     "output_type": "display_data"
    }
   ],
   "source": [
    "table(test_set$Purchased)"
   ]
  },
  {
   "cell_type": "code",
   "execution_count": 17,
   "metadata": {},
   "outputs": [
    {
     "data": {
      "text/plain": [
       "y_pred\n",
       " 0  1 \n",
       "70 30 "
      ]
     },
     "metadata": {},
     "output_type": "display_data"
    }
   ],
   "source": [
    "table(y_pred)"
   ]
  },
  {
   "cell_type": "code",
   "execution_count": 18,
   "metadata": {
    "scrolled": true
   },
   "outputs": [
    {
     "data": {
      "text/html": [
       "0.8"
      ],
      "text/latex": [
       "0.8"
      ],
      "text/markdown": [
       "0.8"
      ],
      "text/plain": [
       "[1] 0.8"
      ]
     },
     "metadata": {},
     "output_type": "display_data"
    }
   ],
   "source": [
    "mean(y_pred == test_set$Purchased)"
   ]
  },
  {
   "cell_type": "code",
   "execution_count": 15,
   "metadata": {
    "scrolled": true
   },
   "outputs": [
    {
     "ename": "ERROR",
     "evalue": "Error in summary(classifier): object 'classifier' not found\n",
     "output_type": "error",
     "traceback": [
      "Error in summary(classifier): object 'classifier' not found\nTraceback:\n",
      "1. summary(classifier)"
     ]
    }
   ],
   "source": [
    "summary(classifier)"
   ]
  },
  {
   "cell_type": "code",
   "execution_count": 19,
   "metadata": {},
   "outputs": [],
   "source": [
    "cm = table(test_set[, 3], y_pred)"
   ]
  },
  {
   "cell_type": "code",
   "execution_count": 20,
   "metadata": {},
   "outputs": [
    {
     "name": "stderr",
     "output_type": "stream",
     "text": [
      "Warning message:\n",
      "“package ‘ElemStatLearn’ was built under R version 4.0.0”"
     ]
    }
   ],
   "source": [
    "library(ElemStatLearn)"
   ]
  },
  {
   "cell_type": "code",
   "execution_count": null,
   "metadata": {},
   "outputs": [
    {
     "name": "stderr",
     "output_type": "stream",
     "text": [
      "Warning message in matrix(as.numeric(y_grid), length(X1), length(X2)):\n",
      "“data length [100] is not a sub-multiple or multiple of the number of rows [602]”"
     ]
    }
   ],
   "source": [
    "set = training_set\n",
    "\n",
    "\n",
    "X1 = seq(min(set[, 1]) - 1, max(set[, 1]) + 1, by = 0.01)\n",
    "X2 = seq(min(set[, 2]) - 1, max(set[, 2]) + 1, by = 0.01)\n",
    "grid_set = expand.grid(X1, X2)\n",
    "colnames(grid_set) = c('Age', 'EstimatedSalary')\n",
    "\n",
    "y_grid = predict(classifier, newdata=[,-)\n",
    "plot(set[,-3],\n",
    "     main = 'K-Nearest Neighbors (Training set)',\n",
    "     xlab = 'Age', ylab = 'Estimated Salary',\n",
    "     xlim = range(X1), ylim = range(X2))\n",
    "contour(X1, X2, matrix(as.numeric(y_grid), length(X1), length(X2)), add = TRUE)\n",
    "points(grid_set, pch = '.', col = ifelse(y_grid == 1, 'springgreen3', 'tomato'))\n",
    "points(set, pch = 21, bg = ifelse(set[, 3] == 1, 'green4', 'red3'))"
   ]
  },
  {
   "cell_type": "code",
   "execution_count": 21,
   "metadata": {},
   "outputs": [
    {
     "data": {
      "image/png": "[encoded data removed]",
      "text/plain": [
       "Plot with title “K-Nearest Neighbors (Test set)”"
      ]
     },
     "metadata": {},
     "output_type": "display_data"
    }
   ],
   "source": [
    "set = test_set\n",
    "\n",
    "\n",
    "X1 = seq(min(set[, 1]) - 1, max(set[, 1]) + 1, by = 0.01)\n",
    "X2 = seq(min(set[, 2]) - 1, max(set[, 2]) + 1, by = 0.01)\n",
    "grid_set = expand.grid(X1, X2)\n",
    "colnames(grid_set) = c('Age', 'EstimatedSalary')\n",
    "\n",
    "y_grid = knn(train = training_set[, -3], test = grid_set, cl = training_set[, 3], k = 5)\n",
    "plot(set[,-3],\n",
    "     main = 'K-Nearest Neighbors (Test set)',\n",
    "     xlab = 'Age', ylab = 'Estimated Salary',\n",
    "     xlim = range(X1), ylim = range(X2))\n",
    "contour(X1, X2, matrix(as.numeric(y_grid), length(X1), length(X2)), add = TRUE)\n",
    "points(grid_set, pch = '.', col = ifelse(y_grid == 1, 'springgreen3', 'tomato'))\n",
    "points(set, pch = 21, bg = ifelse(set[, 3] == 1, 'green4', 'red3'))"
   ]
  },
  {
   "cell_type": "code",
   "execution_count": null,
   "metadata": {},
   "outputs": [],
   "source": []
  }
 ],
 "metadata": {
  "kernelspec": {
   "display_name": "R",
   "language": "R",
   "name": "ir"
  },
  "language_info": {
   "codemirror_mode": "r",
   "file_extension": ".r",
   "mimetype": "text/x-r-source",
   "name": "R",
   "pygments_lexer": "r",
   "version": "3.6.1"
  }
 },
 "nbformat": 4,
 "nbformat_minor": 4
}
