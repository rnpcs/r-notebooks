{
 "cells": [
  {
   "cell_type": "code",
   "execution_count": 1,
   "metadata": {},
   "outputs": [],
   "source": [
    "dataset = read.csv('../../pynb/08-deep-learning/Churn_Modelling.csv')"
   ]
  },
  {
   "cell_type": "code",
   "execution_count": 2,
   "metadata": {
    "scrolled": true
   },
   "outputs": [],
   "source": [
    "dataset = dataset[4:14]"
   ]
  },
  {
   "cell_type": "code",
   "execution_count": 4,
   "metadata": {},
   "outputs": [
    {
     "data": {
      "text/html": [
       "<ol class=list-inline>\n",
       "\t<li>'CreditScore'</li>\n",
       "\t<li>'Geography'</li>\n",
       "\t<li>'Gender'</li>\n",
       "\t<li>'Age'</li>\n",
       "\t<li>'Tenure'</li>\n",
       "\t<li>'Balance'</li>\n",
       "\t<li>'NumOfProducts'</li>\n",
       "\t<li>'HasCrCard'</li>\n",
       "\t<li>'IsActiveMember'</li>\n",
       "\t<li>'EstimatedSalary'</li>\n",
       "\t<li>'Exited'</li>\n",
       "</ol>\n"
      ],
      "text/latex": [
       "\\begin{enumerate*}\n",
       "\\item 'CreditScore'\n",
       "\\item 'Geography'\n",
       "\\item 'Gender'\n",
       "\\item 'Age'\n",
       "\\item 'Tenure'\n",
       "\\item 'Balance'\n",
       "\\item 'NumOfProducts'\n",
       "\\item 'HasCrCard'\n",
       "\\item 'IsActiveMember'\n",
       "\\item 'EstimatedSalary'\n",
       "\\item 'Exited'\n",
       "\\end{enumerate*}\n"
      ],
      "text/markdown": [
       "1. 'CreditScore'\n",
       "2. 'Geography'\n",
       "3. 'Gender'\n",
       "4. 'Age'\n",
       "5. 'Tenure'\n",
       "6. 'Balance'\n",
       "7. 'NumOfProducts'\n",
       "8. 'HasCrCard'\n",
       "9. 'IsActiveMember'\n",
       "10. 'EstimatedSalary'\n",
       "11. 'Exited'\n",
       "\n",
       "\n"
      ],
      "text/plain": [
       " [1] \"CreditScore\"     \"Geography\"       \"Gender\"          \"Age\"            \n",
       " [5] \"Tenure\"          \"Balance\"         \"NumOfProducts\"   \"HasCrCard\"      \n",
       " [9] \"IsActiveMember\"  \"EstimatedSalary\" \"Exited\"         "
      ]
     },
     "metadata": {},
     "output_type": "display_data"
    }
   ],
   "source": [
    "names(dataset)"
   ]
  },
  {
   "cell_type": "code",
   "execution_count": 5,
   "metadata": {
    "scrolled": false
   },
   "outputs": [
    {
     "data": {
      "text/html": [
       "<ol class=list-inline>\n",
       "\t<li>France</li>\n",
       "\t<li>Spain</li>\n",
       "\t<li>Germany</li>\n",
       "</ol>\n",
       "\n",
       "<details>\n",
       "\t<summary style=display:list-item;cursor:pointer>\n",
       "\t\t<strong>Levels</strong>:\n",
       "\t</summary>\n",
       "\t<ol class=list-inline>\n",
       "\t\t<li>'France'</li>\n",
       "\t\t<li>'Germany'</li>\n",
       "\t\t<li>'Spain'</li>\n",
       "\t</ol>\n",
       "</details>"
      ],
      "text/latex": [
       "\\begin{enumerate*}\n",
       "\\item France\n",
       "\\item Spain\n",
       "\\item Germany\n",
       "\\end{enumerate*}\n",
       "\n",
       "\\emph{Levels}: \\begin{enumerate*}\n",
       "\\item 'France'\n",
       "\\item 'Germany'\n",
       "\\item 'Spain'\n",
       "\\end{enumerate*}\n"
      ],
      "text/markdown": [
       "1. France\n",
       "2. Spain\n",
       "3. Germany\n",
       "\n",
       "\n",
       "\n",
       "**Levels**: 1. 'France'\n",
       "2. 'Germany'\n",
       "3. 'Spain'\n",
       "\n",
       "\n"
      ],
      "text/plain": [
       "[1] France  Spain   Germany\n",
       "Levels: France Germany Spain"
      ]
     },
     "metadata": {},
     "output_type": "display_data"
    },
    {
     "data": {
      "text/html": [
       "<ol class=list-inline>\n",
       "\t<li>Female</li>\n",
       "\t<li>Male</li>\n",
       "</ol>\n",
       "\n",
       "<details>\n",
       "\t<summary style=display:list-item;cursor:pointer>\n",
       "\t\t<strong>Levels</strong>:\n",
       "\t</summary>\n",
       "\t<ol class=list-inline>\n",
       "\t\t<li>'Female'</li>\n",
       "\t\t<li>'Male'</li>\n",
       "\t</ol>\n",
       "</details>"
      ],
      "text/latex": [
       "\\begin{enumerate*}\n",
       "\\item Female\n",
       "\\item Male\n",
       "\\end{enumerate*}\n",
       "\n",
       "\\emph{Levels}: \\begin{enumerate*}\n",
       "\\item 'Female'\n",
       "\\item 'Male'\n",
       "\\end{enumerate*}\n"
      ],
      "text/markdown": [
       "1. Female\n",
       "2. Male\n",
       "\n",
       "\n",
       "\n",
       "**Levels**: 1. 'Female'\n",
       "2. 'Male'\n",
       "\n",
       "\n"
      ],
      "text/plain": [
       "[1] Female Male  \n",
       "Levels: Female Male"
      ]
     },
     "metadata": {},
     "output_type": "display_data"
    }
   ],
   "source": [
    "unique(dataset$Geography)\n",
    "unique(dataset$Gender)"
   ]
  },
  {
   "cell_type": "code",
   "execution_count": 6,
   "metadata": {
    "scrolled": false
   },
   "outputs": [
    {
     "data": {
      "text/html": [
       "10000"
      ],
      "text/latex": [
       "10000"
      ],
      "text/markdown": [
       "10000"
      ],
      "text/plain": [
       "[1] 10000"
      ]
     },
     "metadata": {},
     "output_type": "display_data"
    },
    {
     "ename": "ERROR",
     "evalue": "Error in nrow(training_set): object 'training_set' not found\n",
     "output_type": "error",
     "traceback": [
      "Error in nrow(training_set): object 'training_set' not found\nTraceback:\n",
      "1. nrow(training_set)"
     ]
    }
   ],
   "source": [
    "nrow(dataset)\n",
    "nrow(training_set)\n",
    "nrow(test_set)\n"
   ]
  },
  {
   "cell_type": "code",
   "execution_count": 7,
   "metadata": {
    "scrolled": false
   },
   "outputs": [
    {
     "data": {
      "text/html": [
       "11"
      ],
      "text/latex": [
       "11"
      ],
      "text/markdown": [
       "11"
      ],
      "text/plain": [
       "[1] 11"
      ]
     },
     "metadata": {},
     "output_type": "display_data"
    },
    {
     "ename": "ERROR",
     "evalue": "Error in ncol(training_set): object 'training_set' not found\n",
     "output_type": "error",
     "traceback": [
      "Error in ncol(training_set): object 'training_set' not found\nTraceback:\n",
      "1. ncol(training_set)"
     ]
    }
   ],
   "source": [
    "ncol(dataset)\n",
    "ncol(training_set)\n",
    "ncol(test_set)\n"
   ]
  },
  {
   "cell_type": "code",
   "execution_count": 8,
   "metadata": {
    "scrolled": true
   },
   "outputs": [
    {
     "ename": "ERROR",
     "evalue": "Error in lapply(X = X, FUN = FUN, ...): object 'training_set' not found\n",
     "output_type": "error",
     "traceback": [
      "Error in lapply(X = X, FUN = FUN, ...): object 'training_set' not found\nTraceback:\n",
      "1. sapply(training_set, typeof)",
      "2. lapply(X = X, FUN = FUN, ...)"
     ]
    }
   ],
   "source": [
    "sapply(training_set, typeof)"
   ]
  },
  {
   "cell_type": "code",
   "execution_count": 9,
   "metadata": {},
   "outputs": [],
   "source": [
    "dataset$Geography = as.numeric(factor(dataset$Geography,\n",
    "                           levels = c('France', 'Spain', 'Germany'),\n",
    "                           labels = c(1,2,3)))\n",
    "                                       "
   ]
  },
  {
   "cell_type": "code",
   "execution_count": 10,
   "metadata": {},
   "outputs": [],
   "source": [
    "dataset$Gender = as.numeric(factor(dataset$Gender,\n",
    "                           levels = c('Female', 'Male'),\n",
    "                           labels = c(1,2)))\n",
    "                                     "
   ]
  },
  {
   "cell_type": "code",
   "execution_count": 11,
   "metadata": {},
   "outputs": [
    {
     "data": {
      "text/html": [
       "<ol class=list-inline>\n",
       "\t<li>1</li>\n",
       "\t<li>2</li>\n",
       "\t<li>3</li>\n",
       "</ol>\n"
      ],
      "text/latex": [
       "\\begin{enumerate*}\n",
       "\\item 1\n",
       "\\item 2\n",
       "\\item 3\n",
       "\\end{enumerate*}\n"
      ],
      "text/markdown": [
       "1. 1\n",
       "2. 2\n",
       "3. 3\n",
       "\n",
       "\n"
      ],
      "text/plain": [
       "[1] 1 2 3"
      ]
     },
     "metadata": {},
     "output_type": "display_data"
    },
    {
     "data": {
      "text/html": [
       "<ol class=list-inline>\n",
       "\t<li>1</li>\n",
       "\t<li>2</li>\n",
       "</ol>\n"
      ],
      "text/latex": [
       "\\begin{enumerate*}\n",
       "\\item 1\n",
       "\\item 2\n",
       "\\end{enumerate*}\n"
      ],
      "text/markdown": [
       "1. 1\n",
       "2. 2\n",
       "\n",
       "\n"
      ],
      "text/plain": [
       "[1] 1 2"
      ]
     },
     "metadata": {},
     "output_type": "display_data"
    }
   ],
   "source": [
    "unique(dataset$Geography)\n",
    "unique(dataset$Gender)"
   ]
  },
  {
   "cell_type": "code",
   "execution_count": 12,
   "metadata": {},
   "outputs": [
    {
     "ename": "ERROR",
     "evalue": "Error in lapply(X = X, FUN = FUN, ...): object 'training_set' not found\n",
     "output_type": "error",
     "traceback": [
      "Error in lapply(X = X, FUN = FUN, ...): object 'training_set' not found\nTraceback:\n",
      "1. sapply(training_set, typeof)",
      "2. lapply(X = X, FUN = FUN, ...)"
     ]
    }
   ],
   "source": [
    "sapply(training_set, typeof)"
   ]
  },
  {
   "cell_type": "code",
   "execution_count": 13,
   "metadata": {},
   "outputs": [],
   "source": [
    "library('caTools')\n",
    "set.seed(123)\n",
    "split = sample.split(dataset$Exited, SplitRatio=0.8 )\n",
    "training_set = subset(dataset, split == TRUE)\n",
    "test_set = subset(dataset, split==FALSE)"
   ]
  },
  {
   "cell_type": "code",
   "execution_count": 14,
   "metadata": {},
   "outputs": [],
   "source": [
    "#Feature Scaling\n",
    "training_set[-11] = scale(training_set[-11])\n",
    "test_set[-11] = scale(test_set[-11])"
   ]
  },
  {
   "cell_type": "code",
   "execution_count": 15,
   "metadata": {},
   "outputs": [
    {
     "name": "stderr",
     "output_type": "stream",
     "text": [
      "Updating HTML index of packages in '.Library'\n",
      "Making 'packages.html' ... done\n"
     ]
    }
   ],
   "source": [
    "#install.packages('xgboost')"
   ]
  },
  {
   "cell_type": "code",
   "execution_count": 26,
   "metadata": {},
   "outputs": [],
   "source": [
    "library(xgboost)"
   ]
  },
  {
   "cell_type": "code",
   "execution_count": 28,
   "metadata": {},
   "outputs": [
    {
     "name": "stdout",
     "output_type": "stream",
     "text": [
      "[1]\ttrain-rmse:0.417725 \n",
      "[2]\ttrain-rmse:0.369588 \n",
      "[3]\ttrain-rmse:0.342099 \n",
      "[4]\ttrain-rmse:0.325681 \n",
      "[5]\ttrain-rmse:0.316159 \n",
      "[6]\ttrain-rmse:0.310498 \n",
      "[7]\ttrain-rmse:0.305414 \n",
      "[8]\ttrain-rmse:0.303013 \n",
      "[9]\ttrain-rmse:0.300684 \n",
      "[10]\ttrain-rmse:0.298272 \n"
     ]
    }
   ],
   "source": [
    "classifier = xgboost(data = as.matrix(training_set[-11]), label = training_set$Exited, nrounds =10)"
   ]
  },
  {
   "cell_type": "code",
   "execution_count": 30,
   "metadata": {},
   "outputs": [],
   "source": [
    "y_pred = predict(classifier, newdata = as.matrix(test_set[-11]))\n",
    "y_pred = (y_pred >= 0.5)"
   ]
  },
  {
   "cell_type": "code",
   "execution_count": 32,
   "metadata": {},
   "outputs": [
    {
     "data": {
      "text/plain": [
       "   y_pred\n",
       "    FALSE TRUE\n",
       "  0  1540   53\n",
       "  1   212  195"
      ]
     },
     "metadata": {},
     "output_type": "display_data"
    }
   ],
   "source": [
    "cm = table(test_set[, 11], y_pred)\n",
    "cm"
   ]
  },
  {
   "cell_type": "code",
   "execution_count": 36,
   "metadata": {},
   "outputs": [
    {
     "name": "stdout",
     "output_type": "stream",
     "text": [
      "[1]\ttrain-rmse:0.417201 \n",
      "[2]\ttrain-rmse:0.368832 \n",
      "[3]\ttrain-rmse:0.340964 \n",
      "[4]\ttrain-rmse:0.325595 \n",
      "[5]\ttrain-rmse:0.316141 \n",
      "[6]\ttrain-rmse:0.308926 \n",
      "[7]\ttrain-rmse:0.302852 \n",
      "[8]\ttrain-rmse:0.299579 \n",
      "[9]\ttrain-rmse:0.297938 \n",
      "[10]\ttrain-rmse:0.296049 \n",
      "[1]\ttrain-rmse:0.417598 \n",
      "[2]\ttrain-rmse:0.369305 \n",
      "[3]\ttrain-rmse:0.341342 \n",
      "[4]\ttrain-rmse:0.325526 \n",
      "[5]\ttrain-rmse:0.316261 \n",
      "[6]\ttrain-rmse:0.309897 \n",
      "[7]\ttrain-rmse:0.304197 \n",
      "[8]\ttrain-rmse:0.300251 \n",
      "[9]\ttrain-rmse:0.298143 \n",
      "[10]\ttrain-rmse:0.296899 \n",
      "[1]\ttrain-rmse:0.417369 \n",
      "[2]\ttrain-rmse:0.369523 \n",
      "[3]\ttrain-rmse:0.341448 \n",
      "[4]\ttrain-rmse:0.325626 \n",
      "[5]\ttrain-rmse:0.315721 \n",
      "[6]\ttrain-rmse:0.308621 \n",
      "[7]\ttrain-rmse:0.304177 \n",
      "[8]\ttrain-rmse:0.300091 \n",
      "[9]\ttrain-rmse:0.297148 \n",
      "[10]\ttrain-rmse:0.294812 \n",
      "[1]\ttrain-rmse:0.416846 \n",
      "[2]\ttrain-rmse:0.367994 \n",
      "[3]\ttrain-rmse:0.339346 \n",
      "[4]\ttrain-rmse:0.322414 \n",
      "[5]\ttrain-rmse:0.313346 \n",
      "[6]\ttrain-rmse:0.306553 \n",
      "[7]\ttrain-rmse:0.300859 \n",
      "[8]\ttrain-rmse:0.297184 \n",
      "[9]\ttrain-rmse:0.294213 \n",
      "[10]\ttrain-rmse:0.291628 \n",
      "[1]\ttrain-rmse:0.418275 \n",
      "[2]\ttrain-rmse:0.369933 \n",
      "[3]\ttrain-rmse:0.342232 \n",
      "[4]\ttrain-rmse:0.326035 \n",
      "[5]\ttrain-rmse:0.317148 \n",
      "[6]\ttrain-rmse:0.309716 \n",
      "[7]\ttrain-rmse:0.305159 \n",
      "[8]\ttrain-rmse:0.302073 \n",
      "[9]\ttrain-rmse:0.299388 \n",
      "[10]\ttrain-rmse:0.296803 \n",
      "[1]\ttrain-rmse:0.417050 \n",
      "[2]\ttrain-rmse:0.368301 \n",
      "[3]\ttrain-rmse:0.339976 \n",
      "[4]\ttrain-rmse:0.323538 \n",
      "[5]\ttrain-rmse:0.313517 \n",
      "[6]\ttrain-rmse:0.306920 \n",
      "[7]\ttrain-rmse:0.302255 \n",
      "[8]\ttrain-rmse:0.298377 \n",
      "[9]\ttrain-rmse:0.294266 \n",
      "[10]\ttrain-rmse:0.290992 \n",
      "[1]\ttrain-rmse:0.418434 \n",
      "[2]\ttrain-rmse:0.370592 \n",
      "[3]\ttrain-rmse:0.343161 \n",
      "[4]\ttrain-rmse:0.326714 \n",
      "[5]\ttrain-rmse:0.317764 \n",
      "[6]\ttrain-rmse:0.311790 \n",
      "[7]\ttrain-rmse:0.306526 \n",
      "[8]\ttrain-rmse:0.303214 \n",
      "[9]\ttrain-rmse:0.300670 \n",
      "[10]\ttrain-rmse:0.298398 \n",
      "[1]\ttrain-rmse:0.417957 \n",
      "[2]\ttrain-rmse:0.369964 \n",
      "[3]\ttrain-rmse:0.342207 \n",
      "[4]\ttrain-rmse:0.326256 \n",
      "[5]\ttrain-rmse:0.316673 \n",
      "[6]\ttrain-rmse:0.310798 \n",
      "[7]\ttrain-rmse:0.304687 \n",
      "[8]\ttrain-rmse:0.300821 \n",
      "[9]\ttrain-rmse:0.297264 \n",
      "[10]\ttrain-rmse:0.295603 \n",
      "[1]\ttrain-rmse:0.417711 \n",
      "[2]\ttrain-rmse:0.369641 \n",
      "[3]\ttrain-rmse:0.341828 \n",
      "[4]\ttrain-rmse:0.325136 \n",
      "[5]\ttrain-rmse:0.315475 \n",
      "[6]\ttrain-rmse:0.308648 \n",
      "[7]\ttrain-rmse:0.304331 \n",
      "[8]\ttrain-rmse:0.301098 \n",
      "[9]\ttrain-rmse:0.297840 \n",
      "[10]\ttrain-rmse:0.295672 \n",
      "[1]\ttrain-rmse:0.416873 \n",
      "[2]\ttrain-rmse:0.368044 \n",
      "[3]\ttrain-rmse:0.339602 \n",
      "[4]\ttrain-rmse:0.323288 \n",
      "[5]\ttrain-rmse:0.313147 \n",
      "[6]\ttrain-rmse:0.306961 \n",
      "[7]\ttrain-rmse:0.301224 \n",
      "[8]\ttrain-rmse:0.298748 \n",
      "[9]\ttrain-rmse:0.295049 \n",
      "[10]\ttrain-rmse:0.293860 \n"
     ]
    }
   ],
   "source": [
    "library(caret)\n",
    "folds = createFolds(training_set$Exited,k = 10)\n",
    "\n",
    "cv = lapply(folds, function(x){\n",
    "    training_fold = training_set[-x,]\n",
    "    test_fold = training_set[-x,]\n",
    "    classifier = xgboost(data = as.matrix(training_fold[-11]), label = training_fold$Exited, nrounds =10)\n",
    "    y_pred = predict(classifier, newdata = as.matrix(test_fold[-11]))\n",
    "    y_pred = (y_pred >= 0.5)\n",
    "    cm = table(test_fold[, 11], y_pred)\n",
    "    acc = ( cm[1,1] + cm[2,2]) / (cm[1,1] + cm[1,2] + cm[2,1] + cm[2,2])\n",
    "    return (acc)\n",
    "})"
   ]
  },
  {
   "cell_type": "code",
   "execution_count": 37,
   "metadata": {},
   "outputs": [
    {
     "data": {
      "text/html": [
       "0.885013888888889"
      ],
      "text/latex": [
       "0.885013888888889"
      ],
      "text/markdown": [
       "0.885013888888889"
      ],
      "text/plain": [
       "[1] 0.8850139"
      ]
     },
     "metadata": {},
     "output_type": "display_data"
    }
   ],
   "source": [
    "acc = mean(as.numeric(cv))\n",
    "acc"
   ]
  },
  {
   "cell_type": "code",
   "execution_count": null,
   "metadata": {},
   "outputs": [],
   "source": []
  }
 ],
 "metadata": {
  "kernelspec": {
   "display_name": "R",
   "language": "R",
   "name": "ir"
  },
  "language_info": {
   "codemirror_mode": "r",
   "file_extension": ".r",
   "mimetype": "text/x-r-source",
   "name": "R",
   "pygments_lexer": "r",
   "version": "3.6.1"
  }
 },
 "nbformat": 4,
 "nbformat_minor": 4
}
