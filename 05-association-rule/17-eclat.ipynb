{
 "cells": [
  {
   "cell_type": "code",
   "execution_count": 1,
   "metadata": {},
   "outputs": [
    {
     "name": "stderr",
     "output_type": "stream",
     "text": [
      "Loading required package: Matrix\n",
      "\n",
      "Attaching package: ‘arules’\n",
      "\n",
      "The following objects are masked from ‘package:base’:\n",
      "\n",
      "    abbreviate, write\n",
      "\n"
     ]
    }
   ],
   "source": [
    "#install.packages('arules')\n",
    "library('arules')"
   ]
  },
  {
   "cell_type": "code",
   "execution_count": 2,
   "metadata": {
    "scrolled": false
   },
   "outputs": [],
   "source": [
    "dataset = read.csv('../../pynb/05-association-rule/Market_Basket_Optimisation.csv', header = FALSE)"
   ]
  },
  {
   "cell_type": "code",
   "execution_count": 3,
   "metadata": {},
   "outputs": [
    {
     "name": "stdout",
     "output_type": "stream",
     "text": [
      "distribution of transactions with duplicates:\n",
      "1 \n",
      "5 \n"
     ]
    }
   ],
   "source": [
    "dataset = read.transactions('../../pynb/05-association-rule/Market_Basket_Optimisation.csv', sep = ',',\n",
    "                            rm.duplicates = TRUE)"
   ]
  },
  {
   "cell_type": "code",
   "execution_count": 4,
   "metadata": {},
   "outputs": [
    {
     "data": {
      "text/plain": [
       "transactions as itemMatrix in sparse format with\n",
       " 7501 rows (elements/itemsets/transactions) and\n",
       " 119 columns (items) and a density of 0.03288973 \n",
       "\n",
       "most frequent items:\n",
       "mineral water          eggs     spaghetti  french fries     chocolate \n",
       "         1788          1348          1306          1282          1229 \n",
       "      (Other) \n",
       "        22405 \n",
       "\n",
       "element (itemset/transaction) length distribution:\n",
       "sizes\n",
       "   1    2    3    4    5    6    7    8    9   10   11   12   13   14   15   16 \n",
       "1754 1358 1044  816  667  493  391  324  259  139  102   67   40   22   17    4 \n",
       "  18   19   20 \n",
       "   1    2    1 \n",
       "\n",
       "   Min. 1st Qu.  Median    Mean 3rd Qu.    Max. \n",
       "  1.000   2.000   3.000   3.914   5.000  20.000 \n",
       "\n",
       "includes extended item information - examples:\n",
       "             labels\n",
       "1           almonds\n",
       "2 antioxydant juice\n",
       "3         asparagus"
      ]
     },
     "metadata": {},
     "output_type": "display_data"
    }
   ],
   "source": [
    "summary(dataset)"
   ]
  },
  {
   "cell_type": "code",
   "execution_count": 5,
   "metadata": {},
   "outputs": [
    {
     "data": {
      "image/png": "[encoded data removed]",
      "text/plain": [
       "plot without title"
      ]
     },
     "metadata": {},
     "output_type": "display_data"
    }
   ],
   "source": [
    "itemFrequencyPlot(dataset, topN =30)"
   ]
  },
  {
   "cell_type": "code",
   "execution_count": 7,
   "metadata": {},
   "outputs": [
    {
     "name": "stdout",
     "output_type": "stream",
     "text": [
      "Eclat\n",
      "\n",
      "parameter specification:\n",
      " tidLists support minlen maxlen            target  ext\n",
      "    FALSE   0.004      1     10 frequent itemsets TRUE\n",
      "\n",
      "algorithmic control:\n",
      " sparse sort verbose\n",
      "      7   -2    TRUE\n",
      "\n",
      "Absolute minimum support count: 30 \n",
      "\n",
      "create itemset ... \n",
      "set transactions ...[119 item(s), 7501 transaction(s)] done [0.01s].\n",
      "sorting and recoding items ... [114 item(s)] done [0.00s].\n",
      "creating sparse bit matrix ... [114 row(s), 7501 column(s)] done [0.00s].\n",
      "writing  ... [959 set(s)] done [0.01s].\n",
      "Creating S4 object  ... done [0.00s].\n"
     ]
    }
   ],
   "source": [
    "rules = eclat(data=dataset, parameter = list(support = 0.004))"
   ]
  },
  {
   "cell_type": "code",
   "execution_count": 23,
   "metadata": {},
   "outputs": [
    {
     "name": "stdout",
     "output_type": "stream",
     "text": [
      "     lhs                                            rhs                \n",
      "[1]  {mineral water,whole wheat pasta}           => {olive oil}        \n",
      "[2]  {spaghetti,tomato sauce}                    => {ground beef}      \n",
      "[3]  {french fries,herb & pepper}                => {ground beef}      \n",
      "[4]  {cereals,spaghetti}                         => {ground beef}      \n",
      "[5]  {frozen vegetables,mineral water,soup}      => {milk}             \n",
      "[6]  {chocolate,herb & pepper}                   => {ground beef}      \n",
      "[7]  {chocolate,mineral water,shrimp}            => {frozen vegetables}\n",
      "[8]  {frozen vegetables,mineral water,olive oil} => {milk}             \n",
      "[9]  {cereals,ground beef}                       => {spaghetti}        \n",
      "[10] {frozen vegetables,soup}                    => {milk}             \n",
      "     support     confidence coverage    lift     count\n",
      "[1]  0.003866151 0.4027778  0.009598720 6.115863 29   \n",
      "[2]  0.003066258 0.4893617  0.006265831 4.980600 23   \n",
      "[3]  0.003199573 0.4615385  0.006932409 4.697422 24   \n",
      "[4]  0.003066258 0.4600000  0.006665778 4.681764 23   \n",
      "[5]  0.003066258 0.6052632  0.005065991 4.670863 23   \n",
      "[6]  0.003999467 0.4411765  0.009065458 4.490183 30   \n",
      "[7]  0.003199573 0.4210526  0.007598987 4.417225 24   \n",
      "[8]  0.003332889 0.5102041  0.006532462 3.937285 25   \n",
      "[9]  0.003066258 0.6764706  0.004532729 3.885303 23   \n",
      "[10] 0.003999467 0.5000000  0.007998933 3.858539 30   \n"
     ]
    }
   ],
   "source": [
    "inspect(sort(rules, by = 'lift')[1:10])"
   ]
  },
  {
   "cell_type": "code",
   "execution_count": null,
   "metadata": {},
   "outputs": [],
   "source": []
  }
 ],
 "metadata": {
  "kernelspec": {
   "display_name": "R",
   "language": "R",
   "name": "ir"
  },
  "language_info": {
   "codemirror_mode": "r",
   "file_extension": ".r",
   "mimetype": "text/x-r-source",
   "name": "R",
   "pygments_lexer": "r",
   "version": "3.6.1"
  }
 },
 "nbformat": 4,
 "nbformat_minor": 4
}
