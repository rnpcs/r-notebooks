{
 "cells": [
  {
   "cell_type": "code",
   "execution_count": 14,
   "metadata": {},
   "outputs": [],
   "source": [
    "# Importing Dataset\n",
    "dir =  '../Machine Learning A-Z (Codes and Datasets)/Part 2 - Regression/Section 4 - Simple Linear Regression/R/Salary_Data.csv'\n",
    "dataset = read.csv(dir)"
   ]
  },
  {
   "cell_type": "code",
   "execution_count": 15,
   "metadata": {},
   "outputs": [
    {
     "data": {
      "text/html": [
       "<table>\n",
       "<thead><tr><th scope=col>YearsExperience</th><th scope=col>Salary</th></tr></thead>\n",
       "<tbody>\n",
       "\t<tr><td> 1.1  </td><td> 39343</td></tr>\n",
       "\t<tr><td> 1.3  </td><td> 46205</td></tr>\n",
       "\t<tr><td> 1.5  </td><td> 37731</td></tr>\n",
       "\t<tr><td> 2.0  </td><td> 43525</td></tr>\n",
       "\t<tr><td> 2.2  </td><td> 39891</td></tr>\n",
       "\t<tr><td> 2.9  </td><td> 56642</td></tr>\n",
       "\t<tr><td> 3.0  </td><td> 60150</td></tr>\n",
       "\t<tr><td> 3.2  </td><td> 54445</td></tr>\n",
       "\t<tr><td> 3.2  </td><td> 64445</td></tr>\n",
       "\t<tr><td> 3.7  </td><td> 57189</td></tr>\n",
       "\t<tr><td> 3.9  </td><td> 63218</td></tr>\n",
       "\t<tr><td> 4.0  </td><td> 55794</td></tr>\n",
       "\t<tr><td> 4.0  </td><td> 56957</td></tr>\n",
       "\t<tr><td> 4.1  </td><td> 57081</td></tr>\n",
       "\t<tr><td> 4.5  </td><td> 61111</td></tr>\n",
       "\t<tr><td> 4.9  </td><td> 67938</td></tr>\n",
       "\t<tr><td> 5.1  </td><td> 66029</td></tr>\n",
       "\t<tr><td> 5.3  </td><td> 83088</td></tr>\n",
       "\t<tr><td> 5.9  </td><td> 81363</td></tr>\n",
       "\t<tr><td> 6.0  </td><td> 93940</td></tr>\n",
       "\t<tr><td> 6.8  </td><td> 91738</td></tr>\n",
       "\t<tr><td> 7.1  </td><td> 98273</td></tr>\n",
       "\t<tr><td> 7.9  </td><td>101302</td></tr>\n",
       "\t<tr><td> 8.2  </td><td>113812</td></tr>\n",
       "\t<tr><td> 8.7  </td><td>109431</td></tr>\n",
       "\t<tr><td> 9.0  </td><td>105582</td></tr>\n",
       "\t<tr><td> 9.5  </td><td>116969</td></tr>\n",
       "\t<tr><td> 9.6  </td><td>112635</td></tr>\n",
       "\t<tr><td>10.3  </td><td>122391</td></tr>\n",
       "\t<tr><td>10.5  </td><td>121872</td></tr>\n",
       "</tbody>\n",
       "</table>\n"
      ],
      "text/latex": [
       "\\begin{tabular}{r|ll}\n",
       " YearsExperience & Salary\\\\\n",
       "\\hline\n",
       "\t  1.1   &  39343\\\\\n",
       "\t  1.3   &  46205\\\\\n",
       "\t  1.5   &  37731\\\\\n",
       "\t  2.0   &  43525\\\\\n",
       "\t  2.2   &  39891\\\\\n",
       "\t  2.9   &  56642\\\\\n",
       "\t  3.0   &  60150\\\\\n",
       "\t  3.2   &  54445\\\\\n",
       "\t  3.2   &  64445\\\\\n",
       "\t  3.7   &  57189\\\\\n",
       "\t  3.9   &  63218\\\\\n",
       "\t  4.0   &  55794\\\\\n",
       "\t  4.0   &  56957\\\\\n",
       "\t  4.1   &  57081\\\\\n",
       "\t  4.5   &  61111\\\\\n",
       "\t  4.9   &  67938\\\\\n",
       "\t  5.1   &  66029\\\\\n",
       "\t  5.3   &  83088\\\\\n",
       "\t  5.9   &  81363\\\\\n",
       "\t  6.0   &  93940\\\\\n",
       "\t  6.8   &  91738\\\\\n",
       "\t  7.1   &  98273\\\\\n",
       "\t  7.9   & 101302\\\\\n",
       "\t  8.2   & 113812\\\\\n",
       "\t  8.7   & 109431\\\\\n",
       "\t  9.0   & 105582\\\\\n",
       "\t  9.5   & 116969\\\\\n",
       "\t  9.6   & 112635\\\\\n",
       "\t 10.3   & 122391\\\\\n",
       "\t 10.5   & 121872\\\\\n",
       "\\end{tabular}\n"
      ],
      "text/markdown": [
       "\n",
       "| YearsExperience | Salary |\n",
       "|---|---|\n",
       "|  1.1   |  39343 |\n",
       "|  1.3   |  46205 |\n",
       "|  1.5   |  37731 |\n",
       "|  2.0   |  43525 |\n",
       "|  2.2   |  39891 |\n",
       "|  2.9   |  56642 |\n",
       "|  3.0   |  60150 |\n",
       "|  3.2   |  54445 |\n",
       "|  3.2   |  64445 |\n",
       "|  3.7   |  57189 |\n",
       "|  3.9   |  63218 |\n",
       "|  4.0   |  55794 |\n",
       "|  4.0   |  56957 |\n",
       "|  4.1   |  57081 |\n",
       "|  4.5   |  61111 |\n",
       "|  4.9   |  67938 |\n",
       "|  5.1   |  66029 |\n",
       "|  5.3   |  83088 |\n",
       "|  5.9   |  81363 |\n",
       "|  6.0   |  93940 |\n",
       "|  6.8   |  91738 |\n",
       "|  7.1   |  98273 |\n",
       "|  7.9   | 101302 |\n",
       "|  8.2   | 113812 |\n",
       "|  8.7   | 109431 |\n",
       "|  9.0   | 105582 |\n",
       "|  9.5   | 116969 |\n",
       "|  9.6   | 112635 |\n",
       "| 10.3   | 122391 |\n",
       "| 10.5   | 121872 |\n",
       "\n"
      ],
      "text/plain": [
       "   YearsExperience Salary\n",
       "1   1.1             39343\n",
       "2   1.3             46205\n",
       "3   1.5             37731\n",
       "4   2.0             43525\n",
       "5   2.2             39891\n",
       "6   2.9             56642\n",
       "7   3.0             60150\n",
       "8   3.2             54445\n",
       "9   3.2             64445\n",
       "10  3.7             57189\n",
       "11  3.9             63218\n",
       "12  4.0             55794\n",
       "13  4.0             56957\n",
       "14  4.1             57081\n",
       "15  4.5             61111\n",
       "16  4.9             67938\n",
       "17  5.1             66029\n",
       "18  5.3             83088\n",
       "19  5.9             81363\n",
       "20  6.0             93940\n",
       "21  6.8             91738\n",
       "22  7.1             98273\n",
       "23  7.9            101302\n",
       "24  8.2            113812\n",
       "25  8.7            109431\n",
       "26  9.0            105582\n",
       "27  9.5            116969\n",
       "28  9.6            112635\n",
       "29 10.3            122391\n",
       "30 10.5            121872"
      ]
     },
     "metadata": {},
     "output_type": "display_data"
    }
   ],
   "source": [
    "dataset"
   ]
  },
  {
   "cell_type": "code",
   "execution_count": 16,
   "metadata": {},
   "outputs": [],
   "source": [
    "#SPLITTING THE DATA\n",
    "#install.packages(\"caTools\")"
   ]
  },
  {
   "cell_type": "code",
   "execution_count": 17,
   "metadata": {},
   "outputs": [],
   "source": [
    "library('caTools')\n",
    "set.seed(123)"
   ]
  },
  {
   "cell_type": "code",
   "execution_count": 23,
   "metadata": {},
   "outputs": [],
   "source": [
    "split = sample.split(dataset$Salary, SplitRatio=0.8 )\n",
    "training_set = subset(dataset, split == TRUE)\n",
    "test_set = subset(dataset, split==FALSE)"
   ]
  },
  {
   "cell_type": "code",
   "execution_count": 24,
   "metadata": {},
   "outputs": [
    {
     "data": {
      "text/html": [
       "<table>\n",
       "<thead><tr><th></th><th scope=col>YearsExperience</th><th scope=col>Salary</th></tr></thead>\n",
       "<tbody>\n",
       "\t<tr><th scope=row>3</th><td> 1.5  </td><td> 37731</td></tr>\n",
       "\t<tr><th scope=row>5</th><td> 2.2  </td><td> 39891</td></tr>\n",
       "\t<tr><th scope=row>6</th><td> 2.9  </td><td> 56642</td></tr>\n",
       "\t<tr><th scope=row>7</th><td> 3.0  </td><td> 60150</td></tr>\n",
       "\t<tr><th scope=row>8</th><td> 3.2  </td><td> 54445</td></tr>\n",
       "\t<tr><th scope=row>9</th><td> 3.2  </td><td> 64445</td></tr>\n",
       "\t<tr><th scope=row>10</th><td> 3.7  </td><td> 57189</td></tr>\n",
       "\t<tr><th scope=row>11</th><td> 3.9  </td><td> 63218</td></tr>\n",
       "\t<tr><th scope=row>12</th><td> 4.0  </td><td> 55794</td></tr>\n",
       "\t<tr><th scope=row>13</th><td> 4.0  </td><td> 56957</td></tr>\n",
       "\t<tr><th scope=row>14</th><td> 4.1  </td><td> 57081</td></tr>\n",
       "\t<tr><th scope=row>15</th><td> 4.5  </td><td> 61111</td></tr>\n",
       "\t<tr><th scope=row>16</th><td> 4.9  </td><td> 67938</td></tr>\n",
       "\t<tr><th scope=row>17</th><td> 5.1  </td><td> 66029</td></tr>\n",
       "\t<tr><th scope=row>18</th><td> 5.3  </td><td> 83088</td></tr>\n",
       "\t<tr><th scope=row>19</th><td> 5.9  </td><td> 81363</td></tr>\n",
       "\t<tr><th scope=row>21</th><td> 6.8  </td><td> 91738</td></tr>\n",
       "\t<tr><th scope=row>22</th><td> 7.1  </td><td> 98273</td></tr>\n",
       "\t<tr><th scope=row>24</th><td> 8.2  </td><td>113812</td></tr>\n",
       "\t<tr><th scope=row>25</th><td> 8.7  </td><td>109431</td></tr>\n",
       "\t<tr><th scope=row>26</th><td> 9.0  </td><td>105582</td></tr>\n",
       "\t<tr><th scope=row>27</th><td> 9.5  </td><td>116969</td></tr>\n",
       "\t<tr><th scope=row>28</th><td> 9.6  </td><td>112635</td></tr>\n",
       "\t<tr><th scope=row>30</th><td>10.5  </td><td>121872</td></tr>\n",
       "</tbody>\n",
       "</table>\n"
      ],
      "text/latex": [
       "\\begin{tabular}{r|ll}\n",
       "  & YearsExperience & Salary\\\\\n",
       "\\hline\n",
       "\t3 &  1.5   &  37731\\\\\n",
       "\t5 &  2.2   &  39891\\\\\n",
       "\t6 &  2.9   &  56642\\\\\n",
       "\t7 &  3.0   &  60150\\\\\n",
       "\t8 &  3.2   &  54445\\\\\n",
       "\t9 &  3.2   &  64445\\\\\n",
       "\t10 &  3.7   &  57189\\\\\n",
       "\t11 &  3.9   &  63218\\\\\n",
       "\t12 &  4.0   &  55794\\\\\n",
       "\t13 &  4.0   &  56957\\\\\n",
       "\t14 &  4.1   &  57081\\\\\n",
       "\t15 &  4.5   &  61111\\\\\n",
       "\t16 &  4.9   &  67938\\\\\n",
       "\t17 &  5.1   &  66029\\\\\n",
       "\t18 &  5.3   &  83088\\\\\n",
       "\t19 &  5.9   &  81363\\\\\n",
       "\t21 &  6.8   &  91738\\\\\n",
       "\t22 &  7.1   &  98273\\\\\n",
       "\t24 &  8.2   & 113812\\\\\n",
       "\t25 &  8.7   & 109431\\\\\n",
       "\t26 &  9.0   & 105582\\\\\n",
       "\t27 &  9.5   & 116969\\\\\n",
       "\t28 &  9.6   & 112635\\\\\n",
       "\t30 & 10.5   & 121872\\\\\n",
       "\\end{tabular}\n"
      ],
      "text/markdown": [
       "\n",
       "| <!--/--> | YearsExperience | Salary |\n",
       "|---|---|---|\n",
       "| 3 |  1.5   |  37731 |\n",
       "| 5 |  2.2   |  39891 |\n",
       "| 6 |  2.9   |  56642 |\n",
       "| 7 |  3.0   |  60150 |\n",
       "| 8 |  3.2   |  54445 |\n",
       "| 9 |  3.2   |  64445 |\n",
       "| 10 |  3.7   |  57189 |\n",
       "| 11 |  3.9   |  63218 |\n",
       "| 12 |  4.0   |  55794 |\n",
       "| 13 |  4.0   |  56957 |\n",
       "| 14 |  4.1   |  57081 |\n",
       "| 15 |  4.5   |  61111 |\n",
       "| 16 |  4.9   |  67938 |\n",
       "| 17 |  5.1   |  66029 |\n",
       "| 18 |  5.3   |  83088 |\n",
       "| 19 |  5.9   |  81363 |\n",
       "| 21 |  6.8   |  91738 |\n",
       "| 22 |  7.1   |  98273 |\n",
       "| 24 |  8.2   | 113812 |\n",
       "| 25 |  8.7   | 109431 |\n",
       "| 26 |  9.0   | 105582 |\n",
       "| 27 |  9.5   | 116969 |\n",
       "| 28 |  9.6   | 112635 |\n",
       "| 30 | 10.5   | 121872 |\n",
       "\n"
      ],
      "text/plain": [
       "   YearsExperience Salary\n",
       "3   1.5             37731\n",
       "5   2.2             39891\n",
       "6   2.9             56642\n",
       "7   3.0             60150\n",
       "8   3.2             54445\n",
       "9   3.2             64445\n",
       "10  3.7             57189\n",
       "11  3.9             63218\n",
       "12  4.0             55794\n",
       "13  4.0             56957\n",
       "14  4.1             57081\n",
       "15  4.5             61111\n",
       "16  4.9             67938\n",
       "17  5.1             66029\n",
       "18  5.3             83088\n",
       "19  5.9             81363\n",
       "21  6.8             91738\n",
       "22  7.1             98273\n",
       "24  8.2            113812\n",
       "25  8.7            109431\n",
       "26  9.0            105582\n",
       "27  9.5            116969\n",
       "28  9.6            112635\n",
       "30 10.5            121872"
      ]
     },
     "metadata": {},
     "output_type": "display_data"
    }
   ],
   "source": [
    "training_set"
   ]
  },
  {
   "cell_type": "code",
   "execution_count": 25,
   "metadata": {},
   "outputs": [
    {
     "data": {
      "text/html": [
       "<table>\n",
       "<thead><tr><th></th><th scope=col>YearsExperience</th><th scope=col>Salary</th></tr></thead>\n",
       "<tbody>\n",
       "\t<tr><th scope=row>1</th><td> 1.1  </td><td> 39343</td></tr>\n",
       "\t<tr><th scope=row>2</th><td> 1.3  </td><td> 46205</td></tr>\n",
       "\t<tr><th scope=row>4</th><td> 2.0  </td><td> 43525</td></tr>\n",
       "\t<tr><th scope=row>20</th><td> 6.0  </td><td> 93940</td></tr>\n",
       "\t<tr><th scope=row>23</th><td> 7.9  </td><td>101302</td></tr>\n",
       "\t<tr><th scope=row>29</th><td>10.3  </td><td>122391</td></tr>\n",
       "</tbody>\n",
       "</table>\n"
      ],
      "text/latex": [
       "\\begin{tabular}{r|ll}\n",
       "  & YearsExperience & Salary\\\\\n",
       "\\hline\n",
       "\t1 &  1.1   &  39343\\\\\n",
       "\t2 &  1.3   &  46205\\\\\n",
       "\t4 &  2.0   &  43525\\\\\n",
       "\t20 &  6.0   &  93940\\\\\n",
       "\t23 &  7.9   & 101302\\\\\n",
       "\t29 & 10.3   & 122391\\\\\n",
       "\\end{tabular}\n"
      ],
      "text/markdown": [
       "\n",
       "| <!--/--> | YearsExperience | Salary |\n",
       "|---|---|---|\n",
       "| 1 |  1.1   |  39343 |\n",
       "| 2 |  1.3   |  46205 |\n",
       "| 4 |  2.0   |  43525 |\n",
       "| 20 |  6.0   |  93940 |\n",
       "| 23 |  7.9   | 101302 |\n",
       "| 29 | 10.3   | 122391 |\n",
       "\n"
      ],
      "text/plain": [
       "   YearsExperience Salary\n",
       "1   1.1             39343\n",
       "2   1.3             46205\n",
       "4   2.0             43525\n",
       "20  6.0             93940\n",
       "23  7.9            101302\n",
       "29 10.3            122391"
      ]
     },
     "metadata": {},
     "output_type": "display_data"
    }
   ],
   "source": [
    "test_set"
   ]
  },
  {
   "cell_type": "code",
   "execution_count": 26,
   "metadata": {},
   "outputs": [],
   "source": [
    "#Feature Scaling\n",
    "#training_set[,2] = scale(training_set[,2])\n",
    "#test_set[,2] = scale(test_set[,2])"
   ]
  },
  {
   "cell_type": "code",
   "execution_count": 27,
   "metadata": {},
   "outputs": [],
   "source": [
    "regressor = lm(formula=Salary ~ YearsExperience,\n",
    "               data=training_set)"
   ]
  },
  {
   "cell_type": "code",
   "execution_count": 28,
   "metadata": {},
   "outputs": [],
   "source": [
    "y_pred = predict(regressor, newdata=test_set)"
   ]
  },
  {
   "cell_type": "code",
   "execution_count": 29,
   "metadata": {},
   "outputs": [
    {
     "data": {
      "text/html": [
       "<dl class=dl-horizontal>\n",
       "\t<dt>1</dt>\n",
       "\t\t<dd>34208.7153417819</dd>\n",
       "\t<dt>2</dt>\n",
       "\t\t<dd>36148.1307283666</dd>\n",
       "\t<dt>4</dt>\n",
       "\t\t<dd>42936.0845814132</dd>\n",
       "\t<dt>20</dt>\n",
       "\t\t<dd>81724.392313108</dd>\n",
       "\t<dt>23</dt>\n",
       "\t\t<dd>100148.838485663</dd>\n",
       "\t<dt>29</dt>\n",
       "\t\t<dd>123421.82312468</dd>\n",
       "</dl>\n"
      ],
      "text/latex": [
       "\\begin{description*}\n",
       "\\item[1] 34208.7153417819\n",
       "\\item[2] 36148.1307283666\n",
       "\\item[4] 42936.0845814132\n",
       "\\item[20] 81724.392313108\n",
       "\\item[23] 100148.838485663\n",
       "\\item[29] 123421.82312468\n",
       "\\end{description*}\n"
      ],
      "text/markdown": [
       "1\n",
       ":   34208.71534178192\n",
       ":   36148.13072836664\n",
       ":   42936.084581413220\n",
       ":   81724.39231310823\n",
       ":   100148.83848566329\n",
       ":   123421.82312468\n",
       "\n"
      ],
      "text/plain": [
       "        1         2         4        20        23        29 \n",
       " 34208.72  36148.13  42936.08  81724.39 100148.84 123421.82 "
      ]
     },
     "metadata": {},
     "output_type": "display_data"
    }
   ],
   "source": [
    "y_pred"
   ]
  },
  {
   "cell_type": "code",
   "execution_count": 33,
   "metadata": {},
   "outputs": [
    {
     "name": "stderr",
     "output_type": "stream",
     "text": [
      "also installing the dependencies ‘desc’, ‘pkgbuild’, ‘rprojroot’, ‘pkgload’, ‘praise’, ‘rlang’, ‘testthat’, ‘isoband’\n",
      "\n",
      "Updating HTML index of packages in '.Library'\n",
      "Making 'packages.html' ... done\n"
     ]
    }
   ],
   "source": [
    "#install.packages('ggplot2')"
   ]
  },
  {
   "cell_type": "code",
   "execution_count": 34,
   "metadata": {},
   "outputs": [],
   "source": [
    "library('ggplot2')"
   ]
  },
  {
   "cell_type": "code",
   "execution_count": 46,
   "metadata": {},
   "outputs": [
    {
     "data": {
      "image/png": "[encoded data removed]",
      "text/plain": [
       "plot without title"
      ]
     },
     "metadata": {},
     "output_type": "display_data"
    }
   ],
   "source": [
    "ggplot() +\n",
    "    geom_point(aes(x=training_set$YearsExperience, y=training_set$Salary ), color='red' ) +\n",
    "    geom_line(aes(x=training_set$YearsExperience, y=predict(regressor, newdata=training_set)) , color='black' ) +\n",
    "    ggtitle('Salary vs Experience (Training Set)') +\n",
    "    xlab('Experience') +\n",
    "    ylab('Salary')\n"
   ]
  },
  {
   "cell_type": "code",
   "execution_count": 51,
   "metadata": {},
   "outputs": [
    {
     "data": {
      "image/png": "[encoded data removed]",
      "text/plain": [
       "plot without title"
      ]
     },
     "metadata": {},
     "output_type": "display_data"
    }
   ],
   "source": [
    "ggplot() +\n",
    "    geom_point(aes(x=test_set$YearsExperience, y=test_set$Salary ), color='red' ) +\n",
    "    geom_line(aes(x=training_set$YearsExperience, y=predict(regressor, newdata=training_set)) , color='black' ) +\n",
    "    ggtitle('Salary vs Experience (Test Set)') +\n",
    "    xlab('Experience') +\n",
    "    ylab('Salary')\n"
   ]
  },
  {
   "cell_type": "code",
   "execution_count": null,
   "metadata": {},
   "outputs": [],
   "source": []
  }
 ],
 "metadata": {
  "kernelspec": {
   "display_name": "R",
   "language": "R",
   "name": "ir"
  },
  "language_info": {
   "codemirror_mode": "r",
   "file_extension": ".r",
   "mimetype": "text/x-r-source",
   "name": "R",
   "pygments_lexer": "r",
   "version": "3.6.1"
  }
 },
 "nbformat": 4,
 "nbformat_minor": 4
}
