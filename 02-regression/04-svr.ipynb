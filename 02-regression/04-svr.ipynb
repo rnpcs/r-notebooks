{
 "cells": [
  {
   "cell_type": "code",
   "execution_count": 1,
   "metadata": {},
   "outputs": [],
   "source": [
    "# Importing Dataset\n",
    "dir = '../Machine Learning A-Z (Codes and Datasets)/Part 2 - Regression/Section 7 - Support Vector Regression (SVR)/R/Position_Salaries.csv'\n",
    "dataset = read.csv(dir)"
   ]
  },
  {
   "cell_type": "code",
   "execution_count": 2,
   "metadata": {},
   "outputs": [
    {
     "data": {
      "text/html": [
       "<table>\n",
       "<thead><tr><th scope=col>Position</th><th scope=col>Level</th><th scope=col>Salary</th></tr></thead>\n",
       "<tbody>\n",
       "\t<tr><td>Business Analyst </td><td> 1               </td><td>  45000          </td></tr>\n",
       "\t<tr><td>Junior Consultant</td><td> 2               </td><td>  50000          </td></tr>\n",
       "\t<tr><td>Senior Consultant</td><td> 3               </td><td>  60000          </td></tr>\n",
       "\t<tr><td>Manager          </td><td> 4               </td><td>  80000          </td></tr>\n",
       "\t<tr><td>Country Manager  </td><td> 5               </td><td> 110000          </td></tr>\n",
       "\t<tr><td>Region Manager   </td><td> 6               </td><td> 150000          </td></tr>\n",
       "\t<tr><td>Partner          </td><td> 7               </td><td> 200000          </td></tr>\n",
       "\t<tr><td>Senior Partner   </td><td> 8               </td><td> 300000          </td></tr>\n",
       "\t<tr><td>C-level          </td><td> 9               </td><td> 500000          </td></tr>\n",
       "\t<tr><td>CEO              </td><td>10               </td><td>1000000          </td></tr>\n",
       "</tbody>\n",
       "</table>\n"
      ],
      "text/latex": [
       "\\begin{tabular}{r|lll}\n",
       " Position & Level & Salary\\\\\n",
       "\\hline\n",
       "\t Business Analyst  &  1                &   45000          \\\\\n",
       "\t Junior Consultant &  2                &   50000          \\\\\n",
       "\t Senior Consultant &  3                &   60000          \\\\\n",
       "\t Manager           &  4                &   80000          \\\\\n",
       "\t Country Manager   &  5                &  110000          \\\\\n",
       "\t Region Manager    &  6                &  150000          \\\\\n",
       "\t Partner           &  7                &  200000          \\\\\n",
       "\t Senior Partner    &  8                &  300000          \\\\\n",
       "\t C-level           &  9                &  500000          \\\\\n",
       "\t CEO               & 10                & 1000000          \\\\\n",
       "\\end{tabular}\n"
      ],
      "text/markdown": [
       "\n",
       "| Position | Level | Salary |\n",
       "|---|---|---|\n",
       "| Business Analyst  |  1                |   45000           |\n",
       "| Junior Consultant |  2                |   50000           |\n",
       "| Senior Consultant |  3                |   60000           |\n",
       "| Manager           |  4                |   80000           |\n",
       "| Country Manager   |  5                |  110000           |\n",
       "| Region Manager    |  6                |  150000           |\n",
       "| Partner           |  7                |  200000           |\n",
       "| Senior Partner    |  8                |  300000           |\n",
       "| C-level           |  9                |  500000           |\n",
       "| CEO               | 10                | 1000000           |\n",
       "\n"
      ],
      "text/plain": [
       "   Position          Level Salary \n",
       "1  Business Analyst   1      45000\n",
       "2  Junior Consultant  2      50000\n",
       "3  Senior Consultant  3      60000\n",
       "4  Manager            4      80000\n",
       "5  Country Manager    5     110000\n",
       "6  Region Manager     6     150000\n",
       "7  Partner            7     200000\n",
       "8  Senior Partner     8     300000\n",
       "9  C-level            9     500000\n",
       "10 CEO               10    1000000"
      ]
     },
     "metadata": {},
     "output_type": "display_data"
    }
   ],
   "source": [
    "dataset"
   ]
  },
  {
   "cell_type": "code",
   "execution_count": 3,
   "metadata": {},
   "outputs": [],
   "source": [
    "dataset = dataset[2:3]"
   ]
  },
  {
   "cell_type": "code",
   "execution_count": 4,
   "metadata": {},
   "outputs": [
    {
     "data": {
      "text/html": [
       "<table>\n",
       "<thead><tr><th scope=col>Level</th><th scope=col>Salary</th></tr></thead>\n",
       "<tbody>\n",
       "\t<tr><td> 1     </td><td>  45000</td></tr>\n",
       "\t<tr><td> 2     </td><td>  50000</td></tr>\n",
       "\t<tr><td> 3     </td><td>  60000</td></tr>\n",
       "\t<tr><td> 4     </td><td>  80000</td></tr>\n",
       "\t<tr><td> 5     </td><td> 110000</td></tr>\n",
       "\t<tr><td> 6     </td><td> 150000</td></tr>\n",
       "\t<tr><td> 7     </td><td> 200000</td></tr>\n",
       "\t<tr><td> 8     </td><td> 300000</td></tr>\n",
       "\t<tr><td> 9     </td><td> 500000</td></tr>\n",
       "\t<tr><td>10     </td><td>1000000</td></tr>\n",
       "</tbody>\n",
       "</table>\n"
      ],
      "text/latex": [
       "\\begin{tabular}{r|ll}\n",
       " Level & Salary\\\\\n",
       "\\hline\n",
       "\t  1      &   45000\\\\\n",
       "\t  2      &   50000\\\\\n",
       "\t  3      &   60000\\\\\n",
       "\t  4      &   80000\\\\\n",
       "\t  5      &  110000\\\\\n",
       "\t  6      &  150000\\\\\n",
       "\t  7      &  200000\\\\\n",
       "\t  8      &  300000\\\\\n",
       "\t  9      &  500000\\\\\n",
       "\t 10      & 1000000\\\\\n",
       "\\end{tabular}\n"
      ],
      "text/markdown": [
       "\n",
       "| Level | Salary |\n",
       "|---|---|\n",
       "|  1      |   45000 |\n",
       "|  2      |   50000 |\n",
       "|  3      |   60000 |\n",
       "|  4      |   80000 |\n",
       "|  5      |  110000 |\n",
       "|  6      |  150000 |\n",
       "|  7      |  200000 |\n",
       "|  8      |  300000 |\n",
       "|  9      |  500000 |\n",
       "| 10      | 1000000 |\n",
       "\n"
      ],
      "text/plain": [
       "   Level Salary \n",
       "1   1      45000\n",
       "2   2      50000\n",
       "3   3      60000\n",
       "4   4      80000\n",
       "5   5     110000\n",
       "6   6     150000\n",
       "7   7     200000\n",
       "8   8     300000\n",
       "9   9     500000\n",
       "10 10    1000000"
      ]
     },
     "metadata": {},
     "output_type": "display_data"
    }
   ],
   "source": [
    "dataset"
   ]
  },
  {
   "cell_type": "code",
   "execution_count": 5,
   "metadata": {},
   "outputs": [],
   "source": [
    "#SPLITTING THE DATA\n",
    "#install.packages(\"caTools\")"
   ]
  },
  {
   "cell_type": "code",
   "execution_count": 6,
   "metadata": {},
   "outputs": [],
   "source": [
    "#install.packages(\"e1071\")\n",
    "library('e1071')"
   ]
  },
  {
   "cell_type": "code",
   "execution_count": 7,
   "metadata": {},
   "outputs": [],
   "source": [
    "regressor = svm(formula = Salary ~ .,\n",
    "               data = dataset,\n",
    "               type = 'eps-regression')"
   ]
  },
  {
   "cell_type": "code",
   "execution_count": null,
   "metadata": {},
   "outputs": [],
   "source": []
  },
  {
   "cell_type": "code",
   "execution_count": 8,
   "metadata": {},
   "outputs": [],
   "source": [
    "\n",
    "#split = sample.split(dataset$Purchased, SplitRatio=0.8 )\n",
    "#training_set = subset(dataset, split == TRUE)\n",
    "#test_set = subset(dataset, split==FALSE)"
   ]
  },
  {
   "cell_type": "code",
   "execution_count": null,
   "metadata": {},
   "outputs": [],
   "source": []
  },
  {
   "cell_type": "code",
   "execution_count": 10,
   "metadata": {},
   "outputs": [],
   "source": [
    "library('ggplot2')"
   ]
  },
  {
   "cell_type": "code",
   "execution_count": 13,
   "metadata": {},
   "outputs": [
    {
     "data": {
      "image/png": "[encoded data removed]",
      "text/plain": [
       "plot without title"
      ]
     },
     "metadata": {},
     "output_type": "display_data"
    }
   ],
   "source": [
    "ggplot() +\n",
    "    geom_point(aes(x=dataset$Level, y=dataset$Salary),color='red') +\n",
    "    geom_line(aes(x=dataset$Level, y=predict(regressor, newdata=dataset)), color='orange') +\n",
    "    ggtitle('Truth or Bluff (SVR)') +\n",
    "    xlab('Level')"
   ]
  },
  {
   "cell_type": "code",
   "execution_count": 14,
   "metadata": {},
   "outputs": [],
   "source": [
    "y_pred =  predict(regressor, data.frame(Level = 6.5))"
   ]
  },
  {
   "cell_type": "code",
   "execution_count": 15,
   "metadata": {},
   "outputs": [
    {
     "data": {
      "text/html": [
       "<strong>1:</strong> 177861.113529654"
      ],
      "text/latex": [
       "\\textbf{1:} 177861.113529654"
      ],
      "text/markdown": [
       "**1:** 177861.113529654"
      ],
      "text/plain": [
       "       1 \n",
       "177861.1 "
      ]
     },
     "metadata": {},
     "output_type": "display_data"
    }
   ],
   "source": [
    "y_pred"
   ]
  },
  {
   "cell_type": "code",
   "execution_count": null,
   "metadata": {},
   "outputs": [],
   "source": []
  }
 ],
 "metadata": {
  "kernelspec": {
   "display_name": "R",
   "language": "R",
   "name": "ir"
  },
  "language_info": {
   "codemirror_mode": "r",
   "file_extension": ".r",
   "mimetype": "text/x-r-source",
   "name": "R",
   "pygments_lexer": "r",
   "version": "3.6.1"
  }
 },
 "nbformat": 4,
 "nbformat_minor": 4
}
