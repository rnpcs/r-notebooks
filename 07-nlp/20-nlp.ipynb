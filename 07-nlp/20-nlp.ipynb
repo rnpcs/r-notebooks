{
 "cells": [
  {
   "cell_type": "code",
   "execution_count": 1,
   "metadata": {},
   "outputs": [],
   "source": [
    "dataset = read.delim('../../pynb/07-nlp/Restaurant_Reviews.tsv', quote = '', stringsAsFactors = FALSE)"
   ]
  },
  {
   "cell_type": "code",
   "execution_count": 2,
   "metadata": {},
   "outputs": [
    {
     "data": {
      "text/html": [
       "<table>\n",
       "<thead><tr><th scope=col>Review</th><th scope=col>Liked</th></tr></thead>\n",
       "<tbody>\n",
       "\t<tr><td>Wow... Loved this place.                                                                                                                     </td><td>1                                                                                                                                            </td></tr>\n",
       "\t<tr><td>Crust is not good.                                                                                                                           </td><td>0                                                                                                                                            </td></tr>\n",
       "\t<tr><td>Not tasty and the texture was just nasty.                                                                                                    </td><td>0                                                                                                                                            </td></tr>\n",
       "\t<tr><td>Stopped by during the late May bank holiday off Rick Steve recommendation and loved it.                                                      </td><td>1                                                                                                                                            </td></tr>\n",
       "\t<tr><td>The selection on the menu was great and so were the prices.                                                                                  </td><td>1                                                                                                                                            </td></tr>\n",
       "\t<tr><td>Now I am getting angry and I want my damn pho.                                                                                               </td><td>0                                                                                                                                            </td></tr>\n",
       "\t<tr><td>Honeslty it didn't taste THAT fresh.)                                                                                                        </td><td>0                                                                                                                                            </td></tr>\n",
       "\t<tr><td>The potatoes were like rubber and you could tell they had been made up ahead of time being kept under a warmer.                              </td><td>0                                                                                                                                            </td></tr>\n",
       "\t<tr><td>The fries were great too.                                                                                                                    </td><td>1                                                                                                                                            </td></tr>\n",
       "\t<tr><td>A great touch.                                                                                                                               </td><td>1                                                                                                                                            </td></tr>\n",
       "\t<tr><td>Service was very prompt.                                                                                                                     </td><td>1                                                                                                                                            </td></tr>\n",
       "\t<tr><td>Would not go back.                                                                                                                           </td><td>0                                                                                                                                            </td></tr>\n",
       "\t<tr><td>The cashier had no care what so ever on what I had to say it still ended up being wayyy overpriced.                                          </td><td>0                                                                                                                                            </td></tr>\n",
       "\t<tr><td>I tried the Cape Cod ravoli, chicken, with cranberry...mmmm!                                                                                 </td><td>1                                                                                                                                            </td></tr>\n",
       "\t<tr><td>I was disgusted because I was pretty sure that was human hair.                                                                               </td><td>0                                                                                                                                            </td></tr>\n",
       "\t<tr><td>I was shocked because no signs indicate cash only.                                                                                           </td><td>0                                                                                                                                            </td></tr>\n",
       "\t<tr><td>Highly recommended.                                                                                                                          </td><td>1                                                                                                                                            </td></tr>\n",
       "\t<tr><td>Waitress was a little slow in service.                                                                                                       </td><td>0                                                                                                                                            </td></tr>\n",
       "\t<tr><td>This place is not worth your time, let alone Vegas.                                                                                          </td><td>0                                                                                                                                            </td></tr>\n",
       "\t<tr><td>did not like at all.                                                                                                                         </td><td>0                                                                                                                                            </td></tr>\n",
       "\t<tr><td>The Burrittos Blah!                                                                                                                          </td><td>0                                                                                                                                            </td></tr>\n",
       "\t<tr><td>The food, amazing.                                                                                                                           </td><td>1                                                                                                                                            </td></tr>\n",
       "\t<tr><td>Service is also cute.                                                                                                                        </td><td>1                                                                                                                                            </td></tr>\n",
       "\t<tr><td>I could care less... The interior is just beautiful.                                                                                         </td><td>1                                                                                                                                            </td></tr>\n",
       "\t<tr><td>So they performed.                                                                                                                           </td><td>1                                                                                                                                            </td></tr>\n",
       "\t<tr><td>That's right....the red velvet cake.....ohhh this stuff is so good.                                                                          </td><td>1                                                                                                                                            </td></tr>\n",
       "\t<tr><td>- They never brought a salad we asked for.                                                                                                   </td><td>0                                                                                                                                            </td></tr>\n",
       "\t<tr><td>This hole in the wall has great Mexican street tacos, and friendly staff.                                                                    </td><td>1                                                                                                                                            </td></tr>\n",
       "\t<tr><td>Took an hour to get our food only 4 tables in restaurant my food was Luke warm, Our sever was running around like he was totally overwhelmed.</td><td>0                                                                                                                                            </td></tr>\n",
       "\t<tr><td>The worst was the salmon sashimi.                                                                                                            </td><td>0                                                                                                                                            </td></tr>\n",
       "\t<tr><td>...</td><td>...</td></tr>\n",
       "\t<tr><td>I immediately said I wanted to talk to the manager but I did not want to talk to the guy who was doing shots of fireball behind the bar.             </td><td>0                                                                                                                                                    </td></tr>\n",
       "\t<tr><td>The ambiance isn't much better.                                                                                                                      </td><td>0                                                                                                                                                    </td></tr>\n",
       "\t<tr><td>Unfortunately, it only set us up for disapppointment with our entrees.                                                                               </td><td>0                                                                                                                                                    </td></tr>\n",
       "\t<tr><td>The food wasn't good.                                                                                                                                </td><td>0                                                                                                                                                    </td></tr>\n",
       "\t<tr><td>Your servers suck, wait, correction, our server Heimer sucked.                                                                                       </td><td>0                                                                                                                                                    </td></tr>\n",
       "\t<tr><td>What happened next was pretty....off putting.                                                                                                        </td><td>0                                                                                                                                                    </td></tr>\n",
       "\t<tr><td>too bad cause I know it's family owned, I really wanted to like this place.                                                                          </td><td>0                                                                                                                                                    </td></tr>\n",
       "\t<tr><td>Overpriced for what you are getting.                                                                                                                 </td><td>0                                                                                                                                                    </td></tr>\n",
       "\t<tr><td>I vomited in the bathroom mid lunch.                                                                                                                 </td><td>0                                                                                                                                                    </td></tr>\n",
       "\t<tr><td>I kept looking at the time and it had soon become 35 minutes, yet still no food.                                                                     </td><td>0                                                                                                                                                    </td></tr>\n",
       "\t<tr><td>I have been to very few places to eat that under no circumstances would I ever return to, and this tops the list.                                    </td><td>0                                                                                                                                                    </td></tr>\n",
       "\t<tr><td>We started with the tuna sashimi which was brownish in color and obviously wasn't fresh.                                                             </td><td>0                                                                                                                                                    </td></tr>\n",
       "\t<tr><td>Food was below average.                                                                                                                              </td><td>0                                                                                                                                                    </td></tr>\n",
       "\t<tr><td>It sure does beat the nachos at the movies but I would expect a little bit more coming from a restaurant.                                            </td><td>0                                                                                                                                                    </td></tr>\n",
       "\t<tr><td>All in all, Ha Long Bay was a bit of a flop.                                                                                                         </td><td>0                                                                                                                                                    </td></tr>\n",
       "\t<tr><td>The problem I have is that they charge $11.99 for a sandwich that is no bigger than a Subway sub (which offers better and more amount of vegetables).</td><td>0                                                                                                                                                    </td></tr>\n",
       "\t<tr><td>Shrimp- When I unwrapped it (I live only 1/2 a mile from Brushfire) it was literally ice cold.                                                       </td><td>0                                                                                                                                                    </td></tr>\n",
       "\t<tr><td>It lacked flavor, seemed undercooked, and dry.                                                                                                       </td><td>0                                                                                                                                                    </td></tr>\n",
       "\t<tr><td>It really is impressive that the place hasn't closed down.                                                                                           </td><td>0                                                                                                                                                    </td></tr>\n",
       "\t<tr><td>I would avoid this place if you are staying in the Mirage.                                                                                           </td><td>0                                                                                                                                                    </td></tr>\n",
       "\t<tr><td>The refried beans that came with my meal were dried out and crusty and the food was bland.                                                           </td><td>0                                                                                                                                                    </td></tr>\n",
       "\t<tr><td>Spend your money and time some place else.                                                                                                           </td><td>0                                                                                                                                                    </td></tr>\n",
       "\t<tr><td>A lady at the table next to us found a live green caterpillar In her salad.                                                                          </td><td>0                                                                                                                                                    </td></tr>\n",
       "\t<tr><td>the presentation of the food was awful.                                                                                                              </td><td>0                                                                                                                                                    </td></tr>\n",
       "\t<tr><td>I can't tell you how disappointed I was.                                                                                                             </td><td>0                                                                                                                                                    </td></tr>\n",
       "\t<tr><td>I think food should have flavor and texture and both were lacking.                                                                                   </td><td>0                                                                                                                                                    </td></tr>\n",
       "\t<tr><td>Appetite instantly gone.                                                                                                                             </td><td>0                                                                                                                                                    </td></tr>\n",
       "\t<tr><td>Overall I was not impressed and would not go back.                                                                                                   </td><td>0                                                                                                                                                    </td></tr>\n",
       "\t<tr><td>The whole experience was underwhelming, and I think we'll just go to Ninja Sushi next time.                                                          </td><td>0                                                                                                                                                    </td></tr>\n",
       "\t<tr><td>Then, as if I hadn't wasted enough of my life there, they poured salt in the wound by drawing out the time it took to bring the check.               </td><td>0                                                                                                                                                    </td></tr>\n",
       "</tbody>\n",
       "</table>\n"
      ],
      "text/latex": [
       "\\begin{tabular}{r|ll}\n",
       " Review & Liked\\\\\n",
       "\\hline\n",
       "\t Wow... Loved this place.                                                                                                                      & 1                                                                                                                                            \\\\\n",
       "\t Crust is not good.                                                                                                                            & 0                                                                                                                                            \\\\\n",
       "\t Not tasty and the texture was just nasty.                                                                                                     & 0                                                                                                                                            \\\\\n",
       "\t Stopped by during the late May bank holiday off Rick Steve recommendation and loved it.                                                       & 1                                                                                                                                            \\\\\n",
       "\t The selection on the menu was great and so were the prices.                                                                                   & 1                                                                                                                                            \\\\\n",
       "\t Now I am getting angry and I want my damn pho.                                                                                                & 0                                                                                                                                            \\\\\n",
       "\t Honeslty it didn't taste THAT fresh.)                                                                                                         & 0                                                                                                                                            \\\\\n",
       "\t The potatoes were like rubber and you could tell they had been made up ahead of time being kept under a warmer.                               & 0                                                                                                                                            \\\\\n",
       "\t The fries were great too.                                                                                                                     & 1                                                                                                                                            \\\\\n",
       "\t A great touch.                                                                                                                                & 1                                                                                                                                            \\\\\n",
       "\t Service was very prompt.                                                                                                                      & 1                                                                                                                                            \\\\\n",
       "\t Would not go back.                                                                                                                            & 0                                                                                                                                            \\\\\n",
       "\t The cashier had no care what so ever on what I had to say it still ended up being wayyy overpriced.                                           & 0                                                                                                                                            \\\\\n",
       "\t I tried the Cape Cod ravoli, chicken, with cranberry...mmmm!                                                                                  & 1                                                                                                                                            \\\\\n",
       "\t I was disgusted because I was pretty sure that was human hair.                                                                                & 0                                                                                                                                            \\\\\n",
       "\t I was shocked because no signs indicate cash only.                                                                                            & 0                                                                                                                                            \\\\\n",
       "\t Highly recommended.                                                                                                                           & 1                                                                                                                                            \\\\\n",
       "\t Waitress was a little slow in service.                                                                                                        & 0                                                                                                                                            \\\\\n",
       "\t This place is not worth your time, let alone Vegas.                                                                                           & 0                                                                                                                                            \\\\\n",
       "\t did not like at all.                                                                                                                          & 0                                                                                                                                            \\\\\n",
       "\t The Burrittos Blah!                                                                                                                           & 0                                                                                                                                            \\\\\n",
       "\t The food, amazing.                                                                                                                            & 1                                                                                                                                            \\\\\n",
       "\t Service is also cute.                                                                                                                         & 1                                                                                                                                            \\\\\n",
       "\t I could care less... The interior is just beautiful.                                                                                          & 1                                                                                                                                            \\\\\n",
       "\t So they performed.                                                                                                                            & 1                                                                                                                                            \\\\\n",
       "\t That's right....the red velvet cake.....ohhh this stuff is so good.                                                                           & 1                                                                                                                                            \\\\\n",
       "\t - They never brought a salad we asked for.                                                                                                    & 0                                                                                                                                            \\\\\n",
       "\t This hole in the wall has great Mexican street tacos, and friendly staff.                                                                     & 1                                                                                                                                            \\\\\n",
       "\t Took an hour to get our food only 4 tables in restaurant my food was Luke warm, Our sever was running around like he was totally overwhelmed. & 0                                                                                                                                            \\\\\n",
       "\t The worst was the salmon sashimi.                                                                                                             & 0                                                                                                                                            \\\\\n",
       "\t ... & ...\\\\\n",
       "\t I immediately said I wanted to talk to the manager but I did not want to talk to the guy who was doing shots of fireball behind the bar.              & 0                                                                                                                                                    \\\\\n",
       "\t The ambiance isn't much better.                                                                                                                       & 0                                                                                                                                                    \\\\\n",
       "\t Unfortunately, it only set us up for disapppointment with our entrees.                                                                                & 0                                                                                                                                                    \\\\\n",
       "\t The food wasn't good.                                                                                                                                 & 0                                                                                                                                                    \\\\\n",
       "\t Your servers suck, wait, correction, our server Heimer sucked.                                                                                        & 0                                                                                                                                                    \\\\\n",
       "\t What happened next was pretty....off putting.                                                                                                         & 0                                                                                                                                                    \\\\\n",
       "\t too bad cause I know it's family owned, I really wanted to like this place.                                                                           & 0                                                                                                                                                    \\\\\n",
       "\t Overpriced for what you are getting.                                                                                                                  & 0                                                                                                                                                    \\\\\n",
       "\t I vomited in the bathroom mid lunch.                                                                                                                  & 0                                                                                                                                                    \\\\\n",
       "\t I kept looking at the time and it had soon become 35 minutes, yet still no food.                                                                      & 0                                                                                                                                                    \\\\\n",
       "\t I have been to very few places to eat that under no circumstances would I ever return to, and this tops the list.                                     & 0                                                                                                                                                    \\\\\n",
       "\t We started with the tuna sashimi which was brownish in color and obviously wasn't fresh.                                                              & 0                                                                                                                                                    \\\\\n",
       "\t Food was below average.                                                                                                                               & 0                                                                                                                                                    \\\\\n",
       "\t It sure does beat the nachos at the movies but I would expect a little bit more coming from a restaurant.                                             & 0                                                                                                                                                    \\\\\n",
       "\t All in all, Ha Long Bay was a bit of a flop.                                                                                                          & 0                                                                                                                                                    \\\\\n",
       "\t The problem I have is that they charge \\$11.99 for a sandwich that is no bigger than a Subway sub (which offers better and more amount of vegetables). & 0                                                                                                                                                      \\\\\n",
       "\t Shrimp- When I unwrapped it (I live only 1/2 a mile from Brushfire) it was literally ice cold.                                                        & 0                                                                                                                                                    \\\\\n",
       "\t It lacked flavor, seemed undercooked, and dry.                                                                                                        & 0                                                                                                                                                    \\\\\n",
       "\t It really is impressive that the place hasn't closed down.                                                                                            & 0                                                                                                                                                    \\\\\n",
       "\t I would avoid this place if you are staying in the Mirage.                                                                                            & 0                                                                                                                                                    \\\\\n",
       "\t The refried beans that came with my meal were dried out and crusty and the food was bland.                                                            & 0                                                                                                                                                    \\\\\n",
       "\t Spend your money and time some place else.                                                                                                            & 0                                                                                                                                                    \\\\\n",
       "\t A lady at the table next to us found a live green caterpillar In her salad.                                                                           & 0                                                                                                                                                    \\\\\n",
       "\t the presentation of the food was awful.                                                                                                               & 0                                                                                                                                                    \\\\\n",
       "\t I can't tell you how disappointed I was.                                                                                                              & 0                                                                                                                                                    \\\\\n",
       "\t I think food should have flavor and texture and both were lacking.                                                                                    & 0                                                                                                                                                    \\\\\n",
       "\t Appetite instantly gone.                                                                                                                              & 0                                                                                                                                                    \\\\\n",
       "\t Overall I was not impressed and would not go back.                                                                                                    & 0                                                                                                                                                    \\\\\n",
       "\t The whole experience was underwhelming, and I think we'll just go to Ninja Sushi next time.                                                           & 0                                                                                                                                                    \\\\\n",
       "\t Then, as if I hadn't wasted enough of my life there, they poured salt in the wound by drawing out the time it took to bring the check.                & 0                                                                                                                                                    \\\\\n",
       "\\end{tabular}\n"
      ],
      "text/markdown": [
       "\n",
       "| Review | Liked |\n",
       "|---|---|\n",
       "| Wow... Loved this place.                                                                                                                      | 1                                                                                                                                             |\n",
       "| Crust is not good.                                                                                                                            | 0                                                                                                                                             |\n",
       "| Not tasty and the texture was just nasty.                                                                                                     | 0                                                                                                                                             |\n",
       "| Stopped by during the late May bank holiday off Rick Steve recommendation and loved it.                                                       | 1                                                                                                                                             |\n",
       "| The selection on the menu was great and so were the prices.                                                                                   | 1                                                                                                                                             |\n",
       "| Now I am getting angry and I want my damn pho.                                                                                                | 0                                                                                                                                             |\n",
       "| Honeslty it didn't taste THAT fresh.)                                                                                                         | 0                                                                                                                                             |\n",
       "| The potatoes were like rubber and you could tell they had been made up ahead of time being kept under a warmer.                               | 0                                                                                                                                             |\n",
       "| The fries were great too.                                                                                                                     | 1                                                                                                                                             |\n",
       "| A great touch.                                                                                                                                | 1                                                                                                                                             |\n",
       "| Service was very prompt.                                                                                                                      | 1                                                                                                                                             |\n",
       "| Would not go back.                                                                                                                            | 0                                                                                                                                             |\n",
       "| The cashier had no care what so ever on what I had to say it still ended up being wayyy overpriced.                                           | 0                                                                                                                                             |\n",
       "| I tried the Cape Cod ravoli, chicken, with cranberry...mmmm!                                                                                  | 1                                                                                                                                             |\n",
       "| I was disgusted because I was pretty sure that was human hair.                                                                                | 0                                                                                                                                             |\n",
       "| I was shocked because no signs indicate cash only.                                                                                            | 0                                                                                                                                             |\n",
       "| Highly recommended.                                                                                                                           | 1                                                                                                                                             |\n",
       "| Waitress was a little slow in service.                                                                                                        | 0                                                                                                                                             |\n",
       "| This place is not worth your time, let alone Vegas.                                                                                           | 0                                                                                                                                             |\n",
       "| did not like at all.                                                                                                                          | 0                                                                                                                                             |\n",
       "| The Burrittos Blah!                                                                                                                           | 0                                                                                                                                             |\n",
       "| The food, amazing.                                                                                                                            | 1                                                                                                                                             |\n",
       "| Service is also cute.                                                                                                                         | 1                                                                                                                                             |\n",
       "| I could care less... The interior is just beautiful.                                                                                          | 1                                                                                                                                             |\n",
       "| So they performed.                                                                                                                            | 1                                                                                                                                             |\n",
       "| That's right....the red velvet cake.....ohhh this stuff is so good.                                                                           | 1                                                                                                                                             |\n",
       "| - They never brought a salad we asked for.                                                                                                    | 0                                                                                                                                             |\n",
       "| This hole in the wall has great Mexican street tacos, and friendly staff.                                                                     | 1                                                                                                                                             |\n",
       "| Took an hour to get our food only 4 tables in restaurant my food was Luke warm, Our sever was running around like he was totally overwhelmed. | 0                                                                                                                                             |\n",
       "| The worst was the salmon sashimi.                                                                                                             | 0                                                                                                                                             |\n",
       "| ... | ... |\n",
       "| I immediately said I wanted to talk to the manager but I did not want to talk to the guy who was doing shots of fireball behind the bar.              | 0                                                                                                                                                     |\n",
       "| The ambiance isn't much better.                                                                                                                       | 0                                                                                                                                                     |\n",
       "| Unfortunately, it only set us up for disapppointment with our entrees.                                                                                | 0                                                                                                                                                     |\n",
       "| The food wasn't good.                                                                                                                                 | 0                                                                                                                                                     |\n",
       "| Your servers suck, wait, correction, our server Heimer sucked.                                                                                        | 0                                                                                                                                                     |\n",
       "| What happened next was pretty....off putting.                                                                                                         | 0                                                                                                                                                     |\n",
       "| too bad cause I know it's family owned, I really wanted to like this place.                                                                           | 0                                                                                                                                                     |\n",
       "| Overpriced for what you are getting.                                                                                                                  | 0                                                                                                                                                     |\n",
       "| I vomited in the bathroom mid lunch.                                                                                                                  | 0                                                                                                                                                     |\n",
       "| I kept looking at the time and it had soon become 35 minutes, yet still no food.                                                                      | 0                                                                                                                                                     |\n",
       "| I have been to very few places to eat that under no circumstances would I ever return to, and this tops the list.                                     | 0                                                                                                                                                     |\n",
       "| We started with the tuna sashimi which was brownish in color and obviously wasn't fresh.                                                              | 0                                                                                                                                                     |\n",
       "| Food was below average.                                                                                                                               | 0                                                                                                                                                     |\n",
       "| It sure does beat the nachos at the movies but I would expect a little bit more coming from a restaurant.                                             | 0                                                                                                                                                     |\n",
       "| All in all, Ha Long Bay was a bit of a flop.                                                                                                          | 0                                                                                                                                                     |\n",
       "| The problem I have is that they charge $11.99 for a sandwich that is no bigger than a Subway sub (which offers better and more amount of vegetables). | 0                                                                                                                                                     |\n",
       "| Shrimp- When I unwrapped it (I live only 1/2 a mile from Brushfire) it was literally ice cold.                                                        | 0                                                                                                                                                     |\n",
       "| It lacked flavor, seemed undercooked, and dry.                                                                                                        | 0                                                                                                                                                     |\n",
       "| It really is impressive that the place hasn't closed down.                                                                                            | 0                                                                                                                                                     |\n",
       "| I would avoid this place if you are staying in the Mirage.                                                                                            | 0                                                                                                                                                     |\n",
       "| The refried beans that came with my meal were dried out and crusty and the food was bland.                                                            | 0                                                                                                                                                     |\n",
       "| Spend your money and time some place else.                                                                                                            | 0                                                                                                                                                     |\n",
       "| A lady at the table next to us found a live green caterpillar In her salad.                                                                           | 0                                                                                                                                                     |\n",
       "| the presentation of the food was awful.                                                                                                               | 0                                                                                                                                                     |\n",
       "| I can't tell you how disappointed I was.                                                                                                              | 0                                                                                                                                                     |\n",
       "| I think food should have flavor and texture and both were lacking.                                                                                    | 0                                                                                                                                                     |\n",
       "| Appetite instantly gone.                                                                                                                              | 0                                                                                                                                                     |\n",
       "| Overall I was not impressed and would not go back.                                                                                                    | 0                                                                                                                                                     |\n",
       "| The whole experience was underwhelming, and I think we'll just go to Ninja Sushi next time.                                                           | 0                                                                                                                                                     |\n",
       "| Then, as if I hadn't wasted enough of my life there, they poured salt in the wound by drawing out the time it took to bring the check.                | 0                                                                                                                                                     |\n",
       "\n"
      ],
      "text/plain": [
       "     Review                                                                                                                                               \n",
       "1    Wow... Loved this place.                                                                                                                             \n",
       "2    Crust is not good.                                                                                                                                   \n",
       "3    Not tasty and the texture was just nasty.                                                                                                            \n",
       "4    Stopped by during the late May bank holiday off Rick Steve recommendation and loved it.                                                              \n",
       "5    The selection on the menu was great and so were the prices.                                                                                          \n",
       "6    Now I am getting angry and I want my damn pho.                                                                                                       \n",
       "7    Honeslty it didn't taste THAT fresh.)                                                                                                                \n",
       "8    The potatoes were like rubber and you could tell they had been made up ahead of time being kept under a warmer.                                      \n",
       "9    The fries were great too.                                                                                                                            \n",
       "10   A great touch.                                                                                                                                       \n",
       "11   Service was very prompt.                                                                                                                             \n",
       "12   Would not go back.                                                                                                                                   \n",
       "13   The cashier had no care what so ever on what I had to say it still ended up being wayyy overpriced.                                                  \n",
       "14   I tried the Cape Cod ravoli, chicken, with cranberry...mmmm!                                                                                         \n",
       "15   I was disgusted because I was pretty sure that was human hair.                                                                                       \n",
       "16   I was shocked because no signs indicate cash only.                                                                                                   \n",
       "17   Highly recommended.                                                                                                                                  \n",
       "18   Waitress was a little slow in service.                                                                                                               \n",
       "19   This place is not worth your time, let alone Vegas.                                                                                                  \n",
       "20   did not like at all.                                                                                                                                 \n",
       "21   The Burrittos Blah!                                                                                                                                  \n",
       "22   The food, amazing.                                                                                                                                   \n",
       "23   Service is also cute.                                                                                                                                \n",
       "24   I could care less... The interior is just beautiful.                                                                                                 \n",
       "25   So they performed.                                                                                                                                   \n",
       "26   That's right....the red velvet cake.....ohhh this stuff is so good.                                                                                  \n",
       "27   - They never brought a salad we asked for.                                                                                                           \n",
       "28   This hole in the wall has great Mexican street tacos, and friendly staff.                                                                            \n",
       "29   Took an hour to get our food only 4 tables in restaurant my food was Luke warm, Our sever was running around like he was totally overwhelmed.        \n",
       "30   The worst was the salmon sashimi.                                                                                                                    \n",
       "...  ...                                                                                                                                                  \n",
       "971  I immediately said I wanted to talk to the manager but I did not want to talk to the guy who was doing shots of fireball behind the bar.             \n",
       "972  The ambiance isn't much better.                                                                                                                      \n",
       "973  Unfortunately, it only set us up for disapppointment with our entrees.                                                                               \n",
       "974  The food wasn't good.                                                                                                                                \n",
       "975  Your servers suck, wait, correction, our server Heimer sucked.                                                                                       \n",
       "976  What happened next was pretty....off putting.                                                                                                        \n",
       "977  too bad cause I know it's family owned, I really wanted to like this place.                                                                          \n",
       "978  Overpriced for what you are getting.                                                                                                                 \n",
       "979  I vomited in the bathroom mid lunch.                                                                                                                 \n",
       "980  I kept looking at the time and it had soon become 35 minutes, yet still no food.                                                                     \n",
       "981  I have been to very few places to eat that under no circumstances would I ever return to, and this tops the list.                                    \n",
       "982  We started with the tuna sashimi which was brownish in color and obviously wasn't fresh.                                                             \n",
       "983  Food was below average.                                                                                                                              \n",
       "984  It sure does beat the nachos at the movies but I would expect a little bit more coming from a restaurant.                                            \n",
       "985  All in all, Ha Long Bay was a bit of a flop.                                                                                                         \n",
       "986  The problem I have is that they charge $11.99 for a sandwich that is no bigger than a Subway sub (which offers better and more amount of vegetables).\n",
       "987  Shrimp- When I unwrapped it (I live only 1/2 a mile from Brushfire) it was literally ice cold.                                                       \n",
       "988  It lacked flavor, seemed undercooked, and dry.                                                                                                       \n",
       "989  It really is impressive that the place hasn't closed down.                                                                                           \n",
       "990  I would avoid this place if you are staying in the Mirage.                                                                                           \n",
       "991  The refried beans that came with my meal were dried out and crusty and the food was bland.                                                           \n",
       "992  Spend your money and time some place else.                                                                                                           \n",
       "993  A lady at the table next to us found a live green caterpillar In her salad.                                                                          \n",
       "994  the presentation of the food was awful.                                                                                                              \n",
       "995  I can't tell you how disappointed I was.                                                                                                             \n",
       "996  I think food should have flavor and texture and both were lacking.                                                                                   \n",
       "997  Appetite instantly gone.                                                                                                                             \n",
       "998  Overall I was not impressed and would not go back.                                                                                                   \n",
       "999  The whole experience was underwhelming, and I think we'll just go to Ninja Sushi next time.                                                          \n",
       "1000 Then, as if I hadn't wasted enough of my life there, they poured salt in the wound by drawing out the time it took to bring the check.               \n",
       "     Liked\n",
       "1    1    \n",
       "2    0    \n",
       "3    0    \n",
       "4    1    \n",
       "5    1    \n",
       "6    0    \n",
       "7    0    \n",
       "8    0    \n",
       "9    1    \n",
       "10   1    \n",
       "11   1    \n",
       "12   0    \n",
       "13   0    \n",
       "14   1    \n",
       "15   0    \n",
       "16   0    \n",
       "17   1    \n",
       "18   0    \n",
       "19   0    \n",
       "20   0    \n",
       "21   0    \n",
       "22   1    \n",
       "23   1    \n",
       "24   1    \n",
       "25   1    \n",
       "26   1    \n",
       "27   0    \n",
       "28   1    \n",
       "29   0    \n",
       "30   0    \n",
       "...  ...  \n",
       "971  0    \n",
       "972  0    \n",
       "973  0    \n",
       "974  0    \n",
       "975  0    \n",
       "976  0    \n",
       "977  0    \n",
       "978  0    \n",
       "979  0    \n",
       "980  0    \n",
       "981  0    \n",
       "982  0    \n",
       "983  0    \n",
       "984  0    \n",
       "985  0    \n",
       "986  0    \n",
       "987  0    \n",
       "988  0    \n",
       "989  0    \n",
       "990  0    \n",
       "991  0    \n",
       "992  0    \n",
       "993  0    \n",
       "994  0    \n",
       "995  0    \n",
       "996  0    \n",
       "997  0    \n",
       "998  0    \n",
       "999  0    \n",
       "1000 0    "
      ]
     },
     "metadata": {},
     "output_type": "display_data"
    }
   ],
   "source": [
    "dataset"
   ]
  },
  {
   "cell_type": "code",
   "execution_count": 3,
   "metadata": {},
   "outputs": [
    {
     "name": "stderr",
     "output_type": "stream",
     "text": [
      "Loading required package: NLP\n"
     ]
    }
   ],
   "source": [
    "#install.packages('tm')\n",
    "library('tm')"
   ]
  },
  {
   "cell_type": "code",
   "execution_count": 4,
   "metadata": {},
   "outputs": [],
   "source": [
    "corpus = VCorpus(VectorSource(dataset$Review))"
   ]
  },
  {
   "cell_type": "code",
   "execution_count": 5,
   "metadata": {},
   "outputs": [],
   "source": [
    "corpus = tm_map(corpus, content_transformer(tolower))"
   ]
  },
  {
   "cell_type": "code",
   "execution_count": 6,
   "metadata": {},
   "outputs": [],
   "source": [
    "#as.character(corpus[[1]])"
   ]
  },
  {
   "cell_type": "code",
   "execution_count": 7,
   "metadata": {},
   "outputs": [],
   "source": [
    "corpus = tm_map(corpus, removeNumbers)"
   ]
  },
  {
   "cell_type": "code",
   "execution_count": 8,
   "metadata": {},
   "outputs": [],
   "source": [
    "#as.character(corpus[[841]])"
   ]
  },
  {
   "cell_type": "code",
   "execution_count": 9,
   "metadata": {},
   "outputs": [],
   "source": [
    "corpus = tm_map(corpus,removePunctuation)"
   ]
  },
  {
   "cell_type": "code",
   "execution_count": 10,
   "metadata": {},
   "outputs": [],
   "source": [
    "#as.character(corpus[[1]])"
   ]
  },
  {
   "cell_type": "code",
   "execution_count": 11,
   "metadata": {},
   "outputs": [],
   "source": [
    "corpus = tm_map(corpus, removeWords, stopwords())"
   ]
  },
  {
   "cell_type": "code",
   "execution_count": 12,
   "metadata": {},
   "outputs": [],
   "source": [
    "#as.character(corpus[[1]])"
   ]
  },
  {
   "cell_type": "code",
   "execution_count": 13,
   "metadata": {},
   "outputs": [],
   "source": [
    "#install.packages('SnowballC')\n",
    "library('SnowballC')"
   ]
  },
  {
   "cell_type": "code",
   "execution_count": 14,
   "metadata": {},
   "outputs": [],
   "source": [
    "corpus = tm_map(corpus, stemDocument)"
   ]
  },
  {
   "cell_type": "code",
   "execution_count": 15,
   "metadata": {},
   "outputs": [],
   "source": [
    "#as.character(corpus[[1]])"
   ]
  },
  {
   "cell_type": "code",
   "execution_count": 16,
   "metadata": {},
   "outputs": [],
   "source": [
    "corpus = tm_map(corpus, stripWhitespace)"
   ]
  },
  {
   "cell_type": "code",
   "execution_count": 17,
   "metadata": {},
   "outputs": [
    {
     "data": {
      "text/html": [
       "'buck head realli expect better food'"
      ],
      "text/latex": [
       "'buck head realli expect better food'"
      ],
      "text/markdown": [
       "'buck head realli expect better food'"
      ],
      "text/plain": [
       "[1] \"buck head realli expect better food\""
      ]
     },
     "metadata": {},
     "output_type": "display_data"
    }
   ],
   "source": [
    "as.character(corpus[[841]])"
   ]
  },
  {
   "cell_type": "code",
   "execution_count": 18,
   "metadata": {},
   "outputs": [],
   "source": [
    "dtm = DocumentTermMatrix(corpus)"
   ]
  },
  {
   "cell_type": "code",
   "execution_count": 19,
   "metadata": {},
   "outputs": [],
   "source": [
    "dtm = removeSparseTerms(dtm, 0.999)"
   ]
  },
  {
   "cell_type": "code",
   "execution_count": 20,
   "metadata": {},
   "outputs": [
    {
     "data": {
      "text/plain": [
       "<<DocumentTermMatrix (documents: 1000, terms: 691)>>\n",
       "Non-/sparse entries: 4549/686451\n",
       "Sparsity           : 99%\n",
       "Maximal term length: 12\n",
       "Weighting          : term frequency (tf)"
      ]
     },
     "metadata": {},
     "output_type": "display_data"
    }
   ],
   "source": [
    "dtm"
   ]
  },
  {
   "cell_type": "code",
   "execution_count": 21,
   "metadata": {},
   "outputs": [],
   "source": [
    "dataset_rev = as.data.frame(as.matrix(dtm))"
   ]
  },
  {
   "cell_type": "code",
   "execution_count": 24,
   "metadata": {
    "scrolled": false
   },
   "outputs": [],
   "source": [
    "dataset_rev$Liked = dataset$Liked"
   ]
  },
  {
   "cell_type": "code",
   "execution_count": 25,
   "metadata": {},
   "outputs": [],
   "source": [
    "dataset = dataset_rev"
   ]
  },
  {
   "cell_type": "code",
   "execution_count": 27,
   "metadata": {},
   "outputs": [],
   "source": [
    "dataset$Liked = factor(dataset$Liked, levels = c(0, 1))"
   ]
  },
  {
   "cell_type": "code",
   "execution_count": 30,
   "metadata": {},
   "outputs": [],
   "source": [
    "library('caTools')\n",
    "set.seed(123)"
   ]
  },
  {
   "cell_type": "code",
   "execution_count": 33,
   "metadata": {},
   "outputs": [],
   "source": [
    "split = sample.split(dataset$Liked ,SplitRatio=0.8 )\n",
    "training_set = subset(dataset, split == TRUE)\n",
    "test_set = subset(dataset, split==FALSE)"
   ]
  },
  {
   "cell_type": "code",
   "execution_count": 34,
   "metadata": {},
   "outputs": [
    {
     "data": {
      "text/html": [
       "1000"
      ],
      "text/latex": [
       "1000"
      ],
      "text/markdown": [
       "1000"
      ],
      "text/plain": [
       "[1] 1000"
      ]
     },
     "metadata": {},
     "output_type": "display_data"
    },
    {
     "data": {
      "text/html": [
       "800"
      ],
      "text/latex": [
       "800"
      ],
      "text/markdown": [
       "800"
      ],
      "text/plain": [
       "[1] 800"
      ]
     },
     "metadata": {},
     "output_type": "display_data"
    },
    {
     "data": {
      "text/html": [
       "200"
      ],
      "text/latex": [
       "200"
      ],
      "text/markdown": [
       "200"
      ],
      "text/plain": [
       "[1] 200"
      ]
     },
     "metadata": {},
     "output_type": "display_data"
    }
   ],
   "source": [
    "nrow(dataset)\n",
    "nrow(training_set)\n",
    "nrow(test_set)"
   ]
  },
  {
   "cell_type": "code",
   "execution_count": 35,
   "metadata": {},
   "outputs": [
    {
     "name": "stderr",
     "output_type": "stream",
     "text": [
      "randomForest 4.6-14\n",
      "Type rfNews() to see new features/changes/bug fixes.\n"
     ]
    }
   ],
   "source": [
    "library('randomForest')\n",
    "classifier  = randomForest(x = training_set[,-692],\n",
    "                           y = training_set$Liked,\n",
    "                           ntree = 10)"
   ]
  },
  {
   "cell_type": "code",
   "execution_count": 36,
   "metadata": {},
   "outputs": [],
   "source": [
    "y_pred = predict(classifier, newdata=test_set[,-692], type = 'class')"
   ]
  },
  {
   "cell_type": "code",
   "execution_count": 37,
   "metadata": {},
   "outputs": [
    {
     "data": {
      "text/plain": [
       "   y_pred\n",
       "     0  1\n",
       "  0 81 19\n",
       "  1 25 75"
      ]
     },
     "metadata": {},
     "output_type": "display_data"
    }
   ],
   "source": [
    "cm = table(test_set[, 692], y_pred)\n",
    "cm"
   ]
  },
  {
   "cell_type": "code",
   "execution_count": null,
   "metadata": {},
   "outputs": [],
   "source": []
  }
 ],
 "metadata": {
  "kernelspec": {
   "display_name": "R",
   "language": "R",
   "name": "ir"
  },
  "language_info": {
   "codemirror_mode": "r",
   "file_extension": ".r",
   "mimetype": "text/x-r-source",
   "name": "R",
   "pygments_lexer": "r",
   "version": "3.6.1"
  }
 },
 "nbformat": 4,
 "nbformat_minor": 4
}
